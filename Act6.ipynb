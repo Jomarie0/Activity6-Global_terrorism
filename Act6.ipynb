{
 "cells": [
  {
   "cell_type": "code",
   "execution_count": 1,
   "id": "524c38f9-721a-4e00-b916-b9dd74503877",
   "metadata": {},
   "outputs": [],
   "source": [
    "import pandas as pd\n",
    "import numpy as np\n",
    "import matplotlib.pyplot as plt\n",
    "import seaborn as sns\n",
    "import folium\n",
    "from folium.plugins import HeatMap\n",
    "import warnings\n",
    "warnings.filterwarnings('ignore')"
   ]
  },
  {
   "cell_type": "code",
   "execution_count": 2,
   "id": "741e24c9-2657-4a22-bdcf-a2d1f0dc93e6",
   "metadata": {},
   "outputs": [],
   "source": [
    "global_terrorist = pd.read_csv('datasets//Global_terrorist.csv', encoding='ISO-8859-1')"
   ]
  },
  {
   "cell_type": "code",
   "execution_count": 3,
   "id": "4c357fa7-0f3e-44e3-9ee4-7b5ad1304451",
   "metadata": {},
   "outputs": [
    {
     "name": "stdout",
     "output_type": "stream",
     "text": [
      "<class 'pandas.core.frame.DataFrame'>\n",
      "RangeIndex: 181691 entries, 0 to 181690\n",
      "Columns: 135 entries, eventid to related\n",
      "dtypes: float64(55), int64(22), object(58)\n",
      "memory usage: 187.1+ MB\n"
     ]
    }
   ],
   "source": [
    "global_terrorist.info()"
   ]
  },
  {
   "cell_type": "code",
   "execution_count": 4,
   "id": "37c5daee-8707-4042-bb8b-76f6f078168e",
   "metadata": {},
   "outputs": [
    {
     "data": {
      "text/plain": [
       "eventid            0\n",
       "iyear              0\n",
       "imonth             0\n",
       "iday               0\n",
       "approxdate    172452\n",
       "               ...  \n",
       "INT_LOG            0\n",
       "INT_IDEO           0\n",
       "INT_MISC           0\n",
       "INT_ANY            0\n",
       "related       156653\n",
       "Length: 135, dtype: int64"
      ]
     },
     "execution_count": 4,
     "metadata": {},
     "output_type": "execute_result"
    }
   ],
   "source": [
    "global_terrorist.isnull().sum()"
   ]
  },
  {
   "cell_type": "markdown",
   "id": "2b1dfae3-597a-4125-ad63-b2bdeb660986",
   "metadata": {},
   "source": [
    "<h1>Filtering</h1>"
   ]
  },
  {
   "cell_type": "code",
   "execution_count": 5,
   "id": "4f35e923-a0bf-4769-a251-b62b7293fb22",
   "metadata": {},
   "outputs": [
    {
     "data": {
      "text/plain": [
       "iyear\n",
       "2014    16903\n",
       "2015    14965\n",
       "2016    13587\n",
       "2013    12036\n",
       "2017    10900\n",
       "Name: count, dtype: int64"
      ]
     },
     "execution_count": 5,
     "metadata": {},
     "output_type": "execute_result"
    }
   ],
   "source": [
    "global_terrorist['iyear'].value_counts().head(5)"
   ]
  },
  {
   "cell_type": "code",
   "execution_count": 6,
   "id": "d92c0a41-64d7-41fc-b39c-aac2386ef7c9",
   "metadata": {},
   "outputs": [
    {
     "data": {
      "text/plain": [
       "region_txt\n",
       "Middle East & North Africa    50474\n",
       "South Asia                    44974\n",
       "South America                 18978\n",
       "Sub-Saharan Africa            17550\n",
       "Western Europe                16639\n",
       "Name: count, dtype: int64"
      ]
     },
     "execution_count": 6,
     "metadata": {},
     "output_type": "execute_result"
    }
   ],
   "source": [
    "global_terrorist['region_txt'].value_counts().head(5)"
   ]
  },
  {
   "cell_type": "code",
   "execution_count": 7,
   "id": "8b3ee795-8a3f-4504-87a0-caaa0d8dd326",
   "metadata": {},
   "outputs": [
    {
     "data": {
      "text/plain": [
       "attacktype1_txt\n",
       "Bombing/Explosion                      88255\n",
       "Armed Assault                          42669\n",
       "Assassination                          19312\n",
       "Hostage Taking (Kidnapping)            11158\n",
       "Facility/Infrastructure Attack         10356\n",
       "Unknown                                 7276\n",
       "Unarmed Assault                         1015\n",
       "Hostage Taking (Barricade Incident)      991\n",
       "Hijacking                                659\n",
       "Name: count, dtype: int64"
      ]
     },
     "execution_count": 7,
     "metadata": {},
     "output_type": "execute_result"
    }
   ],
   "source": [
    "global_terrorist['attacktype1_txt'].value_counts()"
   ]
  },
  {
   "cell_type": "code",
   "execution_count": 8,
   "id": "5c3ca786-8c53-4fcf-a29f-1e42004bceee",
   "metadata": {},
   "outputs": [
    {
     "data": {
      "text/plain": [
       "targtype1_txt\n",
       "Private Citizens & Property    43511\n",
       "Military                       27984\n",
       "Police                         24506\n",
       "Government (General)           21283\n",
       "Business                       20669\n",
       "Name: count, dtype: int64"
      ]
     },
     "execution_count": 8,
     "metadata": {},
     "output_type": "execute_result"
    }
   ],
   "source": [
    "global_terrorist['targtype1_txt'].value_counts().head(5)"
   ]
  },
  {
   "cell_type": "code",
   "execution_count": 9,
   "id": "a1ed6113-2a4f-4aae-ad7c-4292796e0a1b",
   "metadata": {},
   "outputs": [
    {
     "data": {
      "text/plain": [
       "weaptype1_txt\n",
       "Explosives                                                                     92426\n",
       "Firearms                                                                       58524\n",
       "Unknown                                                                        15157\n",
       "Incendiary                                                                     11135\n",
       "Melee                                                                           3655\n",
       "Chemical                                                                         321\n",
       "Sabotage Equipment                                                               141\n",
       "Vehicle (not to include vehicle-borne explosives, i.e., car or truck bombs)      136\n",
       "Other                                                                            114\n",
       "Biological                                                                        35\n",
       "Fake Weapons                                                                      33\n",
       "Radiological                                                                      14\n",
       "Name: count, dtype: int64"
      ]
     },
     "execution_count": 9,
     "metadata": {},
     "output_type": "execute_result"
    }
   ],
   "source": [
    "global_terrorist['weaptype1_txt'].value_counts()"
   ]
  },
  {
   "cell_type": "code",
   "execution_count": 10,
   "id": "54270392-5a08-4fcb-b8bd-a220dc9de31a",
   "metadata": {},
   "outputs": [
    {
     "data": {
      "text/plain": [
       "weapsubtype1_txt\n",
       "Unknown Explosive Type                       44980\n",
       "Unknown Gun Type                             33137\n",
       "Automatic or Semi-Automatic Rifle            17412\n",
       "Vehicle                                       9900\n",
       "Projectile (rockets, mortars, RPGs, etc.)     9848\n",
       "Name: count, dtype: int64"
      ]
     },
     "execution_count": 10,
     "metadata": {},
     "output_type": "execute_result"
    }
   ],
   "source": [
    "global_terrorist['weapsubtype1_txt'].value_counts().head(5)\n"
   ]
  },
  {
   "cell_type": "markdown",
   "id": "7b9b822f-83f6-4bb7-8a6f-eb60480cfc11",
   "metadata": {},
   "source": [
    "<h1>Insights from Conflict: Analyzing the Aftermath of the Terrorist Attacks In PH</h1>"
   ]
  },
  {
   "cell_type": "markdown",
   "id": "db941eec-e90d-47a0-9080-394c66ab0c34",
   "metadata": {},
   "source": [
    "# Marawi Siege"
   ]
  },
  {
   "cell_type": "code",
   "execution_count": 11,
   "id": "ff59d1ad-46e9-4bbc-8b41-7bdb8d282a96",
   "metadata": {},
   "outputs": [],
   "source": [
    "filter1 = global_terrorist[global_terrorist['iyear'] == 2017]"
   ]
  },
  {
   "cell_type": "code",
   "execution_count": 12,
   "id": "2ea2374d-9b26-45b9-9ae5-759ad25dd4af",
   "metadata": {},
   "outputs": [],
   "source": [
    "# filter2 = filter1[filter1['country_txt'] == 'Philippines']"
   ]
  },
  {
   "cell_type": "code",
   "execution_count": 13,
   "id": "1151da63-8a17-4287-9eda-8d02bad8b5ae",
   "metadata": {},
   "outputs": [],
   "source": [
    "filter2 = filter1[filter1['country_txt'] == 'Philippines']"
   ]
  },
  {
   "cell_type": "code",
   "execution_count": 14,
   "id": "c92e8539-5623-456a-88bc-8cff7d8812e6",
   "metadata": {},
   "outputs": [],
   "source": [
    "filter3 = filter2[(filter2['imonth'] >= 5) & (filter2['imonth'] <= 10)]"
   ]
  },
  {
   "cell_type": "code",
   "execution_count": 15,
   "id": "2e7cc03f-8f4b-4fdf-ae27-af95c4f4b3e0",
   "metadata": {},
   "outputs": [],
   "source": [
    "filter4 = filter3[filter3['city'] == 'Marawi']"
   ]
  },
  {
   "cell_type": "code",
   "execution_count": 16,
   "id": "c8ef2474-9e56-4239-8028-a7ed45d09534",
   "metadata": {},
   "outputs": [],
   "source": [
    "# filter4[filter4['attacktype1_txt'] == 'Bombing/Explosion'].count()"
   ]
  },
  {
   "cell_type": "code",
   "execution_count": 17,
   "id": "a38fbba6-d9f6-4b1a-b4d7-5916f722281b",
   "metadata": {},
   "outputs": [],
   "source": [
    "filter5 = filter4[filter4['attacktype1_txt'] == 'Hostage Taking (Kidnapping)']\n",
    "# filter4['attacktype1_txt'].value_counts()"
   ]
  },
  {
   "cell_type": "code",
   "execution_count": 18,
   "id": "94a296b4-dd21-43e3-9631-0312d81d68b0",
   "metadata": {},
   "outputs": [],
   "source": [
    "filter5_v2 = filter4[filter4['attacktype1_txt'] == 'Bombing/Explosion']"
   ]
  },
  {
   "cell_type": "code",
   "execution_count": 29,
   "id": "3bcd50e6-17c7-43c1-acf6-fc57180fce8a",
   "metadata": {},
   "outputs": [
    {
     "data": {
      "text/plain": [
       "targtype1_txt\n",
       "Military                          8\n",
       "Private Citizens & Property       4\n",
       "Police                            3\n",
       "Business                          1\n",
       "Educational Institution           1\n",
       "Religious Figures/Institutions    1\n",
       "Other                             1\n",
       "Name: count, dtype: int64"
      ]
     },
     "execution_count": 29,
     "metadata": {},
     "output_type": "execute_result"
    }
   ],
   "source": [
    "filter4['targtype1_txt'].value_counts()"
   ]
  },
  {
   "cell_type": "code",
   "execution_count": 30,
   "id": "9258399d-a614-4273-ac97-d701ccce964c",
   "metadata": {},
   "outputs": [],
   "source": [
    "filter5_v3 = filter4[filter4['targtype1_txt'] == 'Military']"
   ]
  },
  {
   "cell_type": "markdown",
   "id": "c7b68e79-c659-436a-873d-96466e4fed48",
   "metadata": {},
   "source": [
    "<h1>Heat Map hostage Taking on Marawi Siege</h1>"
   ]
  },
  {
   "cell_type": "code",
   "execution_count": 31,
   "id": "ffa17f3b-bde5-46f7-ab00-ac30d15a4cdf",
   "metadata": {},
   "outputs": [
    {
     "data": {
      "text/html": [
       "<div style=\"width:100%;\"><div style=\"position:relative;width:100%;height:0;padding-bottom:60%;\"><span style=\"color:#565656\">Make this Notebook Trusted to load map: File -> Trust Notebook</span><iframe srcdoc=\"&lt;!DOCTYPE html&gt;\n",
       "&lt;html&gt;\n",
       "&lt;head&gt;\n",
       "    \n",
       "    &lt;meta http-equiv=&quot;content-type&quot; content=&quot;text/html; charset=UTF-8&quot; /&gt;\n",
       "    \n",
       "        &lt;script&gt;\n",
       "            L_NO_TOUCH = false;\n",
       "            L_DISABLE_3D = false;\n",
       "        &lt;/script&gt;\n",
       "    \n",
       "    &lt;style&gt;html, body {width: 100%;height: 100%;margin: 0;padding: 0;}&lt;/style&gt;\n",
       "    &lt;style&gt;#map {position:absolute;top:0;bottom:0;right:0;left:0;}&lt;/style&gt;\n",
       "    &lt;script src=&quot;https://cdn.jsdelivr.net/npm/leaflet@1.9.3/dist/leaflet.js&quot;&gt;&lt;/script&gt;\n",
       "    &lt;script src=&quot;https://code.jquery.com/jquery-3.7.1.min.js&quot;&gt;&lt;/script&gt;\n",
       "    &lt;script src=&quot;https://cdn.jsdelivr.net/npm/bootstrap@5.2.2/dist/js/bootstrap.bundle.min.js&quot;&gt;&lt;/script&gt;\n",
       "    &lt;script src=&quot;https://cdnjs.cloudflare.com/ajax/libs/Leaflet.awesome-markers/2.0.2/leaflet.awesome-markers.js&quot;&gt;&lt;/script&gt;\n",
       "    &lt;link rel=&quot;stylesheet&quot; href=&quot;https://cdn.jsdelivr.net/npm/leaflet@1.9.3/dist/leaflet.css&quot;/&gt;\n",
       "    &lt;link rel=&quot;stylesheet&quot; href=&quot;https://cdn.jsdelivr.net/npm/bootstrap@5.2.2/dist/css/bootstrap.min.css&quot;/&gt;\n",
       "    &lt;link rel=&quot;stylesheet&quot; href=&quot;https://netdna.bootstrapcdn.com/bootstrap/3.0.0/css/bootstrap-glyphicons.css&quot;/&gt;\n",
       "    &lt;link rel=&quot;stylesheet&quot; href=&quot;https://cdn.jsdelivr.net/npm/@fortawesome/fontawesome-free@6.2.0/css/all.min.css&quot;/&gt;\n",
       "    &lt;link rel=&quot;stylesheet&quot; href=&quot;https://cdnjs.cloudflare.com/ajax/libs/Leaflet.awesome-markers/2.0.2/leaflet.awesome-markers.css&quot;/&gt;\n",
       "    &lt;link rel=&quot;stylesheet&quot; href=&quot;https://cdn.jsdelivr.net/gh/python-visualization/folium/folium/templates/leaflet.awesome.rotate.min.css&quot;/&gt;\n",
       "    \n",
       "            &lt;meta name=&quot;viewport&quot; content=&quot;width=device-width,\n",
       "                initial-scale=1.0, maximum-scale=1.0, user-scalable=no&quot; /&gt;\n",
       "            &lt;style&gt;\n",
       "                #map_298d22f8f65a1ba016ef64c834fc5523 {\n",
       "                    position: relative;\n",
       "                    width: 100.0%;\n",
       "                    height: 100.0%;\n",
       "                    left: 0.0%;\n",
       "                    top: 0.0%;\n",
       "                }\n",
       "                .leaflet-container { font-size: 1rem; }\n",
       "            &lt;/style&gt;\n",
       "        \n",
       "    &lt;script src=&quot;https://cdn.jsdelivr.net/gh/python-visualization/folium@main/folium/templates/leaflet_heat.min.js&quot;&gt;&lt;/script&gt;\n",
       "&lt;/head&gt;\n",
       "&lt;body&gt;\n",
       "    \n",
       "    \n",
       "            &lt;div class=&quot;folium-map&quot; id=&quot;map_298d22f8f65a1ba016ef64c834fc5523&quot; &gt;&lt;/div&gt;\n",
       "        \n",
       "&lt;/body&gt;\n",
       "&lt;script&gt;\n",
       "    \n",
       "    \n",
       "            var map_298d22f8f65a1ba016ef64c834fc5523 = L.map(\n",
       "                &quot;map_298d22f8f65a1ba016ef64c834fc5523&quot;,\n",
       "                {\n",
       "                    center: [8.0, 124.3],\n",
       "                    crs: L.CRS.EPSG3857,\n",
       "                    ...{\n",
       "  &quot;zoom&quot;: 15,\n",
       "  &quot;zoomControl&quot;: true,\n",
       "  &quot;preferCanvas&quot;: false,\n",
       "}\n",
       "\n",
       "                }\n",
       "            );\n",
       "\n",
       "            \n",
       "\n",
       "        \n",
       "    \n",
       "            var tile_layer_afff772fbad790ead3ef752444711950 = L.tileLayer(\n",
       "                &quot;https://tile.openstreetmap.org/{z}/{x}/{y}.png&quot;,\n",
       "                {\n",
       "  &quot;minZoom&quot;: 0,\n",
       "  &quot;maxZoom&quot;: 19,\n",
       "  &quot;maxNativeZoom&quot;: 19,\n",
       "  &quot;noWrap&quot;: false,\n",
       "  &quot;attribution&quot;: &quot;\\u0026copy; \\u003ca href=\\&quot;https://www.openstreetmap.org/copyright\\&quot;\\u003eOpenStreetMap\\u003c/a\\u003e contributors&quot;,\n",
       "  &quot;subdomains&quot;: &quot;abc&quot;,\n",
       "  &quot;detectRetina&quot;: false,\n",
       "  &quot;tms&quot;: false,\n",
       "  &quot;opacity&quot;: 1,\n",
       "}\n",
       "\n",
       "            );\n",
       "        \n",
       "    \n",
       "            tile_layer_afff772fbad790ead3ef752444711950.addTo(map_298d22f8f65a1ba016ef64c834fc5523);\n",
       "        \n",
       "    \n",
       "            var heat_map_29e31af4f070b43d32cfe7f46c4b78ee = L.heatLayer(\n",
       "                [[8.000721, 124.293111, 1.0], [8.001314, 124.293493, 1.0], [8.005161, 124.287527, 1.0]],\n",
       "                {\n",
       "  &quot;minOpacity&quot;: 0.5,\n",
       "  &quot;maxZoom&quot;: 18,\n",
       "  &quot;radius&quot;: 25,\n",
       "  &quot;blur&quot;: 15,\n",
       "}\n",
       "            );\n",
       "        \n",
       "    \n",
       "            heat_map_29e31af4f070b43d32cfe7f46c4b78ee.addTo(map_298d22f8f65a1ba016ef64c834fc5523);\n",
       "        \n",
       "    \n",
       "            tile_layer_afff772fbad790ead3ef752444711950.addTo(map_298d22f8f65a1ba016ef64c834fc5523);\n",
       "        \n",
       "    \n",
       "            heat_map_29e31af4f070b43d32cfe7f46c4b78ee.addTo(map_298d22f8f65a1ba016ef64c834fc5523);\n",
       "        \n",
       "&lt;/script&gt;\n",
       "&lt;/html&gt;\" style=\"position:absolute;width:100%;height:100%;left:0;top:0;border:none !important;\" allowfullscreen webkitallowfullscreen mozallowfullscreen></iframe></div></div>"
      ],
      "text/plain": [
       "<folium.folium.Map at 0x1693222ad50>"
      ]
     },
     "execution_count": 31,
     "metadata": {},
     "output_type": "execute_result"
    }
   ],
   "source": [
    "coordinates = filter5.groupby(['latitude', 'longitude']).size().reset_index(name='incident_count')\n",
    "heatmap_data = coordinates[['latitude', 'longitude', 'incident_count']].values.tolist()\n",
    "Hostagetaking = folium.Map(location = [8, 124.3], zoom_start = 15)\n",
    "HeatMap(heatmap_data).add_to(Hostagetaking)\n",
    "Hostagetaking.save('terrorism_Hostagetaking.html')\n",
    "Hostagetaking"
   ]
  },
  {
   "cell_type": "markdown",
   "id": "134c17a0-767c-41fe-8420-61e1131c28e4",
   "metadata": {},
   "source": [
    "<h1>Heat Map on Bombing and Explosion on Marawi Seige</h1>"
   ]
  },
  {
   "cell_type": "code",
   "execution_count": 32,
   "id": "724b5a84-a72e-493a-bab4-67a761328a77",
   "metadata": {},
   "outputs": [
    {
     "data": {
      "text/html": [
       "<div style=\"width:100%;\"><div style=\"position:relative;width:100%;height:0;padding-bottom:60%;\"><span style=\"color:#565656\">Make this Notebook Trusted to load map: File -> Trust Notebook</span><iframe srcdoc=\"&lt;!DOCTYPE html&gt;\n",
       "&lt;html&gt;\n",
       "&lt;head&gt;\n",
       "    \n",
       "    &lt;meta http-equiv=&quot;content-type&quot; content=&quot;text/html; charset=UTF-8&quot; /&gt;\n",
       "    \n",
       "        &lt;script&gt;\n",
       "            L_NO_TOUCH = false;\n",
       "            L_DISABLE_3D = false;\n",
       "        &lt;/script&gt;\n",
       "    \n",
       "    &lt;style&gt;html, body {width: 100%;height: 100%;margin: 0;padding: 0;}&lt;/style&gt;\n",
       "    &lt;style&gt;#map {position:absolute;top:0;bottom:0;right:0;left:0;}&lt;/style&gt;\n",
       "    &lt;script src=&quot;https://cdn.jsdelivr.net/npm/leaflet@1.9.3/dist/leaflet.js&quot;&gt;&lt;/script&gt;\n",
       "    &lt;script src=&quot;https://code.jquery.com/jquery-3.7.1.min.js&quot;&gt;&lt;/script&gt;\n",
       "    &lt;script src=&quot;https://cdn.jsdelivr.net/npm/bootstrap@5.2.2/dist/js/bootstrap.bundle.min.js&quot;&gt;&lt;/script&gt;\n",
       "    &lt;script src=&quot;https://cdnjs.cloudflare.com/ajax/libs/Leaflet.awesome-markers/2.0.2/leaflet.awesome-markers.js&quot;&gt;&lt;/script&gt;\n",
       "    &lt;link rel=&quot;stylesheet&quot; href=&quot;https://cdn.jsdelivr.net/npm/leaflet@1.9.3/dist/leaflet.css&quot;/&gt;\n",
       "    &lt;link rel=&quot;stylesheet&quot; href=&quot;https://cdn.jsdelivr.net/npm/bootstrap@5.2.2/dist/css/bootstrap.min.css&quot;/&gt;\n",
       "    &lt;link rel=&quot;stylesheet&quot; href=&quot;https://netdna.bootstrapcdn.com/bootstrap/3.0.0/css/bootstrap-glyphicons.css&quot;/&gt;\n",
       "    &lt;link rel=&quot;stylesheet&quot; href=&quot;https://cdn.jsdelivr.net/npm/@fortawesome/fontawesome-free@6.2.0/css/all.min.css&quot;/&gt;\n",
       "    &lt;link rel=&quot;stylesheet&quot; href=&quot;https://cdnjs.cloudflare.com/ajax/libs/Leaflet.awesome-markers/2.0.2/leaflet.awesome-markers.css&quot;/&gt;\n",
       "    &lt;link rel=&quot;stylesheet&quot; href=&quot;https://cdn.jsdelivr.net/gh/python-visualization/folium/folium/templates/leaflet.awesome.rotate.min.css&quot;/&gt;\n",
       "    \n",
       "            &lt;meta name=&quot;viewport&quot; content=&quot;width=device-width,\n",
       "                initial-scale=1.0, maximum-scale=1.0, user-scalable=no&quot; /&gt;\n",
       "            &lt;style&gt;\n",
       "                #map_fcdf41c4a3c37ae1dc320d2f0f322578 {\n",
       "                    position: relative;\n",
       "                    width: 100.0%;\n",
       "                    height: 100.0%;\n",
       "                    left: 0.0%;\n",
       "                    top: 0.0%;\n",
       "                }\n",
       "                .leaflet-container { font-size: 1rem; }\n",
       "            &lt;/style&gt;\n",
       "        \n",
       "    &lt;script src=&quot;https://cdn.jsdelivr.net/gh/python-visualization/folium@main/folium/templates/leaflet_heat.min.js&quot;&gt;&lt;/script&gt;\n",
       "&lt;/head&gt;\n",
       "&lt;body&gt;\n",
       "    \n",
       "    \n",
       "            &lt;div class=&quot;folium-map&quot; id=&quot;map_fcdf41c4a3c37ae1dc320d2f0f322578&quot; &gt;&lt;/div&gt;\n",
       "        \n",
       "&lt;/body&gt;\n",
       "&lt;script&gt;\n",
       "    \n",
       "    \n",
       "            var map_fcdf41c4a3c37ae1dc320d2f0f322578 = L.map(\n",
       "                &quot;map_fcdf41c4a3c37ae1dc320d2f0f322578&quot;,\n",
       "                {\n",
       "                    center: [8.0, 124.3],\n",
       "                    crs: L.CRS.EPSG3857,\n",
       "                    ...{\n",
       "  &quot;zoom&quot;: 15,\n",
       "  &quot;zoomControl&quot;: true,\n",
       "  &quot;preferCanvas&quot;: false,\n",
       "}\n",
       "\n",
       "                }\n",
       "            );\n",
       "\n",
       "            \n",
       "\n",
       "        \n",
       "    \n",
       "            var tile_layer_b5c9bf5aeb4ef13314d2bf3ed979b3b5 = L.tileLayer(\n",
       "                &quot;https://tile.openstreetmap.org/{z}/{x}/{y}.png&quot;,\n",
       "                {\n",
       "  &quot;minZoom&quot;: 0,\n",
       "  &quot;maxZoom&quot;: 19,\n",
       "  &quot;maxNativeZoom&quot;: 19,\n",
       "  &quot;noWrap&quot;: false,\n",
       "  &quot;attribution&quot;: &quot;\\u0026copy; \\u003ca href=\\&quot;https://www.openstreetmap.org/copyright\\&quot;\\u003eOpenStreetMap\\u003c/a\\u003e contributors&quot;,\n",
       "  &quot;subdomains&quot;: &quot;abc&quot;,\n",
       "  &quot;detectRetina&quot;: false,\n",
       "  &quot;tms&quot;: false,\n",
       "  &quot;opacity&quot;: 1,\n",
       "}\n",
       "\n",
       "            );\n",
       "        \n",
       "    \n",
       "            tile_layer_b5c9bf5aeb4ef13314d2bf3ed979b3b5.addTo(map_fcdf41c4a3c37ae1dc320d2f0f322578);\n",
       "        \n",
       "    \n",
       "            var heat_map_af9383d2626de085e0d094b741d7354c = L.heatLayer(\n",
       "                [[7.999799, 124.300068, 1.0], [7.999981, 124.299937, 1.0], [8.000147, 124.299951, 3.0], [8.000178, 124.300179, 2.0]],\n",
       "                {\n",
       "  &quot;minOpacity&quot;: 0.5,\n",
       "  &quot;maxZoom&quot;: 18,\n",
       "  &quot;radius&quot;: 25,\n",
       "  &quot;blur&quot;: 15,\n",
       "}\n",
       "            );\n",
       "        \n",
       "    \n",
       "            heat_map_af9383d2626de085e0d094b741d7354c.addTo(map_fcdf41c4a3c37ae1dc320d2f0f322578);\n",
       "        \n",
       "    \n",
       "            tile_layer_b5c9bf5aeb4ef13314d2bf3ed979b3b5.addTo(map_fcdf41c4a3c37ae1dc320d2f0f322578);\n",
       "        \n",
       "    \n",
       "            heat_map_af9383d2626de085e0d094b741d7354c.addTo(map_fcdf41c4a3c37ae1dc320d2f0f322578);\n",
       "        \n",
       "&lt;/script&gt;\n",
       "&lt;/html&gt;\" style=\"position:absolute;width:100%;height:100%;left:0;top:0;border:none !important;\" allowfullscreen webkitallowfullscreen mozallowfullscreen></iframe></div></div>"
      ],
      "text/plain": [
       "<folium.folium.Map at 0x169299e8b10>"
      ]
     },
     "execution_count": 32,
     "metadata": {},
     "output_type": "execute_result"
    }
   ],
   "source": [
    "coordinates = filter5_v2.groupby(['latitude', 'longitude']).size().reset_index(name='incident_count')\n",
    "heatmap_data = coordinates[['latitude', 'longitude', 'incident_count']].values.tolist()\n",
    "BombingExplosion = folium.Map(location = [8, 124.3], zoom_start = 15)\n",
    "HeatMap(heatmap_data).add_to(BombingExplosion)\n",
    "BombingExplosion.save('terrorism_bombing.html')\n",
    "BombingExplosion"
   ]
  },
  {
   "cell_type": "code",
   "execution_count": 33,
   "id": "174dce59-cf11-43f6-b8ff-7e6429372b0e",
   "metadata": {},
   "outputs": [
    {
     "data": {
      "text/html": [
       "<div style=\"width:100%;\"><div style=\"position:relative;width:100%;height:0;padding-bottom:60%;\"><span style=\"color:#565656\">Make this Notebook Trusted to load map: File -> Trust Notebook</span><iframe srcdoc=\"&lt;!DOCTYPE html&gt;\n",
       "&lt;html&gt;\n",
       "&lt;head&gt;\n",
       "    \n",
       "    &lt;meta http-equiv=&quot;content-type&quot; content=&quot;text/html; charset=UTF-8&quot; /&gt;\n",
       "    \n",
       "        &lt;script&gt;\n",
       "            L_NO_TOUCH = false;\n",
       "            L_DISABLE_3D = false;\n",
       "        &lt;/script&gt;\n",
       "    \n",
       "    &lt;style&gt;html, body {width: 100%;height: 100%;margin: 0;padding: 0;}&lt;/style&gt;\n",
       "    &lt;style&gt;#map {position:absolute;top:0;bottom:0;right:0;left:0;}&lt;/style&gt;\n",
       "    &lt;script src=&quot;https://cdn.jsdelivr.net/npm/leaflet@1.9.3/dist/leaflet.js&quot;&gt;&lt;/script&gt;\n",
       "    &lt;script src=&quot;https://code.jquery.com/jquery-3.7.1.min.js&quot;&gt;&lt;/script&gt;\n",
       "    &lt;script src=&quot;https://cdn.jsdelivr.net/npm/bootstrap@5.2.2/dist/js/bootstrap.bundle.min.js&quot;&gt;&lt;/script&gt;\n",
       "    &lt;script src=&quot;https://cdnjs.cloudflare.com/ajax/libs/Leaflet.awesome-markers/2.0.2/leaflet.awesome-markers.js&quot;&gt;&lt;/script&gt;\n",
       "    &lt;link rel=&quot;stylesheet&quot; href=&quot;https://cdn.jsdelivr.net/npm/leaflet@1.9.3/dist/leaflet.css&quot;/&gt;\n",
       "    &lt;link rel=&quot;stylesheet&quot; href=&quot;https://cdn.jsdelivr.net/npm/bootstrap@5.2.2/dist/css/bootstrap.min.css&quot;/&gt;\n",
       "    &lt;link rel=&quot;stylesheet&quot; href=&quot;https://netdna.bootstrapcdn.com/bootstrap/3.0.0/css/bootstrap-glyphicons.css&quot;/&gt;\n",
       "    &lt;link rel=&quot;stylesheet&quot; href=&quot;https://cdn.jsdelivr.net/npm/@fortawesome/fontawesome-free@6.2.0/css/all.min.css&quot;/&gt;\n",
       "    &lt;link rel=&quot;stylesheet&quot; href=&quot;https://cdnjs.cloudflare.com/ajax/libs/Leaflet.awesome-markers/2.0.2/leaflet.awesome-markers.css&quot;/&gt;\n",
       "    &lt;link rel=&quot;stylesheet&quot; href=&quot;https://cdn.jsdelivr.net/gh/python-visualization/folium/folium/templates/leaflet.awesome.rotate.min.css&quot;/&gt;\n",
       "    \n",
       "            &lt;meta name=&quot;viewport&quot; content=&quot;width=device-width,\n",
       "                initial-scale=1.0, maximum-scale=1.0, user-scalable=no&quot; /&gt;\n",
       "            &lt;style&gt;\n",
       "                #map_cb63de0ad82217edcffbdc0cd46d8b93 {\n",
       "                    position: relative;\n",
       "                    width: 100.0%;\n",
       "                    height: 100.0%;\n",
       "                    left: 0.0%;\n",
       "                    top: 0.0%;\n",
       "                }\n",
       "                .leaflet-container { font-size: 1rem; }\n",
       "            &lt;/style&gt;\n",
       "        \n",
       "    &lt;script src=&quot;https://cdn.jsdelivr.net/gh/python-visualization/folium@main/folium/templates/leaflet_heat.min.js&quot;&gt;&lt;/script&gt;\n",
       "&lt;/head&gt;\n",
       "&lt;body&gt;\n",
       "    \n",
       "    \n",
       "            &lt;div class=&quot;folium-map&quot; id=&quot;map_cb63de0ad82217edcffbdc0cd46d8b93&quot; &gt;&lt;/div&gt;\n",
       "        \n",
       "&lt;/body&gt;\n",
       "&lt;script&gt;\n",
       "    \n",
       "    \n",
       "            var map_cb63de0ad82217edcffbdc0cd46d8b93 = L.map(\n",
       "                &quot;map_cb63de0ad82217edcffbdc0cd46d8b93&quot;,\n",
       "                {\n",
       "                    center: [8.0, 124.3],\n",
       "                    crs: L.CRS.EPSG3857,\n",
       "                    ...{\n",
       "  &quot;zoom&quot;: 15,\n",
       "  &quot;zoomControl&quot;: true,\n",
       "  &quot;preferCanvas&quot;: false,\n",
       "}\n",
       "\n",
       "                }\n",
       "            );\n",
       "\n",
       "            \n",
       "\n",
       "        \n",
       "    \n",
       "            var tile_layer_ffbc964abcf6441a1ad6b853bf213057 = L.tileLayer(\n",
       "                &quot;https://tile.openstreetmap.org/{z}/{x}/{y}.png&quot;,\n",
       "                {\n",
       "  &quot;minZoom&quot;: 0,\n",
       "  &quot;maxZoom&quot;: 19,\n",
       "  &quot;maxNativeZoom&quot;: 19,\n",
       "  &quot;noWrap&quot;: false,\n",
       "  &quot;attribution&quot;: &quot;\\u0026copy; \\u003ca href=\\&quot;https://www.openstreetmap.org/copyright\\&quot;\\u003eOpenStreetMap\\u003c/a\\u003e contributors&quot;,\n",
       "  &quot;subdomains&quot;: &quot;abc&quot;,\n",
       "  &quot;detectRetina&quot;: false,\n",
       "  &quot;tms&quot;: false,\n",
       "  &quot;opacity&quot;: 1,\n",
       "}\n",
       "\n",
       "            );\n",
       "        \n",
       "    \n",
       "            tile_layer_ffbc964abcf6441a1ad6b853bf213057.addTo(map_cb63de0ad82217edcffbdc0cd46d8b93);\n",
       "        \n",
       "    \n",
       "            var heat_map_3dd9e5fd60e551843ee2e52591e3ba2b = L.heatLayer(\n",
       "                [[7.999799, 124.300068, 2.0], [7.999981, 124.299937, 1.0], [8.000147, 124.299951, 3.0], [8.000178, 124.300179, 2.0]],\n",
       "                {\n",
       "  &quot;minOpacity&quot;: 0.5,\n",
       "  &quot;maxZoom&quot;: 18,\n",
       "  &quot;radius&quot;: 25,\n",
       "  &quot;blur&quot;: 15,\n",
       "}\n",
       "            );\n",
       "        \n",
       "    \n",
       "            heat_map_3dd9e5fd60e551843ee2e52591e3ba2b.addTo(map_cb63de0ad82217edcffbdc0cd46d8b93);\n",
       "        \n",
       "    \n",
       "            tile_layer_ffbc964abcf6441a1ad6b853bf213057.addTo(map_cb63de0ad82217edcffbdc0cd46d8b93);\n",
       "        \n",
       "    \n",
       "            heat_map_3dd9e5fd60e551843ee2e52591e3ba2b.addTo(map_cb63de0ad82217edcffbdc0cd46d8b93);\n",
       "        \n",
       "&lt;/script&gt;\n",
       "&lt;/html&gt;\" style=\"position:absolute;width:100%;height:100%;left:0;top:0;border:none !important;\" allowfullscreen webkitallowfullscreen mozallowfullscreen></iframe></div></div>"
      ],
      "text/plain": [
       "<folium.folium.Map at 0x1691588e990>"
      ]
     },
     "execution_count": 33,
     "metadata": {},
     "output_type": "execute_result"
    }
   ],
   "source": [
    "coordinates = filter5_v3.groupby(['latitude', 'longitude']).size().reset_index(name='incident_count')\n",
    "heatmap_data = coordinates[['latitude', 'longitude', 'incident_count']].values.tolist()\n",
    "targtype = folium.Map(location = [8, 124.3], zoom_start = 15)\n",
    "HeatMap(heatmap_data).add_to(targtype)\n",
    "targtype.save('terrorism_targtype.html')\n",
    "targtype"
   ]
  },
  {
   "cell_type": "markdown",
   "id": "56203354-8098-49fd-b50d-7febfd67edc9",
   "metadata": {},
   "source": [
    "# MILF Attacks 1990s to 2000s"
   ]
  },
  {
   "cell_type": "code",
   "execution_count": 42,
   "id": "bbd62735-c20b-4088-9764-b8f5615eaf8e",
   "metadata": {},
   "outputs": [],
   "source": [
    "MILF_filter1 = global_terrorist[(global_terrorist['iyear'] >= 1990) & (global_terrorist['iyear'] <= 2000)]"
   ]
  },
  {
   "cell_type": "code",
   "execution_count": 47,
   "id": "8cc72288-f638-4954-9ca3-42728e9ab79f",
   "metadata": {},
   "outputs": [],
   "source": [
    "MILF_filter2 = MILF_filter1[MILF_filter1['country_txt'] == 'Philippines']"
   ]
  },
  {
   "cell_type": "markdown",
   "id": "1b932879-6525-4358-baf0-065350bc720b",
   "metadata": {},
   "source": [
    "# Mapping the Frequency of MILF-Linked Incidents in the Philippines (1990–2000)\n"
   ]
  },
  {
   "cell_type": "code",
   "execution_count": 52,
   "id": "3156f24a-0bc6-44ba-a08f-4c6e2c6c9260",
   "metadata": {},
   "outputs": [],
   "source": [
    "MILF_filter3 = MILF_filter2[MILF_filter2['gname'] == 'Moro Islamic Liberation Front (MILF)']"
   ]
  },
  {
   "cell_type": "code",
   "execution_count": 75,
   "id": "e5b95b9a-4c27-4381-9507-8a334b03f6bf",
   "metadata": {},
   "outputs": [
    {
     "data": {
      "text/html": [
       "<div style=\"width:100%;\"><div style=\"position:relative;width:100%;height:0;padding-bottom:60%;\"><span style=\"color:#565656\">Make this Notebook Trusted to load map: File -> Trust Notebook</span><iframe srcdoc=\"&lt;!DOCTYPE html&gt;\n",
       "&lt;html&gt;\n",
       "&lt;head&gt;\n",
       "    \n",
       "    &lt;meta http-equiv=&quot;content-type&quot; content=&quot;text/html; charset=UTF-8&quot; /&gt;\n",
       "    \n",
       "        &lt;script&gt;\n",
       "            L_NO_TOUCH = false;\n",
       "            L_DISABLE_3D = false;\n",
       "        &lt;/script&gt;\n",
       "    \n",
       "    &lt;style&gt;html, body {width: 100%;height: 100%;margin: 0;padding: 0;}&lt;/style&gt;\n",
       "    &lt;style&gt;#map {position:absolute;top:0;bottom:0;right:0;left:0;}&lt;/style&gt;\n",
       "    &lt;script src=&quot;https://cdn.jsdelivr.net/npm/leaflet@1.9.3/dist/leaflet.js&quot;&gt;&lt;/script&gt;\n",
       "    &lt;script src=&quot;https://code.jquery.com/jquery-3.7.1.min.js&quot;&gt;&lt;/script&gt;\n",
       "    &lt;script src=&quot;https://cdn.jsdelivr.net/npm/bootstrap@5.2.2/dist/js/bootstrap.bundle.min.js&quot;&gt;&lt;/script&gt;\n",
       "    &lt;script src=&quot;https://cdnjs.cloudflare.com/ajax/libs/Leaflet.awesome-markers/2.0.2/leaflet.awesome-markers.js&quot;&gt;&lt;/script&gt;\n",
       "    &lt;link rel=&quot;stylesheet&quot; href=&quot;https://cdn.jsdelivr.net/npm/leaflet@1.9.3/dist/leaflet.css&quot;/&gt;\n",
       "    &lt;link rel=&quot;stylesheet&quot; href=&quot;https://cdn.jsdelivr.net/npm/bootstrap@5.2.2/dist/css/bootstrap.min.css&quot;/&gt;\n",
       "    &lt;link rel=&quot;stylesheet&quot; href=&quot;https://netdna.bootstrapcdn.com/bootstrap/3.0.0/css/bootstrap-glyphicons.css&quot;/&gt;\n",
       "    &lt;link rel=&quot;stylesheet&quot; href=&quot;https://cdn.jsdelivr.net/npm/@fortawesome/fontawesome-free@6.2.0/css/all.min.css&quot;/&gt;\n",
       "    &lt;link rel=&quot;stylesheet&quot; href=&quot;https://cdnjs.cloudflare.com/ajax/libs/Leaflet.awesome-markers/2.0.2/leaflet.awesome-markers.css&quot;/&gt;\n",
       "    &lt;link rel=&quot;stylesheet&quot; href=&quot;https://cdn.jsdelivr.net/gh/python-visualization/folium/folium/templates/leaflet.awesome.rotate.min.css&quot;/&gt;\n",
       "    \n",
       "            &lt;meta name=&quot;viewport&quot; content=&quot;width=device-width,\n",
       "                initial-scale=1.0, maximum-scale=1.0, user-scalable=no&quot; /&gt;\n",
       "            &lt;style&gt;\n",
       "                #map_7480f21bf0b1c9a4f837217603b84900 {\n",
       "                    position: relative;\n",
       "                    width: 100.0%;\n",
       "                    height: 100.0%;\n",
       "                    left: 0.0%;\n",
       "                    top: 0.0%;\n",
       "                }\n",
       "                .leaflet-container { font-size: 1rem; }\n",
       "            &lt;/style&gt;\n",
       "        \n",
       "    &lt;script src=&quot;https://cdn.jsdelivr.net/gh/python-visualization/folium@main/folium/templates/leaflet_heat.min.js&quot;&gt;&lt;/script&gt;\n",
       "&lt;/head&gt;\n",
       "&lt;body&gt;\n",
       "    \n",
       "    \n",
       "            &lt;div class=&quot;folium-map&quot; id=&quot;map_7480f21bf0b1c9a4f837217603b84900&quot; &gt;&lt;/div&gt;\n",
       "        \n",
       "&lt;/body&gt;\n",
       "&lt;script&gt;\n",
       "    \n",
       "    \n",
       "            var map_7480f21bf0b1c9a4f837217603b84900 = L.map(\n",
       "                &quot;map_7480f21bf0b1c9a4f837217603b84900&quot;,\n",
       "                {\n",
       "                    center: [12.0, 124.3],\n",
       "                    crs: L.CRS.EPSG3857,\n",
       "                    ...{\n",
       "  &quot;zoom&quot;: 5.5,\n",
       "  &quot;zoomControl&quot;: true,\n",
       "  &quot;preferCanvas&quot;: false,\n",
       "}\n",
       "\n",
       "                }\n",
       "            );\n",
       "\n",
       "            \n",
       "\n",
       "        \n",
       "    \n",
       "            var tile_layer_64360cb9e1969f80faafbf74c2aa28fc = L.tileLayer(\n",
       "                &quot;https://tile.openstreetmap.org/{z}/{x}/{y}.png&quot;,\n",
       "                {\n",
       "  &quot;minZoom&quot;: 0,\n",
       "  &quot;maxZoom&quot;: 19,\n",
       "  &quot;maxNativeZoom&quot;: 19,\n",
       "  &quot;noWrap&quot;: false,\n",
       "  &quot;attribution&quot;: &quot;\\u0026copy; \\u003ca href=\\&quot;https://www.openstreetmap.org/copyright\\&quot;\\u003eOpenStreetMap\\u003c/a\\u003e contributors&quot;,\n",
       "  &quot;subdomains&quot;: &quot;abc&quot;,\n",
       "  &quot;detectRetina&quot;: false,\n",
       "  &quot;tms&quot;: false,\n",
       "  &quot;opacity&quot;: 1,\n",
       "}\n",
       "\n",
       "            );\n",
       "        \n",
       "    \n",
       "            tile_layer_64360cb9e1969f80faafbf74c2aa28fc.addTo(map_7480f21bf0b1c9a4f837217603b84900);\n",
       "        \n",
       "    \n",
       "            var heat_map_3dc24469627bd717ff3311db14ce6b36 = L.heatLayer(\n",
       "                [[5.864184, 124.996176, 1.0], [6.11622, 125.169395, 8.0], [6.382298, 124.898278, 1.0], [6.420622, 121.973513, 1.0], [6.497216, 122.105141, 1.0], [6.497656, 124.849655, 1.0], [6.508416, 124.855245, 1.0], [6.630015, 122.111817, 1.0], [6.634938, 124.598033, 1.0], [6.641574, 122.157351, 1.0], [6.681959, 121.985477, 4.0], [6.804105, 124.634045, 1.0], [6.828821, 124.893574, 1.0], [6.868645, 124.441079, 2.0], [6.892857, 124.6218, 3.0], [6.935982, 124.450421, 1.0], [6.949288, 124.884481, 2.0], [7.01061, 125.091134, 1.0], [7.017022, 124.893526, 1.0], [7.020898, 125.091469, 3.0], [7.057424, 124.678935, 1.0], [7.086218, 124.901921, 2.0], [7.087719, 124.900522, 1.0], [7.108994, 124.826812, 1.0], [7.109883, 124.824303, 3.0], [7.111828, 124.824596, 1.0], [7.115391, 124.836625, 2.0], [7.117876, 124.38499, 1.0], [7.118334, 124.817434, 1.0], [7.159092, 124.576538, 1.0], [7.189585, 124.534397, 1.0], [7.199509, 124.796982, 5.0], [7.204961, 124.791148, 1.0], [7.209594, 124.241966, 4.0], [7.23706, 124.695394, 1.0], [7.281569, 124.422813, 1.0], [7.301009, 124.683706, 1.0], [7.310695, 124.780982, 1.0], [7.333211, 124.56839, 1.0], [7.362014, 125.70565, 1.0], [7.452627, 122.328205, 1.0], [7.464961, 124.187111, 1.0], [7.492389, 124.724974, 1.0], [7.507152, 122.941414, 1.0], [7.514969, 124.372309, 1.0], [7.517844, 124.372113, 1.0], [7.579152, 123.16669, 1.0], [7.590722, 122.143841, 2.0], [7.612788, 123.005931, 1.0], [7.686119, 124.692186, 1.0], [7.732345, 123.057305, 1.0], [7.742853, 124.70475, 1.0], [7.785306, 122.592856, 1.0], [7.794568, 122.788106, 1.0], [7.80121, 122.759801, 1.0], [7.807908, 122.699403, 1.0], [7.823071, 126.055367, 1.0], [7.825203, 123.437378, 1.0], [7.829613, 123.436756, 1.0], [7.860251, 124.130054, 1.0], [7.864016, 123.514551, 1.0], [8.003105, 124.289666, 1.0], [8.004674, 124.2913, 1.0], [8.020031, 124.056593, 1.0], [8.065973, 124.260404, 1.0], [8.115408, 123.896522, 1.0], [8.190899, 124.087955, 1.0], [8.486803, 124.645818, 3.0], [10.728829, 123.82764, 1.0], [14.346627, 121.05041, 1.0], [14.599352, 120.984772, 2.0]],\n",
       "                {\n",
       "  &quot;minOpacity&quot;: 0.5,\n",
       "  &quot;maxZoom&quot;: 18,\n",
       "  &quot;radius&quot;: 25,\n",
       "  &quot;blur&quot;: 15,\n",
       "}\n",
       "            );\n",
       "        \n",
       "    \n",
       "            heat_map_3dc24469627bd717ff3311db14ce6b36.addTo(map_7480f21bf0b1c9a4f837217603b84900);\n",
       "        \n",
       "    \n",
       "            tile_layer_64360cb9e1969f80faafbf74c2aa28fc.addTo(map_7480f21bf0b1c9a4f837217603b84900);\n",
       "        \n",
       "    \n",
       "            heat_map_3dc24469627bd717ff3311db14ce6b36.addTo(map_7480f21bf0b1c9a4f837217603b84900);\n",
       "        \n",
       "&lt;/script&gt;\n",
       "&lt;/html&gt;\" style=\"position:absolute;width:100%;height:100%;left:0;top:0;border:none !important;\" allowfullscreen webkitallowfullscreen mozallowfullscreen></iframe></div></div>"
      ],
      "text/plain": [
       "<folium.folium.Map at 0x1692aacd710>"
      ]
     },
     "execution_count": 75,
     "metadata": {},
     "output_type": "execute_result"
    }
   ],
   "source": [
    "coordinates = MILF_filter3.groupby(['latitude', 'longitude']).size().reset_index(name='incident_count')\n",
    "heatmap_data = coordinates[['latitude', 'longitude', 'incident_count']].values.tolist()\n",
    "MILF_incidents = folium.Map(location = [12, 124.3], zoom_start =5.5)\n",
    "HeatMap(heatmap_data).add_to(MILF_incidents)\n",
    "MILF_incidents.save('terrorism_MILF_incidents.html')\n",
    "MILF_incidents"
   ]
  },
  {
   "cell_type": "markdown",
   "id": "c296af0b-04ea-4c84-a2cf-4de72c3b97aa",
   "metadata": {},
   "source": [
    "# Tracing NPA Activity in the Philippines: A Heatmap from 1970 to 2017\r\n"
   ]
  },
  {
   "cell_type": "code",
   "execution_count": 77,
   "id": "94d7a444-2458-415f-9f73-7036d680ef7d",
   "metadata": {},
   "outputs": [],
   "source": [
    "# New People's Army (NPA\n",
    "NPA_filter1 = global_terrorist[global_terrorist['country_txt'] == 'Philippines']"
   ]
  },
  {
   "cell_type": "code",
   "execution_count": 82,
   "id": "741757f6-15f3-4aa0-a2c4-d8c4138c13b9",
   "metadata": {},
   "outputs": [],
   "source": [
    "NPA_filter2 = NPA_filter1[NPA_filter1['gname'] == \"New People's Army (NPA)\"]"
   ]
  },
  {
   "cell_type": "markdown",
   "id": "bd97eb8c-e966-4238-b8fd-f6c4443520f4",
   "metadata": {},
   "source": [
    "# NPA Activity in the Philippines from 1970 to 2017\r\n"
   ]
  },
  {
   "cell_type": "code",
   "execution_count": 85,
   "id": "c872edbc-2580-48a5-80b1-4b20cb6d6342",
   "metadata": {},
   "outputs": [
    {
     "data": {
      "text/html": [
       "<div style=\"width:100%;\"><div style=\"position:relative;width:100%;height:0;padding-bottom:60%;\"><span style=\"color:#565656\">Make this Notebook Trusted to load map: File -> Trust Notebook</span><iframe srcdoc=\"&lt;!DOCTYPE html&gt;\n",
       "&lt;html&gt;\n",
       "&lt;head&gt;\n",
       "    \n",
       "    &lt;meta http-equiv=&quot;content-type&quot; content=&quot;text/html; charset=UTF-8&quot; /&gt;\n",
       "    \n",
       "        &lt;script&gt;\n",
       "            L_NO_TOUCH = false;\n",
       "            L_DISABLE_3D = false;\n",
       "        &lt;/script&gt;\n",
       "    \n",
       "    &lt;style&gt;html, body {width: 100%;height: 100%;margin: 0;padding: 0;}&lt;/style&gt;\n",
       "    &lt;style&gt;#map {position:absolute;top:0;bottom:0;right:0;left:0;}&lt;/style&gt;\n",
       "    &lt;script src=&quot;https://cdn.jsdelivr.net/npm/leaflet@1.9.3/dist/leaflet.js&quot;&gt;&lt;/script&gt;\n",
       "    &lt;script src=&quot;https://code.jquery.com/jquery-3.7.1.min.js&quot;&gt;&lt;/script&gt;\n",
       "    &lt;script src=&quot;https://cdn.jsdelivr.net/npm/bootstrap@5.2.2/dist/js/bootstrap.bundle.min.js&quot;&gt;&lt;/script&gt;\n",
       "    &lt;script src=&quot;https://cdnjs.cloudflare.com/ajax/libs/Leaflet.awesome-markers/2.0.2/leaflet.awesome-markers.js&quot;&gt;&lt;/script&gt;\n",
       "    &lt;link rel=&quot;stylesheet&quot; href=&quot;https://cdn.jsdelivr.net/npm/leaflet@1.9.3/dist/leaflet.css&quot;/&gt;\n",
       "    &lt;link rel=&quot;stylesheet&quot; href=&quot;https://cdn.jsdelivr.net/npm/bootstrap@5.2.2/dist/css/bootstrap.min.css&quot;/&gt;\n",
       "    &lt;link rel=&quot;stylesheet&quot; href=&quot;https://netdna.bootstrapcdn.com/bootstrap/3.0.0/css/bootstrap-glyphicons.css&quot;/&gt;\n",
       "    &lt;link rel=&quot;stylesheet&quot; href=&quot;https://cdn.jsdelivr.net/npm/@fortawesome/fontawesome-free@6.2.0/css/all.min.css&quot;/&gt;\n",
       "    &lt;link rel=&quot;stylesheet&quot; href=&quot;https://cdnjs.cloudflare.com/ajax/libs/Leaflet.awesome-markers/2.0.2/leaflet.awesome-markers.css&quot;/&gt;\n",
       "    &lt;link rel=&quot;stylesheet&quot; href=&quot;https://cdn.jsdelivr.net/gh/python-visualization/folium/folium/templates/leaflet.awesome.rotate.min.css&quot;/&gt;\n",
       "    \n",
       "            &lt;meta name=&quot;viewport&quot; content=&quot;width=device-width,\n",
       "                initial-scale=1.0, maximum-scale=1.0, user-scalable=no&quot; /&gt;\n",
       "            &lt;style&gt;\n",
       "                #map_227e9b3778cdcb78b077dc5e6e1043a5 {\n",
       "                    position: relative;\n",
       "                    width: 100.0%;\n",
       "                    height: 100.0%;\n",
       "                    left: 0.0%;\n",
       "                    top: 0.0%;\n",
       "                }\n",
       "                .leaflet-container { font-size: 1rem; }\n",
       "            &lt;/style&gt;\n",
       "        \n",
       "    &lt;script src=&quot;https://cdn.jsdelivr.net/gh/python-visualization/folium@main/folium/templates/leaflet_heat.min.js&quot;&gt;&lt;/script&gt;\n",
       "&lt;/head&gt;\n",
       "&lt;body&gt;\n",
       "    \n",
       "    \n",
       "            &lt;div class=&quot;folium-map&quot; id=&quot;map_227e9b3778cdcb78b077dc5e6e1043a5&quot; &gt;&lt;/div&gt;\n",
       "        \n",
       "&lt;/body&gt;\n",
       "&lt;script&gt;\n",
       "    \n",
       "    \n",
       "            var map_227e9b3778cdcb78b077dc5e6e1043a5 = L.map(\n",
       "                &quot;map_227e9b3778cdcb78b077dc5e6e1043a5&quot;,\n",
       "                {\n",
       "                    center: [12.0, 124.3],\n",
       "                    crs: L.CRS.EPSG3857,\n",
       "                    ...{\n",
       "  &quot;zoom&quot;: 5.5,\n",
       "  &quot;zoomControl&quot;: true,\n",
       "  &quot;preferCanvas&quot;: false,\n",
       "}\n",
       "\n",
       "                }\n",
       "            );\n",
       "\n",
       "            \n",
       "\n",
       "        \n",
       "    \n",
       "            var tile_layer_b743f44582fea3423719466e1d7ba49f = L.tileLayer(\n",
       "                &quot;https://tile.openstreetmap.org/{z}/{x}/{y}.png&quot;,\n",
       "                {\n",
       "  &quot;minZoom&quot;: 0,\n",
       "  &quot;maxZoom&quot;: 19,\n",
       "  &quot;maxNativeZoom&quot;: 19,\n",
       "  &quot;noWrap&quot;: false,\n",
       "  &quot;attribution&quot;: &quot;\\u0026copy; \\u003ca href=\\&quot;https://www.openstreetmap.org/copyright\\&quot;\\u003eOpenStreetMap\\u003c/a\\u003e contributors&quot;,\n",
       "  &quot;subdomains&quot;: &quot;abc&quot;,\n",
       "  &quot;detectRetina&quot;: false,\n",
       "  &quot;tms&quot;: false,\n",
       "  &quot;opacity&quot;: 1,\n",
       "}\n",
       "\n",
       "            );\n",
       "        \n",
       "    \n",
       "            tile_layer_b743f44582fea3423719466e1d7ba49f.addTo(map_227e9b3778cdcb78b077dc5e6e1043a5);\n",
       "        \n",
       "    \n",
       "            var heat_map_0f5c26ee5dcaad2b610c4bd901cb5042 = L.heatLayer(\n",
       "                [[5.205948, 120.053982, 1.0], [5.77602, 125.354517, 1.0], [5.856886, 125.006194, 1.0], [5.862281, 124.990597, 1.0], [5.888056, 124.82972, 1.0], [5.904939, 125.567551, 1.0], [5.914707, 125.647183, 1.0], [5.917951, 125.647755, 1.0], [5.966235, 125.285262, 1.0], [5.966542, 125.285565, 1.0], [5.967238, 125.286134, 1.0], [5.969808, 125.286941, 1.0], [5.976427, 124.772642, 1.0], [5.989446, 124.629173, 1.0], [5.995118, 124.743298, 1.0], [5.99627, 125.292393, 1.0], [6.012985, 124.593255, 1.0], [6.015738, 124.8252, 1.0], [6.017535, 124.550206, 1.0], [6.023563, 124.825031, 1.0], [6.034726, 124.605189, 1.0], [6.05, 124.916667, 1.0], [6.059196, 124.921614, 1.0], [6.082966, 125.282669, 1.0], [6.083333, 125.283333, 1.0], [6.083364, 125.282522, 1.0], [6.084952, 125.289016, 1.0], [6.08525, 125.272616, 1.0], [6.094381, 125.418938, 1.0], [6.10179, 125.29048, 1.0], [6.11622, 125.169395, 4.0], [6.117505, 124.462395, 2.0], [6.120132, 125.117342, 1.0], [6.150281, 124.783888, 1.0], [6.154806, 125.29006, 1.0], [6.185032, 125.346625, 1.0], [6.191554, 124.793732, 1.0], [6.198367, 124.832113, 1.0], [6.213233, 124.697909, 1.0], [6.213642, 124.822629, 1.0], [6.219977, 124.819924, 1.0], [6.257165, 124.674124, 1.0], [6.287156, 125.504338, 1.0], [6.300549, 125.586062, 1.0], [6.308455, 124.845185, 1.0], [6.314022, 125.295122, 1.0], [6.31585, 125.014549, 1.0], [6.33, 124.95, 1.0], [6.332669, 125.264077, 1.0], [6.333312, 124.950048, 1.0], [6.334767, 124.953153, 3.0], [6.368637, 124.74461, 1.0], [6.37378, 124.63818, 1.0], [6.384302, 125.581593, 1.0], [6.388085, 124.795647, 1.0], [6.3884, 124.796146, 1.0], [6.413029, 125.420269, 2.0], [6.417717, 125.423121, 1.0], [6.424257, 125.4248, 1.0], [6.437151, 124.674441, 1.0], [6.443793, 124.927748, 1.0], [6.445373, 124.924468, 1.0], [6.445439, 124.927344, 1.0], [6.453157, 125.038749, 1.0], [6.455771, 124.981569, 1.0], [6.459349, 124.321754, 1.0], [6.463884, 124.861177, 1.0], [6.465728, 124.335947, 1.0], [6.471495, 124.936372, 1.0], [6.473055, 125.007076, 1.0], [6.47313, 125.007456, 1.0], [6.473668, 125.006011, 1.0], [6.4782, 125.10688, 1.0], [6.483545, 125.066665, 2.0], [6.489666, 125.086816, 1.0], [6.497656, 124.849655, 3.0], [6.509646, 124.108599, 1.0], [6.516092, 124.825121, 1.0], [6.534412, 124.137762, 1.0], [6.571909, 124.758291, 1.0], [6.579619, 124.758259, 1.0], [6.582166, 124.063018, 1.0], [6.583669, 124.98903, 1.0], [6.61417, 125.236669, 2.0], [6.615473, 125.217184, 1.0], [6.616667, 125.216667, 1.0], [6.617372, 125.216648, 1.0], [6.621954, 124.571637, 1.0], [6.62734, 125.235645, 1.0], [6.633477, 124.600515, 1.0], [6.633826, 124.067887, 1.0], [6.634899, 125.082855, 1.0], [6.635278, 124.975, 1.0], [6.65197, 121.963683, 1.0], [6.654931, 124.979746, 1.0], [6.655411, 126.074136, 1.0], [6.670716, 124.523985, 1.0], [6.680243, 125.257566, 1.0], [6.682694, 125.019975, 1.0], [6.684672, 124.961654, 1.0], [6.697343, 125.082779, 3.0], [6.700414, 121.972557, 1.0], [6.704711, 125.212211, 1.0], [6.721638, 124.113104, 1.0], [6.723456, 125.231846, 1.0], [6.723931, 125.150235, 1.0], [6.742624, 125.204618, 1.0], [6.748065, 125.262741, 2.0], [6.750046, 125.35626, 7.0], [6.75235, 125.351378, 1.0], [6.759496, 125.350978, 1.0], [6.767153, 125.183237, 1.0], [6.767168, 125.182716, 1.0], [6.771603, 125.355757, 1.0], [6.781093, 125.210871, 1.0], [6.782214, 124.931511, 1.0], [6.784057, 125.217967, 2.0], [6.786284, 125.212718, 2.0], [6.79035, 125.205076, 1.0], [6.790861, 125.205552, 1.0], [6.809045, 125.192555, 1.0], [6.813901, 124.947252, 1.0], [6.815429, 125.3769, 1.0], [6.829826, 124.876845, 1.0], [6.83155, 124.874207, 1.0], [6.831959, 124.878863, 2.0], [6.832955, 124.884192, 1.0], [6.833333, 124.883333, 2.0], [6.833577, 126.195725, 1.0], [6.836642, 125.414305, 1.0], [6.836912, 125.413349, 2.0], [6.845575, 126.295997, 1.0], [6.846821, 125.417152, 1.0], [6.862833, 124.445136, 2.0], [6.873951, 125.449516, 1.0], [6.893056, 125.08, 1.0], [6.895545, 126.013997, 3.0], [6.89638, 126.010585, 1.0], [6.897369, 126.013088, 1.0], [6.902441, 125.028148, 1.0], [6.911132, 125.037632, 1.0], [6.915043, 125.156799, 1.0], [6.916944, 125.086667, 1.0], [6.92306, 125.155, 1.0], [6.923432, 125.082859, 1.0], [6.923761, 125.190422, 2.0], [6.928333, 125.176389, 1.0], [6.929089, 122.07885, 7.0], [6.931389, 125.184167, 1.0], [6.933292, 125.473539, 1.0], [6.936973, 126.184539, 1.0], [6.939993, 125.133485, 1.0], [6.940357, 125.12416, 1.0], [6.941653, 126.058523, 1.0], [6.94389, 125.12944, 1.0], [6.946522, 125.108809, 1.0], [6.948108, 125.159735, 1.0], [6.949318, 125.160178, 1.0], [6.949902, 125.101076, 1.0], [6.95, 125.05, 5.0], [6.950561, 125.049593, 1.0], [6.950745, 125.09852, 2.0], [6.951779, 125.097475, 2.0], [6.951876, 126.216168, 2.0], [6.952775, 125.096241, 1.0], [6.952799, 126.221104, 4.0], [6.952868, 126.224121, 1.0], [6.953055, 126.21611, 1.0], [6.953512, 125.095724, 1.0], [6.954823, 125.093991, 2.0], [6.956701, 126.091775, 1.0], [6.96212, 125.475492, 2.0], [6.963075, 125.083897, 1.0], [6.963264, 126.016094, 2.0], [6.978437, 125.420377, 1.0], [6.983239, 125.038433, 1.0], [6.987731, 125.271909, 2.0], [6.989019, 125.321966, 1.0], [6.991315, 125.188379, 1.0], [7.009218, 125.494197, 1.0], [7.010241, 125.092208, 1.0], [7.010856, 125.089923, 1.0], [7.011302, 126.077368, 1.0], [7.012594, 125.506754, 1.0], [7.01461, 125.990824, 1.0], [7.020898, 125.091469, 6.0], [7.02556, 124.315, 1.0], [7.026532, 122.188904, 1.0], [7.027705, 125.114258, 2.0], [7.036882, 126.099999, 1.0], [7.037414, 125.722009, 1.0], [7.042418, 125.007119, 1.0], [7.042777, 126.449221, 1.0], [7.044866, 125.50293, 1.0], [7.064015, 125.087258, 1.0], [7.064122, 124.913323, 1.0], [7.064167, 125.468611, 1.0], [7.067748, 125.033156, 1.0], [7.073914, 125.464452, 1.0], [7.078169, 125.951149, 2.0], [7.080833, 126.202946, 1.0], [7.083241, 125.600998, 63.0], [7.083333, 124.9, 1.0], [7.087835, 124.900924, 1.0], [7.092213, 126.402383, 1.0], [7.095389, 125.638534, 1.0], [7.100113, 125.117035, 1.0], [7.100174, 125.116732, 1.0], [7.100287, 125.125998, 2.0], [7.101886, 125.122319, 1.0], [7.104016, 125.130313, 1.0], [7.104429, 125.126675, 1.0], [7.104604, 125.412635, 1.0], [7.104687, 125.124449, 1.0], [7.104767, 122.195979, 1.0], [7.106, 126.176643, 3.0], [7.106529, 125.119808, 1.0], [7.107222, 125.333889, 1.0], [7.107481, 125.123356, 1.0], [7.1075, 125.9095, 1.0], [7.108335, 125.038816, 2.0], [7.114018, 125.932122, 1.0], [7.114167, 125.045278, 1.0], [7.116441, 126.174201, 1.0], [7.116668, 125.116667, 1.0], [7.117042, 125.021423, 2.0], [7.123938, 125.598768, 1.0], [7.125031, 125.625952, 2.0], [7.125393, 125.619439, 1.0], [7.125629, 125.963396, 1.0], [7.128161, 125.896379, 1.0], [7.130171, 125.049507, 1.0], [7.130275, 125.948967, 1.0], [7.132558, 125.489147, 1.0], [7.133176, 125.894725, 1.0], [7.133768, 125.948811, 1.0], [7.134066, 125.894222, 1.0], [7.134753, 125.893916, 2.0], [7.135539, 125.057363, 1.0], [7.137387, 125.893873, 1.0], [7.138494, 125.931399, 1.0], [7.1475, 125.103056, 1.0], [7.148057, 125.10643, 1.0], [7.149184, 125.945636, 1.0], [7.149403, 125.376114, 1.0], [7.15, 125.95, 1.0], [7.150026, 125.949867, 1.0], [7.150033, 125.95, 1.0], [7.1525, 124.923637, 1.0], [7.152539, 125.057015, 1.0], [7.152682, 125.054177, 1.0], [7.154816, 125.453954, 1.0], [7.155758, 125.054344, 2.0], [7.15857, 126.161615, 1.0], [7.159193, 125.647819, 1.0], [7.160606, 125.09423, 1.0], [7.1609, 125.060841, 1.0], [7.163122, 125.574229, 1.0], [7.169182, 125.893045, 1.0], [7.170699, 125.400308, 1.0], [7.17124, 125.894394, 1.0], [7.174335, 125.374053, 1.0], [7.180006, 125.561423, 1.0], [7.184413, 125.699677, 1.0], [7.184525, 125.095929, 1.0], [7.185168, 125.516468, 1.0], [7.185673, 125.492409, 1.0], [7.18599, 125.54937, 1.0], [7.188152, 125.045421, 1.0], [7.188989, 125.456432, 1.0], [7.189447, 124.92525, 1.0], [7.190952, 125.461578, 6.0], [7.208333, 125.403611, 1.0], [7.209594, 124.241966, 8.0], [7.213873, 125.117251, 1.0], [7.213886, 125.117251, 2.0], [7.215279, 125.134798, 1.0], [7.216207, 126.013254, 1.0], [7.216311, 125.395845, 1.0], [7.219156, 125.464897, 2.0], [7.221637, 126.161845, 1.0], [7.224729, 125.640863, 1.0], [7.228518, 125.123224, 1.0], [7.232277, 125.862522, 1.0], [7.234865, 125.456246, 1.0], [7.234974, 125.45628, 1.0], [7.236449, 126.168697, 1.0], [7.237173, 126.160289, 1.0], [7.237529, 125.482616, 1.0], [7.238841, 125.142067, 1.0], [7.238969, 125.142004, 2.0], [7.23922, 125.159295, 1.0], [7.239798, 126.16165, 1.0], [7.239867, 125.160042, 1.0], [7.243473, 125.135475, 1.0], [7.243818, 125.382279, 1.0], [7.244258, 125.891141, 1.0], [7.244821, 125.159197, 1.0], [7.246699, 125.383535, 1.0], [7.247971, 125.632876, 1.0], [7.249165, 126.15822, 1.0], [7.249716, 126.157319, 1.0], [7.250403, 125.055797, 1.0], [7.250822, 126.168169, 1.0], [7.254915, 126.156516, 1.0], [7.254917, 126.154399, 1.0], [7.255079, 125.103966, 1.0], [7.255222, 126.156203, 1.0], [7.257228, 126.156092, 1.0], [7.260029, 126.126697, 1.0], [7.26111, 124.52944, 1.0], [7.261581, 126.466013, 1.0], [7.267752, 125.440773, 1.0], [7.269013, 125.197159, 1.0], [7.273404, 125.53295, 1.0], [7.27733, 125.489147, 1.0], [7.281763, 125.856773, 1.0], [7.281952, 125.857755, 1.0], [7.282129, 125.857401, 5.0], [7.283512, 125.859656, 2.0], [7.283611, 125.993889, 1.0], [7.28489, 125.857258, 1.0], [7.288356, 125.110374, 1.0], [7.289924, 125.53253, 1.0], [7.294219, 125.303395, 1.0], [7.295544, 126.000108, 1.0], [7.296831, 126.007579, 1.0], [7.300206, 125.41013, 1.0], [7.307946, 125.684331, 1.0], [7.30796, 125.683451, 1.0], [7.308063, 125.147324, 1.0], [7.308707, 125.684118, 1.0], [7.308998, 125.685896, 1.0], [7.309698, 125.684272, 1.0], [7.309839, 125.683963, 2.0], [7.310036, 125.850589, 1.0], [7.313689, 125.480694, 1.0], [7.314485, 125.450843, 1.0], [7.314873, 126.54255, 1.0], [7.316422, 126.125427, 1.0], [7.317214, 126.546543, 1.0], [7.317427, 126.547417, 1.0], [7.318034, 125.6773, 1.0], [7.318332, 125.184317, 1.0], [7.321781, 125.462678, 1.0], [7.32327, 125.459693, 1.0], [7.323904, 125.461709, 1.0], [7.33041, 126.566013, 1.0], [7.333482, 125.625189, 1.0], [7.334205, 126.097813, 1.0], [7.335014, 126.096139, 1.0], [7.335841, 125.167236, 1.0], [7.336844, 125.555317, 1.0], [7.339388, 125.1106, 1.0], [7.344444, 125.574167, 1.0], [7.345892, 125.53295, 1.0], [7.346308, 125.182953, 1.0], [7.349438, 125.468659, 1.0], [7.351463, 126.155, 1.0], [7.351838, 125.467237, 2.0], [7.352189, 126.15454, 2.0], [7.353278, 125.147836, 1.0], [7.353767, 125.147445, 3.0], [7.357986, 125.857563, 1.0], [7.358751, 125.871174, 1.0], [7.359251, 125.857986, 1.0], [7.360533, 125.706324, 1.0], [7.360681, 125.857343, 1.0], [7.361263, 125.863427, 1.0], [7.36194, 125.85528, 1.0], [7.362014, 125.70565, 1.0], [7.363329, 125.467689, 1.0], [7.364962, 125.853401, 2.0], [7.365787, 125.088744, 1.0], [7.36618, 125.858301, 1.0], [7.366675, 125.850038, 1.0], [7.367793, 125.846433, 1.0], [7.369444, 125.888333, 1.0], [7.369717, 125.495898, 1.0], [7.37, 125.953889, 2.0], [7.370278, 125.495884, 1.0], [7.370974, 125.036121, 1.0], [7.371271, 125.49612, 4.0], [7.371944, 125.404722, 1.0], [7.373618, 125.949926, 1.0], [7.377685, 125.011862, 1.0], [7.384258, 124.84497, 1.0], [7.386914, 126.033273, 1.0], [7.387237, 125.97353, 1.0], [7.387643, 126.033559, 1.0], [7.389535, 125.092564, 1.0], [7.39035, 126.029766, 2.0], [7.391961, 125.084535, 1.0], [7.391979, 125.324677, 1.0], [7.396099, 126.000056, 1.0], [7.404661, 126.057973, 1.0], [7.408228, 126.139136, 1.0], [7.411944, 126.008889, 1.0], [7.416346, 126.00097, 1.0], [7.416381, 126.001089, 1.0], [7.416808, 125.442596, 1.0], [7.416959, 125.860177, 1.0], [7.427053, 125.882317, 1.0], [7.430002, 126.04478, 1.0], [7.431989, 124.255204, 1.0], [7.432821, 125.11983, 1.0], [7.435278, 125.225278, 1.0], [7.437136, 125.812182, 1.0], [7.443109, 125.143407, 1.0], [7.446227, 125.95858, 1.0], [7.447439, 125.802499, 1.0], [7.447922, 125.807877, 1.0], [7.447973, 125.810009, 5.0], [7.448093, 125.459536, 1.0], [7.448212, 125.809424, 1.0], [7.448215, 125.809413, 1.0], [7.466934, 123.408319, 1.0], [7.466943, 125.961685, 1.0], [7.469114, 125.042453, 1.0], [7.474329, 125.842533, 1.0], [7.481878, 125.212099, 1.0], [7.485713, 125.044323, 1.0], [7.494105, 125.826106, 1.0], [7.494722, 126.101078, 1.0], [7.49596, 125.964158, 1.0], [7.5, 125.933333, 4.0], [7.500345, 125.187922, 1.0], [7.508446, 125.921654, 1.0], [7.509646, 126.10367, 1.0], [7.509916, 125.921486, 1.0], [7.512515, 126.176262, 1.0], [7.512998, 125.931549, 1.0], [7.515278, 126.017778, 1.0], [7.515731, 123.172442, 1.0], [7.519438, 125.237089, 1.0], [7.519444, 125.971667, 1.0], [7.51951, 126.216075, 1.0], [7.53, 124.11, 1.0], [7.531931, 124.120164, 1.0], [7.537754, 125.75561, 1.0], [7.543444, 126.221477, 1.0], [7.547591, 126.138012, 1.0], [7.548571, 126.137057, 1.0], [7.56885, 124.985708, 1.0], [7.571656, 125.996557, 1.0], [7.574132, 126.560107, 1.0], [7.574181, 126.559918, 2.0], [7.578889, 125.998056, 1.0], [7.580853, 125.765421, 1.0], [7.583232, 125.834451, 1.0], [7.583611, 126.074167, 1.0], [7.58495, 125.027643, 1.0], [7.586326, 122.140766, 1.0], [7.5866, 125.8237, 1.0], [7.587697, 125.822682, 1.0], [7.595785, 125.105121, 1.0], [7.6, 125.95, 1.0], [7.601194, 125.966781, 3.0], [7.60152, 125.169927, 1.0], [7.602754, 125.169529, 2.0], [7.602895, 125.966166, 1.0], [7.60351, 125.170403, 1.0], [7.605385, 125.967704, 1.0], [7.608056, 124.883056, 1.0], [7.609376, 126.12583, 1.0], [7.609688, 125.088363, 1.0], [7.612387, 125.620619, 1.0], [7.616669, 125.616667, 1.0], [7.616944, 125.884167, 1.0], [7.619421, 125.627881, 1.0], [7.6246, 125.620494, 1.0], [7.626124, 125.619165, 1.0], [7.632876, 125.016251, 1.0], [7.633114, 125.017002, 1.0], [7.633333, 125.016667, 1.0], [7.633731, 125.016428, 1.0], [7.638382, 125.009946, 1.0], [7.638948, 126.153737, 1.0], [7.638963, 123.394482, 1.0], [7.639929, 125.00916, 1.0], [7.640024, 125.008438, 2.0], [7.642085, 125.629359, 1.0], [7.64839, 123.267254, 1.0], [7.648541, 125.617272, 1.0], [7.65, 125.616669, 1.0], [7.654344, 125.802494, 1.0], [7.6551, 125.803276, 1.0], [7.658946, 125.587669, 1.0], [7.660633, 126.051757, 1.0], [7.661141, 125.55897, 3.0], [7.665968, 126.084695, 2.0], [7.666185, 126.084369, 1.0], [7.670266, 125.38367, 1.0], [7.670653, 126.085624, 1.0], [7.671049, 126.085606, 1.0], [7.674885, 126.08153, 1.0], [7.675606, 124.867847, 1.0], [7.680662, 124.713887, 1.0], [7.682231, 125.43889, 1.0], [7.682236, 123.296639, 1.0], [7.687185, 126.190054, 1.0], [7.693611, 123.294444, 1.0], [7.694013, 125.989145, 1.0], [7.695505, 126.549117, 1.0], [7.696292, 123.41283, 1.0], [7.704116, 125.989973, 1.0], [7.704608, 125.988292, 1.0], [7.705628, 126.105552, 1.0], [7.706295, 126.106131, 1.0], [7.706449, 125.99144, 1.0], [7.709449, 126.197976, 1.0], [7.714445, 126.106622, 1.0], [7.720472, 123.263289, 1.0], [7.729694, 125.099019, 1.0], [7.729753, 125.100227, 1.0], [7.729831, 125.098986, 1.0], [7.73, 125.099, 1.0], [7.730071, 125.099395, 1.0], [7.730414, 125.101343, 1.0], [7.731239, 125.992616, 1.0], [7.731359, 125.102887, 1.0], [7.734803, 125.512622, 3.0], [7.734964, 123.342124, 1.0], [7.744567, 126.397443, 1.0], [7.7575, 123.249444, 1.0], [7.762774, 125.004169, 1.0], [7.763809, 125.120193, 2.0], [7.766389, 123.275833, 1.0], [7.772775, 123.272096, 1.0], [7.778349, 125.640828, 1.0], [7.781691, 125.66863, 1.0], [7.79139, 126.45333, 1.0], [7.797467, 126.165351, 1.0], [7.798464, 125.395136, 1.0], [7.807113, 126.083894, 1.0], [7.808513, 126.094304, 1.0], [7.81571, 123.283611, 1.0], [7.817344, 125.797588, 1.0], [7.8175, 123.283611, 1.0], [7.817506, 123.283548, 1.0], [7.818905, 123.366468, 1.0], [7.81936, 125.792864, 1.0], [7.819451, 122.817335, 1.0], [7.821437, 126.051514, 1.0], [7.821667, 125.390278, 1.0], [7.822238, 123.230397, 1.0], [7.822408, 123.391038, 1.0], [7.823071, 126.055367, 9.0], [7.825054, 126.05176, 1.0], [7.825203, 123.437378, 2.0], [7.828461, 123.436612, 2.0], [7.83, 125.82, 1.0], [7.833053, 125.816497, 1.0], [7.833119, 124.813742, 1.0], [7.833333, 125.816667, 1.0], [7.833337, 125.816667, 1.0], [7.83385, 125.817084, 1.0], [7.835185, 124.827701, 1.0], [7.836243, 124.830833, 1.0], [7.837468, 125.611574, 1.0], [7.83934, 124.840341, 1.0], [7.841426, 122.845995, 1.0], [7.842032, 125.992996, 4.0], [7.848097, 125.347133, 1.0], [7.848397, 123.16233, 1.0], [7.848979, 126.05139, 1.0], [7.852238, 123.260136, 1.0], [7.85297, 123.574822, 1.0], [7.856155, 126.076122, 1.0], [7.857551, 123.234228, 1.0], [7.86319, 125.170874, 1.0], [7.869039, 126.374112, 1.0], [7.873661, 126.342487, 1.0], [7.880224, 123.304267, 1.0], [7.887759, 125.22153, 1.0], [7.894017, 126.034033, 3.0], [7.902708, 125.522001, 1.0], [7.904959, 125.09111, 3.0], [7.905447, 125.09121, 1.0], [7.913729, 125.313701, 1.0], [7.91778, 125.328624, 1.0], [7.921958, 125.746148, 1.0], [7.92211, 125.846823, 1.0], [7.926149, 126.077785, 1.0], [7.927639, 125.822074, 1.0], [7.92767, 126.075094, 1.0], [7.931279, 123.658972, 1.0], [7.938909, 125.915708, 1.0], [7.946025, 125.244473, 1.0], [7.949444, 125.876389, 1.0], [7.962202, 125.159129, 1.0], [7.973333, 126.010833, 1.0], [7.97644, 126.028513, 1.0], [7.984128, 125.012826, 1.0], [7.984456, 124.961687, 1.0], [7.991216, 124.969311, 1.0], [7.999904, 125.000243, 1.0], [8.002366, 124.291779, 2.0], [8.01089, 124.687128, 1.0], [8.019781, 124.789918, 1.0], [8.034153, 124.915111, 1.0], [8.035083, 125.849808, 1.0], [8.035507, 124.626297, 3.0], [8.036249, 124.626157, 1.0], [8.038011, 126.414359, 1.0], [8.044898, 126.061471, 1.0], [8.04532, 126.06184, 2.0], [8.046389, 126.061538, 1.0], [8.04912, 124.693724, 1.0], [8.05, 124.983333, 1.0], [8.050528, 125.872222, 1.0], [8.0525, 125.748611, 1.0], [8.052686, 125.731745, 2.0], [8.058913, 125.861375, 1.0], [8.061865, 123.750771, 1.0], [8.066667, 123.75, 1.0], [8.067144, 125.891313, 1.0], [8.06729, 125.893414, 1.0], [8.068792, 125.488951, 1.0], [8.070379, 126.060816, 1.0], [8.072572, 125.95542, 1.0], [8.072742, 125.95542, 1.0], [8.073279, 123.737353, 1.0], [8.076887, 125.045419, 1.0], [8.087957, 125.131226, 1.0], [8.090201, 125.323546, 1.0], [8.096466, 123.487682, 1.0], [8.098851, 122.918687, 1.0], [8.103952, 125.130026, 1.0], [8.111787, 125.128183, 1.0], [8.113273, 125.607828, 3.0], [8.113786, 123.897734, 1.0], [8.121913, 126.047912, 1.0], [8.123469, 123.053577, 1.0], [8.126317, 125.122472, 1.0], [8.130604, 125.127654, 1.0], [8.130926, 125.12709, 1.0], [8.132887, 123.101174, 1.0], [8.135081, 125.137957, 1.0], [8.135462, 125.137908, 1.0], [8.137645, 125.12649, 1.0], [8.139037, 125.124999, 1.0], [8.140556, 124.853333, 1.0], [8.147402, 125.021736, 1.0], [8.154547, 125.133301, 3.0], [8.15632, 123.346316, 1.0], [8.157809, 123.846756, 1.0], [8.159272, 122.929573, 1.0], [8.161256, 123.958794, 2.0], [8.163357, 125.129957, 4.0], [8.166853, 125.999676, 1.0], [8.187, 125.853, 1.0], [8.187272, 125.852816, 1.0], [8.187962, 125.852918, 1.0], [8.196758, 125.06471, 1.0], [8.20529, 123.264409, 1.0], [8.217759, 126.314871, 1.0], [8.225311, 125.182447, 1.0], [8.230461, 123.006845, 1.0], [8.234867, 122.998349, 1.0], [8.239274, 124.456908, 1.0], [8.240043, 124.244766, 5.0], [8.242778, 126.2275, 1.0], [8.243333, 125.001667, 1.0], [8.246064, 126.229219, 1.0], [8.251043, 125.716202, 1.0], [8.258316, 123.60576, 1.0], [8.258333, 123.605833, 1.0], [8.261139, 125.609547, 2.0], [8.262409, 125.029065, 1.0], [8.266667, 124.983333, 1.0], [8.266954, 123.101039, 1.0], [8.268645, 125.739667, 1.0], [8.26971, 125.806337, 1.0], [8.270833, 125.799722, 1.0], [8.272934, 125.799743, 1.0], [8.280488, 126.255202, 1.0], [8.289271, 125.027471, 1.0], [8.299469, 125.112583, 1.0], [8.3061, 125.093932, 1.0], [8.310013, 125.999741, 2.0], [8.312616, 126.003615, 1.0], [8.312616, 126.003616, 1.0], [8.313322, 126.009354, 1.0], [8.316667, 124.566667, 1.0], [8.338611, 125.796111, 1.0], [8.340557, 126.186992, 1.0], [8.340676, 126.010043, 1.0], [8.342306, 125.648382, 1.0], [8.345058, 124.976724, 1.0], [8.356982, 124.828766, 1.0], [8.36782, 124.868401, 2.0], [8.37107, 126.30948, 1.0], [8.37182, 126.337345, 1.0], [8.380612, 124.704159, 1.0], [8.38068, 124.704146, 1.0], [8.381583, 126.002471, 1.0], [8.383211, 124.698822, 2.0], [8.383212, 125.820122, 1.0], [8.416667, 125.116667, 1.0], [8.417402, 125.529355, 1.0], [8.420361, 125.16948, 1.0], [8.421558, 124.502702, 1.0], [8.421877, 125.839596, 5.0], [8.430669, 125.012355, 1.0], [8.439771, 125.752588, 1.0], [8.445705, 125.787864, 1.0], [8.45, 126.166667, 4.0], [8.450309, 125.752093, 1.0], [8.455393, 125.159241, 1.0], [8.457594, 126.157642, 1.0], [8.458153, 126.157312, 1.0], [8.460868, 123.202257, 1.0], [8.466397, 125.137879, 1.0], [8.469066, 125.831184, 1.0], [8.474003, 126.118471, 1.0], [8.477977, 125.74539, 1.0], [8.478, 125.744, 2.0], [8.478217, 125.745846, 1.0], [8.478533, 125.744797, 1.0], [8.479444, 126.120833, 1.0], [8.479979, 125.746904, 1.0], [8.481584, 125.744367, 1.0], [8.482536, 124.647404, 2.0], [8.485491, 126.046919, 1.0], [8.486497, 126.047207, 1.0], [8.487969, 124.650082, 2.0], [8.488204, 126.083977, 1.0], [8.49194, 125.163761, 1.0], [8.504613, 125.740872, 1.0], [8.505543, 125.740688, 1.0], [8.510029, 125.967587, 1.0], [8.518432, 123.09752, 1.0], [8.52307, 126.126277, 1.0], [8.526701, 126.114407, 1.0], [8.531386, 123.364368, 1.0], [8.537056, 126.119442, 1.0], [8.540491, 126.114476, 2.0], [8.544784, 125.444062, 1.0], [8.565139, 125.522394, 2.0], [8.5686, 125.521584, 1.0], [8.578528, 125.898704, 1.0], [8.581552, 123.344275, 2.0], [8.584974, 123.342845, 3.0], [8.587025, 123.342026, 1.0], [8.591197, 125.886192, 1.0], [8.598901, 125.917096, 1.0], [8.6, 125.916667, 2.0], [8.602355, 125.915755, 1.0], [8.611336, 124.894798, 1.0], [8.617308, 125.984131, 1.0], [8.618699, 125.492421, 1.0], [8.628203, 117.451236, 1.0], [8.632745, 126.095013, 1.0], [8.633052, 126.095835, 1.0], [8.636616, 126.067595, 1.0], [8.644021, 125.94552, 1.0], [8.656259, 117.510498, 1.0], [8.661871, 125.65418, 1.0], [8.66455, 126.063505, 1.0], [8.672499, 117.559443, 1.0], [8.674814, 126.137768, 1.0], [8.67694, 125.64694, 1.0], [8.677388, 117.341767, 1.0], [8.683174, 126.06148, 1.0], [8.69693, 125.131872, 1.0], [8.698314, 124.979063, 1.0], [8.714863, 125.749679, 1.0], [8.715891, 125.751038, 4.0], [8.731382, 126.202814, 1.0], [8.742664, 124.780998, 1.0], [8.74368, 124.775952, 1.0], [8.743889, 125.066605, 1.0], [8.744024, 124.776528, 2.0], [8.744462, 124.781605, 1.0], [8.744872, 124.782494, 1.0], [8.745044, 124.776818, 1.0], [8.750112, 124.797942, 1.0], [8.766104, 126.238398, 1.0], [8.777671, 125.569341, 1.0], [8.783365, 124.820655, 1.0], [8.793432, 125.579464, 1.0], [8.8, 124.783333, 2.0], [8.800343, 126.300013, 1.0], [8.800501, 126.300016, 1.0], [8.800893, 126.299836, 1.0], [8.80119, 125.422184, 1.0], [8.801867, 126.30035, 1.0], [8.802795, 124.797429, 1.0], [8.807483, 124.790124, 1.0], [8.810264, 125.525615, 1.0], [8.810398, 125.10698, 1.0], [8.816027, 125.70002, 1.0], [8.816667, 125.7, 2.0], [8.818475, 125.69826, 1.0], [8.818752, 125.103207, 1.0], [8.822198, 125.100987, 1.0], [8.822313, 125.693318, 1.0], [8.822983, 125.699921, 1.0], [8.82299, 125.097636, 1.0], [8.823889, 124.805, 1.0], [8.82703, 126.294545, 1.0], [8.827689, 125.099855, 1.0], [8.834771, 117.878516, 1.0], [8.834907, 125.210759, 1.0], [8.850162, 124.836494, 1.0], [8.857933, 125.731428, 1.0], [8.859, 124.789, 1.0], [8.859709, 124.788662, 1.0], [8.861963, 124.78942, 1.0], [8.865817, 125.55835, 1.0], [8.866664, 126.036107, 1.0], [8.868648, 126.050244, 1.0], [8.869808, 125.42743, 1.0], [8.879689, 126.022192, 1.0], [8.880206, 124.868101, 1.0], [8.882988, 125.997348, 1.0], [8.883274, 126.000161, 1.0], [8.883333, 126.0, 2.0], [8.890529, 125.541196, 1.0], [8.892579, 126.300309, 1.0], [8.893579, 126.306719, 1.0], [8.894622, 124.826606, 1.0], [8.895, 125.775278, 1.0], [8.914457, 124.784563, 1.0], [8.917107, 125.507236, 1.0], [8.91861, 126.30111, 2.0], [8.919581, 124.783746, 1.0], [8.921944, 125.290556, 1.0], [8.929135, 125.398729, 1.0], [8.938724, 125.247811, 1.0], [8.93887, 125.247812, 1.0], [8.939052, 125.247994, 1.0], [8.941944, 126.187778, 2.0], [8.943034, 125.534801, 2.0], [8.946774, 125.54125, 1.0], [8.947538, 125.540623, 2.0], [8.947626, 125.540529, 1.0], [8.948247, 125.541107, 5.0], [8.948336, 125.54269, 1.0], [8.949207, 125.539325, 1.0], [8.949904, 125.533336, 1.0], [8.952956, 125.54746, 1.0], [8.961028, 125.759476, 1.0], [8.964095, 124.895434, 1.0], [8.964295, 126.11108, 1.0], [8.966669, 126.15, 1.0], [8.968959, 125.336637, 1.0], [8.97149, 125.351822, 2.0], [8.985095, 124.79353, 1.0], [8.990476, 125.295138, 1.0], [9.000299, 124.88091, 1.0], [9.000313, 125.269224, 1.0], [9.004195, 125.647026, 1.0], [9.004444, 125.645278, 1.0], [9.02025, 126.23322, 2.0], [9.021072, 125.686072, 1.0], [9.02111, 126.23167, 1.0], [9.05, 118.033333, 1.0], [9.05, 125.9, 2.0], [9.051115, 125.899608, 1.0], [9.051549, 118.049001, 1.0], [9.053414, 125.5866, 1.0], [9.053611, 125.586667, 1.0], [9.062643, 125.211945, 1.0], [9.064333, 125.667296, 1.0], [9.073155, 125.89024, 1.0], [9.073381, 123.016987, 1.0], [9.077235, 126.197832, 1.0], [9.079478, 126.198697, 1.0], [9.079628, 126.19874, 1.0], [9.079981, 125.614655, 1.0], [9.094576, 126.16043, 1.0], [9.09878, 125.698659, 1.0], [9.099348, 125.667894, 1.0], [9.1082, 124.7051, 1.0], [9.139722, 125.559722, 1.0], [9.146832, 126.173511, 1.0], [9.163372, 117.825916, 1.0], [9.164595, 125.523167, 1.0], [9.165452, 125.522668, 2.0], [9.16667, 123.05, 1.0], [9.209105, 126.176575, 1.0], [9.215262, 125.565209, 1.0], [9.216791, 125.963835, 1.0], [9.216819, 125.966701, 1.0], [9.216941, 125.965267, 1.0], [9.228554, 126.016603, 1.0], [9.228859, 126.016544, 1.0], [9.230375, 125.565639, 1.0], [9.232036, 125.975095, 1.0], [9.233334, 126.166664, 1.0], [9.234649, 126.167054, 1.0], [9.234873, 126.165522, 1.0], [9.241662, 125.631419, 1.0], [9.246753, 118.408503, 1.0], [9.25, 125.6425, 1.0], [9.294633, 123.278843, 1.0], [9.295934, 125.960453, 2.0], [9.300613, 123.300167, 1.0], [9.307081, 123.30521, 2.0], [9.307278, 123.308201, 2.0], [9.316689, 125.556297, 1.0], [9.34, 125.52, 1.0], [9.34203, 125.516331, 1.0], [9.342032, 125.515895, 1.0], [9.343975, 122.923919, 1.0], [9.344678, 122.924243, 1.0], [9.34528, 125.552905, 1.0], [9.368578, 125.948802, 1.0], [9.418651, 125.620689, 1.0], [9.420658, 125.620484, 1.0], [9.422818, 125.677489, 1.0], [9.445284, 125.584089, 1.0], [9.448709, 125.57143, 3.0], [9.452212, 125.574816, 1.0], [9.452782, 125.574522, 1.0], [9.452928, 125.574473, 1.0], [9.455622, 125.574249, 1.0], [9.467411, 125.576506, 1.0], [9.469021, 125.597222, 1.0], [9.469599, 125.5972, 1.0], [9.470029, 125.581997, 1.0], [9.470269, 123.204934, 1.0], [9.477941, 125.580588, 1.0], [9.515282, 125.636624, 1.0], [9.515858, 123.157792, 1.0], [9.539867, 125.812852, 1.0], [9.543137, 125.524902, 1.0], [9.546316, 122.519442, 1.0], [9.549522, 125.620716, 1.0], [9.553828, 125.569656, 1.0], [9.5725, 125.73306, 3.0], [9.5882, 125.6537, 2.0], [9.591546, 123.121182, 1.0], [9.595122, 125.456352, 1.0], [9.595312, 125.698534, 1.0], [9.59953, 122.470532, 1.0], [9.613777, 125.411322, 1.0], [9.617155, 125.401468, 1.0], [9.617466, 125.40209, 2.0], [9.618367, 125.401583, 1.0], [9.637574, 125.571258, 1.0], [9.649723, 123.857008, 1.0], [9.661602, 122.4577, 1.0], [9.680242, 125.503993, 1.0], [9.681835, 125.396062, 1.0], [9.6864, 123.0122, 1.0], [9.686468, 122.517901, 1.0], [9.691078, 118.577846, 1.0], [9.69423, 125.504891, 1.0], [9.710856, 125.502383, 1.0], [9.71623, 125.504322, 1.0], [9.717225, 125.47665, 1.0], [9.718216, 125.476177, 1.0], [9.730278, 125.430833, 1.0], [9.733738, 122.928037, 2.0], [9.735495, 125.519264, 1.0], [9.737313, 118.734398, 1.0], [9.749279, 122.406413, 1.0], [9.751524, 122.401475, 1.0], [9.75192, 122.490336, 1.0], [9.756393, 123.972749, 1.0], [9.763175, 125.488415, 1.0], [9.77026, 122.467818, 2.0], [9.78472, 125.489693, 4.0], [9.788011, 125.492662, 1.0], [9.801285, 123.794438, 1.0], [9.824592, 122.908241, 1.0], [9.826864, 122.642296, 1.0], [9.860086, 124.007877, 1.0], [9.899322, 124.282239, 1.0], [9.902399, 122.591801, 1.0], [9.937655, 122.828535, 1.0], [9.942985, 122.58252, 1.0], [9.942986, 122.58252, 1.0], [9.947791, 122.449677, 1.0], [9.963276, 124.211676, 1.0], [9.968412, 122.624906, 1.0], [9.971008, 122.624128, 1.0], [9.971311, 122.623506, 1.0], [9.977227, 122.555143, 1.0], [9.979697, 122.482514, 1.0], [9.988889, 122.812222, 1.0], [10.028978, 122.847903, 1.0], [10.030048, 123.231727, 1.0], [10.071629, 122.847405, 1.0], [10.072727, 122.862595, 1.0], [10.080622, 122.884023, 1.0], [10.089791, 122.868499, 1.0], [10.090127, 122.868547, 1.0], [10.090245, 122.868323, 1.0], [10.0964, 122.946, 1.0], [10.099319, 122.870788, 1.0], [10.115545, 123.26972, 1.0], [10.116667, 123.26667, 1.0], [10.116899, 123.267249, 1.0], [10.117858, 123.224263, 1.0], [10.118769, 123.2704, 2.0], [10.119626, 122.980442, 1.0], [10.119626, 123.270972, 1.0], [10.119955, 123.272218, 1.0], [10.120328, 123.271863, 1.0], [10.120571, 123.272642, 1.0], [10.12085, 123.273881, 1.0], [10.129501, 123.239133, 1.0], [10.13832, 123.247024, 1.0], [10.1675, 123.040833, 1.0], [10.185557, 123.11749, 1.0], [10.18668, 123.131017, 1.0], [10.187836, 123.004886, 1.0], [10.190674, 122.852482, 1.0], [10.199695, 122.866307, 1.0], [10.201146, 122.983157, 1.0], [10.202233, 122.987772, 1.0], [10.202346, 122.984318, 1.0], [10.206949, 122.944672, 1.0], [10.239637, 123.261226, 1.0], [10.246463, 119.214643, 1.0], [10.2813, 123.1429, 1.0], [10.294671, 123.899858, 1.0], [10.295334, 123.87825, 10.0], [10.295953, 125.050021, 1.0], [10.299222, 123.114941, 1.0], [10.306418, 119.255836, 1.0], [10.319474, 123.019802, 2.0], [10.324233, 123.926041, 1.0], [10.366356, 123.17902, 1.0], [10.36674, 123.1, 1.0], [10.3725, 123.123611, 1.0], [10.38, 123.2, 1.0], [10.386317, 123.22612, 1.0], [10.457043, 122.859683, 1.0], [10.518937, 123.03455, 1.0], [10.532904, 122.836652, 1.0], [10.53333, 122.83333, 1.0], [10.562839, 119.302007, 1.0], [10.565506, 123.081714, 1.0], [10.580451, 122.065048, 1.0], [10.59583, 123.483172, 1.0], [10.649638, 122.233525, 1.0], [10.649982, 122.233303, 2.0], [10.651836, 122.233357, 1.0], [10.663841, 122.590683, 1.0], [10.663984, 122.286655, 1.0], [10.66925, 122.949054, 7.0], [10.679504, 119.570503, 1.0], [10.686589, 122.511157, 1.0], [10.688228, 122.544345, 1.0], [10.690601, 122.387355, 1.0], [10.69649, 122.564451, 3.0], [10.69885, 123.349, 1.0], [10.714321, 123.516045, 1.0], [10.715796, 122.266237, 1.0], [10.716471, 123.516044, 1.0], [10.716484, 122.266241, 1.0], [10.716627, 123.51653, 1.0], [10.716667, 122.266667, 1.0], [10.718053, 122.201564, 1.0], [10.722177, 122.268599, 2.0], [10.723333, 123.510632, 1.0], [10.72703, 123.826289, 1.0], [10.739211, 123.444614, 1.0], [10.747932, 122.103989, 1.0], [10.751114, 122.223519, 1.0], [10.756961, 123.48208, 1.0], [10.76228, 123.369251, 1.0], [10.765019, 122.061017, 1.0], [10.779355, 123.488764, 1.0], [10.780315, 122.387872, 1.0], [10.780442, 122.383039, 1.0], [10.782416, 123.459842, 1.0], [10.783333, 122.3, 2.0], [10.7836, 122.300054, 1.0], [10.78569, 122.304711, 1.0], [10.786173, 122.206377, 1.0], [10.799732, 122.976272, 1.0], [10.801934, 123.488506, 1.0], [10.817626, 119.499057, 1.0], [10.820629, 123.557071, 1.0], [10.824449, 122.267812, 1.0], [10.840278, 123.499167, 1.0], [10.841239, 123.499231, 1.0], [10.841287, 123.499336, 1.0], [10.841391, 123.498609, 1.0], [10.84309, 123.499671, 1.0], [10.878378, 123.408287, 1.0], [10.88, 122.43, 1.0], [10.880225, 119.420898, 1.0], [10.882292, 123.065066, 1.0], [10.892867, 123.415243, 1.0], [10.893, 122.434998, 1.0], [10.895222, 123.018631, 1.0], [10.902124, 123.071524, 1.0], [10.916619, 124.699994, 1.0], [10.926348, 123.309328, 1.0], [10.935539, 123.421971, 2.0], [10.950626, 123.336393, 1.0], [10.95684, 123.308547, 2.0], [10.95803, 123.123, 1.0], [10.974698, 124.893489, 1.0], [11.004984, 122.537274, 1.0], [11.016887, 124.600609, 1.0], [11.025189, 122.441258, 1.0], [11.03465, 125.733197, 1.0], [11.042822, 124.61751, 1.0], [11.100556, 124.685833, 1.0], [11.110724, 125.445758, 1.0], [11.119894, 122.570625, 1.0], [11.122297, 122.51087, 1.0], [11.134689, 122.500626, 1.0], [11.14579, 122.514644, 1.0], [11.150919, 122.651762, 1.0], [11.158063, 124.990945, 1.0], [11.169659, 124.853559, 1.0], [11.187278, 124.782207, 1.0], [11.188, 124.782, 1.0], [11.18954, 125.013987, 1.0], [11.216977, 122.434284, 1.0], [11.242199, 122.695547, 1.0], [11.244315, 125.004748, 1.0], [11.250942, 124.001041, 1.0], [11.261504, 122.536964, 1.0], [11.261925, 122.538903, 1.0], [11.263506, 122.53376, 1.0], [11.263605, 122.688646, 2.0], [11.26477, 125.535923, 1.0], [11.264832, 123.714728, 1.0], [11.266046, 122.683063, 1.0], [11.266667, 122.533333, 2.0], [11.280686, 125.550195, 1.0], [11.282051, 125.069369, 1.0], [11.287818, 122.405893, 1.0], [11.3, 124.68, 1.0], [11.34887, 122.60967, 1.0], [11.376115, 122.545184, 1.0], [11.378541, 125.201582, 1.0], [11.386903, 122.780944, 1.0], [11.387, 122.781991, 1.0], [11.390865, 122.648119, 1.0], [11.41676, 125.166192, 1.0], [11.425203, 122.650761, 1.0], [11.433122, 122.106467, 1.0], [11.447249, 124.428682, 1.0], [11.447279, 125.491158, 1.0], [11.501172, 125.501514, 1.0], [11.50681, 122.794325, 1.0], [11.583658, 122.752783, 1.0], [11.586558, 122.753716, 1.0], [11.594645, 124.574937, 1.0], [11.613123, 124.986496, 1.0], [11.632817, 122.339541, 1.0], [11.635611, 124.368139, 1.0], [11.701254, 122.363766, 1.0], [11.743293, 124.054892, 1.0], [11.770234, 124.922361, 1.0], [11.772923, 124.884424, 1.0], [11.775031, 124.883423, 1.0], [11.778665, 124.978519, 1.0], [11.833624, 122.083797, 1.0], [11.836268, 124.961687, 1.0], [11.846274, 125.126754, 2.0], [11.85022, 125.11531, 1.0], [11.882344, 124.046159, 2.0], [11.900089, 124.033088, 1.0], [11.904644, 124.032587, 1.0], [11.935426, 123.951802, 1.0], [11.939668, 125.023589, 1.0], [11.94284, 124.00737, 1.0], [11.979516, 124.825369, 1.0], [11.980769, 124.824215, 1.0], [11.980844, 124.825271, 1.0], [11.995278, 125.447222, 1.0], [12.004208, 123.998959, 1.0], [12.023278, 125.03354, 1.0], [12.025238, 123.278449, 1.0], [12.026849, 123.693881, 1.0], [12.029528, 124.812417, 1.0], [12.031783, 123.214528, 1.0], [12.03279, 123.68289, 1.0], [12.033378, 123.200461, 1.0], [12.037831, 123.193661, 1.0], [12.038, 125.481, 1.0], [12.040278, 123.983056, 2.0], [12.040721, 123.775566, 1.0], [12.05, 125.067, 1.0], [12.055794, 123.72942, 1.0], [12.0592, 124.61495, 1.0], [12.067318, 124.595898, 1.0], [12.068103, 123.722371, 1.0], [12.072652, 123.970902, 1.0], [12.0741, 123.9706, 1.0], [12.1, 125.166667, 1.0], [12.116667, 123.883333, 1.0], [12.138858, 123.790941, 1.0], [12.1406, 125.4397, 1.0], [12.143935, 124.893136, 1.0], [12.14432, 124.885109, 1.0], [12.154889, 124.886672, 1.0], [12.159882, 124.865646, 1.0], [12.168148, 123.77412, 1.0], [12.170076, 123.36171, 1.0], [12.175646, 123.730202, 1.0], [12.179017, 123.874841, 1.0], [12.183333, 123.866669, 1.0], [12.191633, 123.759328, 1.0], [12.201111, 124.617222, 1.0], [12.21343, 123.805118, 1.0], [12.215028, 123.820561, 1.0], [12.21814, 123.50951, 2.0], [12.221115, 123.823367, 4.0], [12.224609, 123.784397, 1.0], [12.225086, 123.783739, 1.0], [12.225309, 123.783225, 2.0], [12.225849, 123.283313, 1.0], [12.23686, 124.37529, 2.0], [12.256057, 123.742061, 1.0], [12.267, 125.371, 2.0], [12.268195, 125.369489, 1.0], [12.26919, 123.540417, 1.0], [12.290946, 123.703737, 1.0], [12.29156, 124.616358, 1.0], [12.292754, 125.13779, 1.0], [12.3, 124.83333, 1.0], [12.30004, 124.833415, 1.0], [12.306408, 125.016787, 1.0], [12.315098, 123.424616, 1.0], [12.321094, 124.892505, 1.0], [12.327349, 125.153096, 1.0], [12.333827, 121.34998, 1.0], [12.33687, 123.659981, 1.0], [12.338, 123.658997, 2.0], [12.338428, 121.118635, 1.0], [12.339263, 125.031507, 1.0], [12.339499, 125.033855, 1.0], [12.339712, 125.032066, 1.0], [12.34, 125.032005, 1.0], [12.340315, 125.069098, 1.0], [12.348722, 121.065795, 1.0], [12.352465, 125.019541, 1.0], [12.35275, 121.06761, 1.0], [12.367627, 123.621646, 2.0], [12.367922, 123.620761, 4.0], [12.369767, 123.626846, 1.0], [12.381842, 123.524934, 1.0], [12.382934, 125.29949, 2.0], [12.401442, 121.327466, 1.0], [12.408223, 123.753794, 1.0], [12.408876, 125.052883, 1.0], [12.409557, 125.054484, 1.0], [12.41667, 124.61667, 1.0], [12.420577, 123.780237, 1.0], [12.426075, 123.507391, 1.0], [12.428241, 124.637575, 1.0], [12.454722, 123.771389, 1.0], [12.458056, 125.045556, 1.0], [12.462716, 124.64334, 1.0], [12.466744, 124.647889, 1.0], [12.479267, 123.739079, 1.0], [12.480833, 124.422222, 1.0], [12.48274, 123.718241, 1.0], [12.4833, 123.7622, 1.0], [12.484005, 123.382507, 1.0], [12.49646, 123.717095, 1.0], [12.503525, 124.637103, 1.0], [12.510915, 124.283352, 1.0], [12.511175, 123.397981, 1.0], [12.511444, 123.397648, 1.0], [12.51599, 123.666215, 2.0], [12.517106, 124.752246, 1.0], [12.526593, 123.746564, 1.0], [12.531642, 120.953223, 1.0], [12.53232, 125.120518, 1.0], [12.535607, 125.129215, 1.0], [12.540585, 123.638902, 1.0], [12.562855, 124.933601, 1.0], [12.566123, 123.730269, 1.0], [12.566641, 123.733356, 1.0], [12.5677, 123.7337, 1.0], [12.583226, 123.699987, 1.0], [12.583333, 124.083333, 1.0], [12.588993, 124.069382, 1.0], [12.589877, 124.09236, 1.0], [12.592344, 121.092207, 1.0], [12.60775, 124.057775, 1.0], [12.611713, 124.055114, 1.0], [12.615547, 124.05756, 1.0], [12.620952, 124.044771, 1.0], [12.622839, 123.668206, 1.0], [12.627043, 124.069382, 1.0], [12.63597, 123.659062, 1.0], [12.637598, 121.440857, 1.0], [12.658218, 123.953912, 1.0], [12.664751, 123.887642, 1.0], [12.666227, 123.876248, 1.0], [12.666918, 123.876024, 1.0], [12.67139, 123.875, 1.0], [12.681875, 123.888588, 1.0], [12.701949, 121.376471, 1.0], [12.702007, 124.035435, 1.0], [12.702727, 124.034119, 1.0], [12.703025, 124.032991, 1.0], [12.703378, 124.045004, 1.0], [12.708158, 123.894143, 1.0], [12.708414, 123.359088, 1.0], [12.715326, 124.056716, 1.0], [12.716728, 121.382804, 1.0], [12.730556, 124.018889, 1.0], [12.731798, 124.068574, 1.0], [12.750193, 124.13716, 1.0], [12.750256, 124.136099, 1.0], [12.750697, 123.926582, 1.0], [12.759986, 123.930399, 1.0], [12.77549, 123.313054, 1.0], [12.776606, 123.952547, 1.0], [12.785296, 123.861547, 1.0], [12.811649, 123.967346, 1.0], [12.824688, 124.088357, 1.0], [12.829859, 123.876641, 1.0], [12.833054, 123.839743, 1.0], [12.834209, 124.104303, 1.0], [12.83469, 124.056501, 1.0], [12.850032, 123.98328, 1.0], [12.850547, 124.071311, 1.0], [12.856755, 123.894753, 1.0], [12.858132, 124.018693, 1.0], [12.858529, 120.909917, 1.0], [12.862616, 124.142576, 1.0], [12.86674, 124.016722, 1.0], [12.867368, 124.143448, 1.0], [12.872289, 124.009018, 1.0], [12.874015, 124.009082, 1.0], [12.874442, 124.010727, 1.0], [12.890648, 124.130917, 1.0], [12.901758, 123.245241, 2.0], [12.901781, 123.246284, 1.0], [12.902997, 123.247, 1.0], [12.903, 123.247, 1.0], [12.903506, 123.245997, 1.0], [12.910538, 124.042478, 1.0], [12.91182, 123.602699, 1.0], [12.918374, 123.659351, 1.0], [12.91851, 124.120324, 1.0], [12.919579, 124.123607, 1.0], [12.920064, 124.123, 1.0], [12.920182, 124.122775, 3.0], [12.920444, 124.122866, 1.0], [12.921375, 124.122678, 1.0], [12.921377, 124.124267, 1.0], [12.923379, 123.675023, 1.0], [12.933598, 123.683153, 1.0], [12.934551, 123.781102, 1.0], [12.935278, 124.082778, 1.0], [12.937425, 124.11812, 1.0], [12.943154, 124.06971, 1.0], [12.950056, 123.880422, 1.0], [12.951401, 123.880837, 1.0], [12.956339, 124.047199, 1.0], [12.970187, 124.004177, 3.0], [12.974122, 123.989566, 1.0], [12.974366, 124.025248, 1.0], [12.980138, 123.650937, 1.0], [12.9821, 124.1415, 1.0], [12.98995, 123.673353, 1.0], [12.990552, 124.010798, 10.0], [12.99218, 124.011269, 1.0], [12.99271, 124.014746, 1.0], [13.003889, 124.000525, 1.0], [13.014076, 124.071008, 1.0], [13.025418, 124.028392, 1.0], [13.027291, 124.063648, 1.0], [13.029954, 123.665146, 1.0], [13.033117, 123.449759, 1.0], [13.034587, 122.988681, 1.0], [13.035417, 123.447825, 1.0], [13.036508, 123.450033, 1.0], [13.037584, 124.122482, 1.0], [13.040437, 124.042512, 1.0], [13.041355, 124.194025, 1.0], [13.046774, 123.687589, 1.0], [13.058242, 124.015178, 1.0], [13.058511, 124.014776, 1.0], [13.067108, 123.695149, 1.0], [13.071, 123.598, 1.0], [13.076936, 123.701406, 1.0], [13.077043, 123.701472, 1.0], [13.086041, 123.685563, 1.0], [13.092207, 123.500619, 1.0], [13.098262, 123.709857, 1.0], [13.102385, 123.511992, 1.0], [13.102427, 123.700122, 1.0], [13.105475, 123.698382, 1.0], [13.108465, 123.566352, 1.0], [13.111536, 123.676382, 2.0], [13.132009, 123.89089, 1.0], [13.141662, 123.743365, 1.0], [13.144459, 121.440609, 1.0], [13.144704, 123.741555, 1.0], [13.145438, 121.438575, 1.0], [13.146993, 123.754556, 1.0], [13.147154, 123.748632, 1.0], [13.14953, 123.712601, 1.0], [13.161795, 123.69399, 1.0], [13.161956, 123.693955, 2.0], [13.165868, 123.638614, 1.0], [13.170204, 123.527633, 1.0], [13.173328, 121.277093, 1.0], [13.176892, 123.545037, 1.0], [13.177483, 123.528007, 1.0], [13.18385, 123.413771, 1.0], [13.186049, 123.540123, 1.0], [13.189, 123.599, 1.0], [13.192288, 123.59917, 1.0], [13.196728, 123.592163, 1.0], [13.20547, 123.582193, 1.0], [13.215948, 123.516667, 1.0], [13.21738, 123.51655, 1.0], [13.220899, 120.599179, 1.0], [13.227022, 123.596058, 1.0], [13.240874, 123.537612, 3.0], [13.251747, 123.571169, 1.0], [13.27367, 123.525828, 1.0], [13.29127, 122.54445, 1.0], [13.291837, 123.491577, 2.0], [13.301, 123.438, 1.0], [13.318707, 123.738248, 1.0], [13.318755, 123.73859, 1.0], [13.318923, 123.314933, 1.0], [13.329722, 122.53, 1.0], [13.358975, 123.291464, 1.0], [13.373712, 123.240692, 1.0], [13.413213, 121.175236, 2.0], [13.416, 120.4623, 1.0], [13.416669, 120.463345, 1.0], [13.417375, 120.470731, 1.0], [13.432636, 123.413066, 1.0], [13.450183, 120.733211, 1.0], [13.468742, 123.277115, 1.0], [13.471834, 123.35142, 1.0], [13.489285, 123.618496, 1.0], [13.493886, 123.325117, 1.0], [13.509638, 123.043699, 1.0], [13.515076, 123.049149, 1.0], [13.518961, 123.049852, 1.0], [13.529941, 123.45445, 1.0], [13.545925, 122.372556, 1.0], [13.560981, 123.374843, 2.0], [13.571118, 123.186766, 1.0], [13.580829, 123.44216, 1.0], [13.584489, 124.211161, 1.0], [13.5926, 122.3215, 1.0], [13.594771, 122.878054, 1.0], [13.595181, 122.323047, 1.0], [13.595447, 124.099567, 1.0], [13.621255, 123.200351, 1.0], [13.6222, 122.2178, 1.0], [13.629346, 124.301548, 1.0], [13.641111, 124.300833, 1.0], [13.654084, 123.167483, 1.0], [13.65625, 122.985452, 1.0], [13.670775, 123.008377, 1.0], [13.673167, 121.397073, 1.0], [13.69346, 123.061736, 1.0], [13.693546, 123.060366, 2.0], [13.694464, 123.060053, 1.0], [13.6978, 123.4892, 1.0], [13.698027, 123.48998, 1.0], [13.699915, 123.492994, 1.0], [13.7, 123.066666, 1.0], [13.700002, 123.066383, 1.0], [13.705556, 123.444722, 1.0], [13.708611, 124.361944, 1.0], [13.726178, 123.117581, 1.0], [13.729444, 123.535, 1.0], [13.7335, 123.51688, 1.0], [13.733903, 123.521401, 1.0], [13.735085, 123.416094, 1.0], [13.736638, 123.869033, 1.0], [13.747556, 122.456188, 1.0], [13.7576, 121.058325, 3.0], [13.762966, 122.963632, 1.0], [13.767671, 122.976515, 1.0], [13.76844, 123.533188, 1.0], [13.7707, 123.8631, 1.0], [13.783352, 124.394464, 2.0], [13.795153, 122.251963, 1.0], [13.807022, 122.910116, 1.0], [13.816366, 122.781614, 1.0], [13.816667, 122.783333, 1.0], [13.816872, 122.783772, 1.0], [13.81816, 121.133391, 1.0], [13.818619, 122.789848, 1.0], [13.819335, 124.175444, 1.0], [13.820728, 122.791793, 1.0], [13.821384, 122.792685, 1.0], [13.827547, 124.267638, 2.0], [13.831945, 122.878003, 1.0], [13.831948, 122.298891, 1.0], [13.832023, 122.877813, 2.0], [13.836559, 122.832477, 1.0], [13.882276, 120.913666, 1.0], [13.883333, 122.25, 1.0], [13.883652, 120.916182, 1.0], [13.899285, 124.268417, 1.0], [13.907845, 122.183119, 1.0], [13.917247, 122.688482, 1.0], [13.918468, 120.878524, 1.0], [13.920492, 122.100999, 1.0], [13.9213, 120.878729, 1.0], [13.92167, 122.595829, 1.0], [13.922197, 122.595477, 3.0], [13.924384, 122.596213, 1.0], [13.931052, 121.617683, 2.0], [13.934145, 120.814387, 1.0], [13.934268, 121.426903, 1.0], [13.93585, 121.951654, 1.0], [13.938805, 121.620829, 4.0], [13.962909, 121.526711, 2.0], [13.9664, 122.5383, 1.0], [13.968784, 120.793169, 1.0], [13.971381, 121.686889, 1.0], [13.978595, 121.087967, 1.0], [13.980519, 121.96262, 1.0], [13.997257, 124.182039, 1.0], [13.997293, 121.919201, 1.0], [14.01344, 122.522142, 1.0], [14.029338, 124.141411, 1.0], [14.031391, 122.113091, 1.0], [14.033845, 124.151688, 1.0], [14.046328, 121.874954, 1.0], [14.064385, 121.208259, 1.0], [14.066109, 122.964542, 1.0], [14.066123, 122.963889, 1.0], [14.066667, 120.633333, 1.0], [14.071155, 120.761948, 1.0], [14.078639, 122.963676, 1.0], [14.101845, 120.723782, 1.0], [14.114121, 121.554863, 1.0], [14.115558, 122.956465, 1.0], [14.117278, 122.951293, 1.0], [14.119686, 122.625722, 1.0], [14.133789, 122.049161, 1.0], [14.137428, 122.411233, 1.0], [14.147853, 121.596165, 1.0], [14.148038, 122.650877, 1.0], [14.149444, 121.493611, 1.0], [14.150733, 121.53574, 1.0], [14.152848, 122.672946, 1.0], [14.153689, 120.609202, 1.0], [14.15551, 121.566027, 1.0], [14.16014, 122.829903, 2.0], [14.163709, 120.629633, 1.0], [14.182691, 122.784392, 1.0], [14.184052, 121.516664, 1.0], [14.184076, 122.701195, 1.0], [14.192103, 120.59982, 1.0], [14.198272, 121.501047, 1.0], [14.216667, 121.75, 1.0], [14.219264, 120.977473, 2.0], [14.258881, 120.916081, 1.0], [14.272535, 121.453144, 1.0], [14.273975, 122.597398, 1.0], [14.275742, 122.643585, 1.0], [14.276771, 122.705349, 3.0], [14.283364, 122.783469, 1.0], [14.285594, 122.469369, 1.0], [14.297493, 121.498002, 1.0], [14.301147, 121.111935, 1.0], [14.30371, 121.078309, 1.0], [14.3124, 122.7192, 1.0], [14.330389, 122.493885, 2.0], [14.34251, 121.576957, 1.0], [14.346627, 121.05041, 1.0], [14.386447, 121.478155, 1.0], [14.401977, 121.032784, 1.0], [14.429899, 120.936606, 1.0], [14.437222, 120.962449, 1.0], [14.459238, 120.929034, 1.0], [14.483853, 121.014503, 1.0], [14.497222, 121.286392, 1.0], [14.49833, 121.287083, 1.0], [14.514697, 121.066055, 1.0], [14.544539, 121.364079, 1.0], [14.549431, 121.033592, 5.0], [14.584232, 121.03904, 2.0], [14.596051, 120.978666, 171.0], [14.599352, 120.984772, 3.0], [14.602716, 120.395769, 1.0], [14.620213, 120.581583, 1.0], [14.626186, 121.125073, 2.0], [14.63029, 120.31427, 1.0], [14.647183, 121.103012, 1.0], [14.67428, 121.057495, 16.0], [14.679084, 120.539549, 32.0], [14.7166, 120.301567, 1.0], [14.736187, 121.153037, 1.0], [14.740025, 121.149719, 1.0], [14.7425, 121.649444, 1.0], [14.792523, 121.148472, 1.0], [14.799401, 120.926037, 1.0], [14.800875, 120.536954, 1.0], [14.813849, 121.045151, 1.0], [14.831529, 120.787805, 1.0], [14.83834, 120.285139, 2.0], [14.838794, 120.285018, 5.0], [14.844402, 121.96946, 1.0], [14.845045, 121.969344, 1.0], [14.853023, 120.817043, 1.0], [14.907244, 120.717412, 1.0], [14.910937, 121.049495, 1.0], [14.915362, 120.767766, 1.0], [14.933339, 121.816667, 1.0], [14.953046, 120.768174, 1.0], [14.965546, 120.632488, 1.0], [14.975632, 121.068392, 1.0], [15.06349, 120.725752, 2.0], [15.065238, 120.720051, 1.0], [15.071862, 120.076634, 1.0], [15.13799, 120.370473, 1.0], [15.149722, 120.769828, 2.0], [15.153002, 120.591942, 25.0], [15.185916, 120.54187, 1.0], [15.2151, 120.6596, 1.0], [15.221386, 121.408239, 1.0], [15.222743, 120.572886, 4.0], [15.28, 120.02, 1.0], [15.3047, 120.0417, 1.0], [15.319526, 120.937717, 4.0], [15.325997, 119.980529, 2.0], [15.332693, 120.590212, 2.0], [15.399881, 121.379124, 1.0], [15.40347, 120.60084, 1.0], [15.43669, 121.04746, 1.0], [15.470182, 120.9801, 1.0], [15.476183, 120.960686, 5.0], [15.478598, 120.599741, 3.0], [15.481284, 120.596634, 1.0], [15.543534, 121.085281, 4.0], [15.544809, 120.763556, 2.0], [15.547892, 121.085804, 1.0], [15.594984, 119.952367, 1.0], [15.602634, 121.051438, 1.0], [15.616544, 120.43591, 1.0], [15.631111, 121.143889, 1.0], [15.631174, 121.145, 1.0], [15.658991, 121.222136, 1.0], [15.666245, 120.743049, 1.0], [15.675051, 120.331618, 1.0], [15.677394, 121.12882, 1.0], [15.681193, 120.988965, 1.0], [15.710002, 119.952729, 1.0], [15.737871, 120.637966, 1.0], [15.75936, 121.563335, 1.0], [15.801528, 121.459624, 1.0], [15.808517, 121.146091, 1.0], [15.959405, 121.06625, 1.0], [15.964536, 121.062451, 1.0], [15.984035, 121.045297, 1.0], [16.019725, 120.230802, 1.0], [16.0274, 120.7434, 1.0], [16.030344, 120.229921, 4.0], [16.034761, 120.95895, 1.0], [16.070245, 120.765416, 1.0], [16.105772, 121.746511, 1.0], [16.110705, 120.545466, 1.0], [16.1231, 120.4056, 1.0], [16.255919, 121.685341, 1.0], [16.270042, 121.537, 1.0], [16.289944, 121.765294, 1.0], [16.314876, 121.659681, 1.0], [16.3167, 121.2965, 1.0], [16.332553, 121.787924, 1.0], [16.339782, 121.682125, 1.0], [16.360271, 120.677149, 1.0], [16.368395, 121.355567, 1.0], [16.41639, 120.59306, 5.0], [16.450018, 120.57759, 1.0], [16.451727, 120.5752, 1.0], [16.485635, 121.152656, 2.0], [16.514602, 121.748104, 1.0], [16.543576, 121.849185, 1.0], [16.577417, 121.18913, 1.0], [16.57755, 121.911829, 1.0], [16.651931, 121.085236, 1.0], [16.663036, 121.056387, 1.0], [16.670038, 121.71723, 1.0], [16.670136, 121.717106, 1.0], [16.670273, 121.717215, 1.0], [16.695955, 122.220008, 1.0], [16.701617, 120.974655, 1.0], [16.703499, 120.974849, 1.0], [16.751296, 122.028561, 1.0], [16.753657, 121.03983, 2.0], [16.771234, 121.098672, 1.0], [16.77664, 121.08651, 1.0], [16.780833, 122.024444, 1.0], [16.791487, 120.830925, 1.0], [16.799036, 121.122622, 4.0], [16.856811, 120.793674, 1.0], [16.866667, 120.783333, 1.0], [16.879671, 121.016035, 1.0], [16.883475, 120.97472, 3.0], [16.885565, 122.126684, 1.0], [16.8968, 120.7634, 1.0], [16.9146, 120.765421, 1.0], [16.9192, 120.7623, 1.0], [16.982354, 120.863486, 1.0], [16.983006, 122.016667, 1.0], [16.983038, 120.855017, 1.0], [16.983333, 122.016667, 4.0], [16.983334, 122.01667, 1.0], [16.985834, 121.960378, 1.0], [16.990875, 120.73286, 1.0], [16.991752, 120.733215, 1.0], [16.992113, 120.733804, 1.0], [16.9925, 120.734228, 1.0], [16.995849, 120.820084, 1.0], [16.996242, 120.820466, 1.0], [17.021916, 120.457568, 1.0], [17.04702, 120.927707, 1.0], [17.061261, 122.430037, 1.0], [17.074867, 120.456848, 1.0], [17.077778, 120.491667, 1.0], [17.080789, 120.450563, 1.0], [17.081516, 120.6083, 2.0], [17.0825, 121.943056, 1.0], [17.083333, 120.9, 1.0], [17.084296, 120.900532, 3.0], [17.084393, 120.900526, 1.0], [17.084571, 120.600637, 1.0], [17.086235, 120.974179, 1.0], [17.087511, 120.975462, 1.0], [17.08829, 120.978691, 2.0], [17.08915, 120.977552, 1.0], [17.091122, 120.978527, 1.0], [17.092014, 121.965256, 4.0], [17.102177, 120.684266, 1.0], [17.110084, 120.745771, 1.0], [17.117115, 120.449532, 1.0], [17.127442, 120.700453, 1.0], [17.130073, 120.699683, 1.0], [17.152669, 120.669032, 1.0], [17.154467, 120.669599, 1.0], [17.156221, 121.491318, 1.0], [17.158856, 120.890182, 1.0], [17.17063, 121.026376, 1.0], [17.178292, 120.713223, 1.0], [17.301755, 121.234782, 1.0], [17.3548, 121.1747, 1.0], [17.399743, 120.799866, 1.0], [17.411735, 121.43845, 1.0], [17.412622, 121.444182, 5.0], [17.415977, 121.4413, 1.0], [17.427304, 121.435204, 1.0], [17.441367, 120.763147, 1.0], [17.443824, 120.825051, 1.0], [17.450867, 121.149987, 2.0], [17.471099, 120.824417, 1.0], [17.491064, 120.761594, 1.0], [17.496438, 121.159995, 1.0], [17.501331, 121.200779, 1.0], [17.504723, 121.102896, 1.0], [17.531613, 121.323522, 1.0], [17.555726, 120.838718, 8.0], [17.559851, 121.697338, 2.0], [17.56491, 120.651829, 1.0], [17.568938, 120.9834, 1.0], [17.572133, 120.387708, 1.0], [17.573341, 121.365767, 1.0], [17.577467, 121.368927, 1.0], [17.582784, 121.005421, 1.0], [17.599649, 120.616913, 2.0], [17.6, 121.366667, 1.0], [17.609307, 120.905694, 1.0], [17.611375, 121.726748, 1.0], [17.611842, 121.72723, 3.0], [17.613878, 121.726719, 3.0], [17.614145, 121.408867, 1.0], [17.614973, 121.406719, 1.0], [17.615512, 121.406074, 1.0], [17.629363, 120.938496, 1.0], [17.633959, 121.780851, 1.0], [17.647509, 120.860108, 1.0], [17.650072, 121.689084, 1.0], [17.667488, 120.949648, 1.0], [17.67258, 120.936674, 1.0], [17.689361, 120.964687, 1.0], [17.698842, 121.504966, 1.0], [17.755108, 121.502111, 1.0], [17.790743, 121.477834, 1.0], [17.79154, 121.477584, 1.0], [17.792192, 120.455709, 1.0], [17.795745, 121.322798, 3.0], [17.801519, 121.664848, 1.0], [17.803075, 120.485657, 1.0], [17.839581, 121.255182, 1.0], [17.842246, 121.390126, 1.0], [17.847186, 121.345264, 1.0], [17.856944, 121.4925, 1.0], [17.88994, 121.870264, 1.0], [17.892728, 121.691519, 1.0], [17.95476, 121.927803, 1.0], [17.968716, 121.931521, 1.0], [17.983455, 121.933884, 1.0], [18.0182, 120.4876, 1.0], [18.03649, 121.84163, 1.0], [18.06154, 121.645806, 1.0], [18.066689, 121.65, 1.0], [18.067695, 121.631648, 1.0], [18.093736, 120.76993, 1.0], [18.157995, 120.647306, 1.0], [18.165566, 120.717608, 1.0], [18.195807, 120.592272, 2.0], [18.198333, 121.665, 1.0], [18.213753, 121.923767, 1.0], [18.220096, 121.827532, 1.0], [18.225557, 121.556743, 1.0], [18.225667, 121.559271, 1.0], [18.226253, 121.555824, 1.0], [18.238203, 121.804423, 1.0], [18.249002, 121.878783, 1.0], [18.256382, 121.034984, 1.0], [18.259177, 121.997309, 2.0], [18.261509, 121.996975, 1.0], [18.267035, 121.999308, 1.0], [18.296732, 121.575965, 1.0], [18.332319, 120.618432, 1.0], [18.408081, 121.514921, 1.0], [18.454481, 121.439064, 1.0], [18.465387, 120.900653, 1.0], [18.537136, 120.765284, 2.0], [18.56163, 121.23189, 4.0], [18.561633, 120.787087, 1.0]],\n",
       "                {\n",
       "  &quot;minOpacity&quot;: 0.5,\n",
       "  &quot;maxZoom&quot;: 18,\n",
       "  &quot;radius&quot;: 25,\n",
       "  &quot;blur&quot;: 15,\n",
       "}\n",
       "            );\n",
       "        \n",
       "    \n",
       "            heat_map_0f5c26ee5dcaad2b610c4bd901cb5042.addTo(map_227e9b3778cdcb78b077dc5e6e1043a5);\n",
       "        \n",
       "    \n",
       "            tile_layer_b743f44582fea3423719466e1d7ba49f.addTo(map_227e9b3778cdcb78b077dc5e6e1043a5);\n",
       "        \n",
       "    \n",
       "            heat_map_0f5c26ee5dcaad2b610c4bd901cb5042.addTo(map_227e9b3778cdcb78b077dc5e6e1043a5);\n",
       "        \n",
       "&lt;/script&gt;\n",
       "&lt;/html&gt;\" style=\"position:absolute;width:100%;height:100%;left:0;top:0;border:none !important;\" allowfullscreen webkitallowfullscreen mozallowfullscreen></iframe></div></div>"
      ],
      "text/plain": [
       "<folium.folium.Map at 0x1692a8fd510>"
      ]
     },
     "execution_count": 85,
     "metadata": {},
     "output_type": "execute_result"
    }
   ],
   "source": [
    "coordinates = NPA_filter2.groupby(['latitude', 'longitude']).size().reset_index(name='incident_count')\n",
    "heatmap_data = coordinates[['latitude', 'longitude', 'incident_count']].values.tolist()\n",
    "NPA_incidents = folium.Map(location = [12, 124.3], zoom_start =5.5)\n",
    "HeatMap(heatmap_data).add_to(NPA_incidents)\n",
    "NPA_incidents.save('terrorism_NPA_incidents.html')\n",
    "NPA_incidents"
   ]
  },
  {
   "cell_type": "markdown",
   "id": "88872246-3ba5-426b-9249-1c239fadce53",
   "metadata": {},
   "source": [
    "# NPA Armed Assaults in the Philippines from 1970 to 2017\r\n"
   ]
  },
  {
   "cell_type": "code",
   "execution_count": 86,
   "id": "6c08b1c3-0c35-471c-9c0f-5c395dd6e032",
   "metadata": {},
   "outputs": [
    {
     "data": {
      "text/plain": [
       "attacktype1_txt\n",
       "Armed Assault                          1087\n",
       "Bombing/Explosion                       481\n",
       "Assassination                           393\n",
       "Facility/Infrastructure Attack          345\n",
       "Hostage Taking (Kidnapping)             225\n",
       "Unknown                                 178\n",
       "Hostage Taking (Barricade Incident)      44\n",
       "Hijacking                                15\n",
       "Unarmed Assault                           2\n",
       "Name: count, dtype: int64"
      ]
     },
     "execution_count": 86,
     "metadata": {},
     "output_type": "execute_result"
    }
   ],
   "source": [
    "NPA_filter2['attacktype1_txt'].value_counts()"
   ]
  },
  {
   "cell_type": "code",
   "execution_count": null,
   "id": "2396a049-74ab-461f-8a95-1eb1ecd9a102",
   "metadata": {},
   "outputs": [],
   "source": []
  },
  {
   "cell_type": "code",
   "execution_count": 98,
   "id": "0f2a0aa7-078d-45c8-830a-0add56cc7305",
   "metadata": {},
   "outputs": [],
   "source": [
    "NPA_filter3 = NPA_filter2[NPA_filter2['attacktype1_txt']=='Armed Assault']\n",
    "NPA_filter4 = NPA_filter2[NPA_filter2['attacktype1_txt']=='Bombing/Explosion']\n",
    "NPA_filter5 = NPA_filter2[NPA_filter2['attacktype1_txt']=='Assassination']\n",
    "NPA_filter6 = NPA_filter2[NPA_filter2['attacktype1_txt']=='Facility/Infrastructure Attack']\n",
    "NPA_filter7 = NPA_filter2[NPA_filter2['attacktype1_txt']=='Hostage Taking (Kidnapping)']\n"
   ]
  },
  {
   "cell_type": "code",
   "execution_count": 97,
   "id": "a50906b1-cf44-4a16-8461-7a92e07f5806",
   "metadata": {},
   "outputs": [
    {
     "data": {
      "text/html": [
       "<div style=\"width:100%;\"><div style=\"position:relative;width:100%;height:0;padding-bottom:60%;\"><span style=\"color:#565656\">Make this Notebook Trusted to load map: File -> Trust Notebook</span><iframe srcdoc=\"&lt;!DOCTYPE html&gt;\n",
       "&lt;html&gt;\n",
       "&lt;head&gt;\n",
       "    \n",
       "    &lt;meta http-equiv=&quot;content-type&quot; content=&quot;text/html; charset=UTF-8&quot; /&gt;\n",
       "    \n",
       "        &lt;script&gt;\n",
       "            L_NO_TOUCH = false;\n",
       "            L_DISABLE_3D = false;\n",
       "        &lt;/script&gt;\n",
       "    \n",
       "    &lt;style&gt;html, body {width: 100%;height: 100%;margin: 0;padding: 0;}&lt;/style&gt;\n",
       "    &lt;style&gt;#map {position:absolute;top:0;bottom:0;right:0;left:0;}&lt;/style&gt;\n",
       "    &lt;script src=&quot;https://cdn.jsdelivr.net/npm/leaflet@1.9.3/dist/leaflet.js&quot;&gt;&lt;/script&gt;\n",
       "    &lt;script src=&quot;https://code.jquery.com/jquery-3.7.1.min.js&quot;&gt;&lt;/script&gt;\n",
       "    &lt;script src=&quot;https://cdn.jsdelivr.net/npm/bootstrap@5.2.2/dist/js/bootstrap.bundle.min.js&quot;&gt;&lt;/script&gt;\n",
       "    &lt;script src=&quot;https://cdnjs.cloudflare.com/ajax/libs/Leaflet.awesome-markers/2.0.2/leaflet.awesome-markers.js&quot;&gt;&lt;/script&gt;\n",
       "    &lt;link rel=&quot;stylesheet&quot; href=&quot;https://cdn.jsdelivr.net/npm/leaflet@1.9.3/dist/leaflet.css&quot;/&gt;\n",
       "    &lt;link rel=&quot;stylesheet&quot; href=&quot;https://cdn.jsdelivr.net/npm/bootstrap@5.2.2/dist/css/bootstrap.min.css&quot;/&gt;\n",
       "    &lt;link rel=&quot;stylesheet&quot; href=&quot;https://netdna.bootstrapcdn.com/bootstrap/3.0.0/css/bootstrap-glyphicons.css&quot;/&gt;\n",
       "    &lt;link rel=&quot;stylesheet&quot; href=&quot;https://cdn.jsdelivr.net/npm/@fortawesome/fontawesome-free@6.2.0/css/all.min.css&quot;/&gt;\n",
       "    &lt;link rel=&quot;stylesheet&quot; href=&quot;https://cdnjs.cloudflare.com/ajax/libs/Leaflet.awesome-markers/2.0.2/leaflet.awesome-markers.css&quot;/&gt;\n",
       "    &lt;link rel=&quot;stylesheet&quot; href=&quot;https://cdn.jsdelivr.net/gh/python-visualization/folium/folium/templates/leaflet.awesome.rotate.min.css&quot;/&gt;\n",
       "    \n",
       "            &lt;meta name=&quot;viewport&quot; content=&quot;width=device-width,\n",
       "                initial-scale=1.0, maximum-scale=1.0, user-scalable=no&quot; /&gt;\n",
       "            &lt;style&gt;\n",
       "                #map_f125bb597b094c809e38250da13504e6 {\n",
       "                    position: relative;\n",
       "                    width: 100.0%;\n",
       "                    height: 100.0%;\n",
       "                    left: 0.0%;\n",
       "                    top: 0.0%;\n",
       "                }\n",
       "                .leaflet-container { font-size: 1rem; }\n",
       "            &lt;/style&gt;\n",
       "        \n",
       "    &lt;script src=&quot;https://cdn.jsdelivr.net/gh/python-visualization/folium@main/folium/templates/leaflet_heat.min.js&quot;&gt;&lt;/script&gt;\n",
       "&lt;/head&gt;\n",
       "&lt;body&gt;\n",
       "    \n",
       "    \n",
       "            &lt;div class=&quot;folium-map&quot; id=&quot;map_f125bb597b094c809e38250da13504e6&quot; &gt;&lt;/div&gt;\n",
       "        \n",
       "&lt;/body&gt;\n",
       "&lt;script&gt;\n",
       "    \n",
       "    \n",
       "            var map_f125bb597b094c809e38250da13504e6 = L.map(\n",
       "                &quot;map_f125bb597b094c809e38250da13504e6&quot;,\n",
       "                {\n",
       "                    center: [12.0, 124.3],\n",
       "                    crs: L.CRS.EPSG3857,\n",
       "                    ...{\n",
       "  &quot;zoom&quot;: 5.5,\n",
       "  &quot;zoomControl&quot;: true,\n",
       "  &quot;preferCanvas&quot;: false,\n",
       "}\n",
       "\n",
       "                }\n",
       "            );\n",
       "\n",
       "            \n",
       "\n",
       "        \n",
       "    \n",
       "            var tile_layer_a4fc93312b91827e2c4852bbf6d243a1 = L.tileLayer(\n",
       "                &quot;https://tile.openstreetmap.org/{z}/{x}/{y}.png&quot;,\n",
       "                {\n",
       "  &quot;minZoom&quot;: 0,\n",
       "  &quot;maxZoom&quot;: 19,\n",
       "  &quot;maxNativeZoom&quot;: 19,\n",
       "  &quot;noWrap&quot;: false,\n",
       "  &quot;attribution&quot;: &quot;\\u0026copy; \\u003ca href=\\&quot;https://www.openstreetmap.org/copyright\\&quot;\\u003eOpenStreetMap\\u003c/a\\u003e contributors&quot;,\n",
       "  &quot;subdomains&quot;: &quot;abc&quot;,\n",
       "  &quot;detectRetina&quot;: false,\n",
       "  &quot;tms&quot;: false,\n",
       "  &quot;opacity&quot;: 1,\n",
       "}\n",
       "\n",
       "            );\n",
       "        \n",
       "    \n",
       "            tile_layer_a4fc93312b91827e2c4852bbf6d243a1.addTo(map_f125bb597b094c809e38250da13504e6);\n",
       "        \n",
       "    \n",
       "            var heat_map_74b6ab744fce80563d7e0a249f546354 = L.heatLayer(\n",
       "                [[5.77602, 125.354517, 1.0], [5.904939, 125.567551, 1.0], [5.917951, 125.647755, 1.0], [5.966542, 125.285565, 1.0], [6.034726, 124.605189, 1.0], [6.05, 124.916667, 1.0], [6.08525, 125.272616, 1.0], [6.11622, 125.169395, 3.0], [6.117505, 124.462395, 1.0], [6.154806, 125.29006, 1.0], [6.185032, 125.346625, 1.0], [6.213233, 124.697909, 1.0], [6.300549, 125.586062, 1.0], [6.314022, 125.295122, 1.0], [6.333312, 124.950048, 1.0], [6.334767, 124.953153, 3.0], [6.413029, 125.420269, 2.0], [6.417717, 125.423121, 1.0], [6.424257, 125.4248, 1.0], [6.443793, 124.927748, 1.0], [6.453157, 125.038749, 1.0], [6.455771, 124.981569, 1.0], [6.459349, 124.321754, 1.0], [6.465728, 124.335947, 1.0], [6.473055, 125.007076, 1.0], [6.47313, 125.007456, 1.0], [6.483545, 125.066665, 2.0], [6.489666, 125.086816, 1.0], [6.509646, 124.108599, 1.0], [6.583669, 124.98903, 1.0], [6.615473, 125.217184, 1.0], [6.616667, 125.216667, 1.0], [6.62734, 125.235645, 1.0], [6.633477, 124.600515, 1.0], [6.633826, 124.067887, 1.0], [6.65197, 121.963683, 1.0], [6.680243, 125.257566, 1.0], [6.748065, 125.262741, 2.0], [6.750046, 125.35626, 3.0], [6.767153, 125.183237, 1.0], [6.767168, 125.182716, 1.0], [6.771603, 125.355757, 1.0], [6.784057, 125.217967, 1.0], [6.786284, 125.212718, 2.0], [6.829826, 124.876845, 1.0], [6.831959, 124.878863, 1.0], [6.832955, 124.884192, 1.0], [6.862833, 124.445136, 2.0], [6.895545, 126.013997, 1.0], [6.89638, 126.010585, 1.0], [6.915043, 125.156799, 1.0], [6.923761, 125.190422, 1.0], [6.929089, 122.07885, 1.0], [6.939993, 125.133485, 1.0], [6.941653, 126.058523, 1.0], [6.949318, 125.160178, 1.0], [6.95, 125.05, 1.0], [6.950745, 125.09852, 1.0], [6.951779, 125.097475, 1.0], [6.952775, 125.096241, 1.0], [6.952799, 126.221104, 1.0], [6.954823, 125.093991, 1.0], [6.96212, 125.475492, 1.0], [6.978437, 125.420377, 1.0], [6.989019, 125.321966, 1.0], [7.010241, 125.092208, 1.0], [7.010856, 125.089923, 1.0], [7.01461, 125.990824, 1.0], [7.020898, 125.091469, 4.0], [7.026532, 122.188904, 1.0], [7.036882, 126.099999, 1.0], [7.037414, 125.722009, 1.0], [7.080833, 126.202946, 1.0], [7.083241, 125.600998, 19.0], [7.100113, 125.117035, 1.0], [7.100287, 125.125998, 1.0], [7.104429, 125.126675, 1.0], [7.104604, 125.412635, 1.0], [7.104687, 125.124449, 1.0], [7.106, 126.176643, 1.0], [7.107481, 125.123356, 1.0], [7.1075, 125.9095, 1.0], [7.108335, 125.038816, 1.0], [7.114018, 125.932122, 1.0], [7.114167, 125.045278, 1.0], [7.116668, 125.116667, 1.0], [7.125393, 125.619439, 1.0], [7.125629, 125.963396, 1.0], [7.130275, 125.948967, 1.0], [7.133768, 125.948811, 1.0], [7.134066, 125.894222, 1.0], [7.134753, 125.893916, 2.0], [7.137387, 125.893873, 1.0], [7.149184, 125.945636, 1.0], [7.149403, 125.376114, 1.0], [7.1525, 124.923637, 1.0], [7.152682, 125.054177, 1.0], [7.154816, 125.453954, 1.0], [7.155758, 125.054344, 1.0], [7.160606, 125.09423, 1.0], [7.163122, 125.574229, 1.0], [7.169182, 125.893045, 1.0], [7.170699, 125.400308, 1.0], [7.185168, 125.516468, 1.0], [7.18599, 125.54937, 1.0], [7.190952, 125.461578, 4.0], [7.209594, 124.241966, 2.0], [7.213886, 125.117251, 1.0], [7.216207, 126.013254, 1.0], [7.234865, 125.456246, 1.0], [7.234974, 125.45628, 1.0], [7.238969, 125.142004, 1.0], [7.244821, 125.159197, 1.0], [7.246699, 125.383535, 1.0], [7.250403, 125.055797, 1.0], [7.254915, 126.156516, 1.0], [7.254917, 126.154399, 1.0], [7.257228, 126.156092, 1.0], [7.261581, 126.466013, 1.0], [7.27733, 125.489147, 1.0], [7.281952, 125.857755, 1.0], [7.282129, 125.857401, 2.0], [7.283512, 125.859656, 1.0], [7.283611, 125.993889, 1.0], [7.288356, 125.110374, 1.0], [7.295544, 126.000108, 1.0], [7.30796, 125.683451, 1.0], [7.309839, 125.683963, 1.0], [7.313689, 125.480694, 1.0], [7.318034, 125.6773, 1.0], [7.321781, 125.462678, 1.0], [7.333482, 125.625189, 1.0], [7.335014, 126.096139, 1.0], [7.335841, 125.167236, 1.0], [7.339388, 125.1106, 1.0], [7.344444, 125.574167, 1.0], [7.345892, 125.53295, 1.0], [7.349438, 125.468659, 1.0], [7.351838, 125.467237, 1.0], [7.352189, 126.15454, 1.0], [7.358751, 125.871174, 1.0], [7.364962, 125.853401, 1.0], [7.369717, 125.495898, 1.0], [7.37, 125.953889, 1.0], [7.370974, 125.036121, 1.0], [7.384258, 124.84497, 1.0], [7.404661, 126.057973, 1.0], [7.411944, 126.008889, 1.0], [7.416346, 126.00097, 1.0], [7.443109, 125.143407, 1.0], [7.447973, 125.810009, 4.0], [7.448093, 125.459536, 1.0], [7.485713, 125.044323, 1.0], [7.494722, 126.101078, 1.0], [7.5, 125.933333, 2.0], [7.512515, 126.176262, 1.0], [7.512998, 125.931549, 1.0], [7.515731, 123.172442, 1.0], [7.519438, 125.237089, 1.0], [7.531931, 124.120164, 1.0], [7.543444, 126.221477, 1.0], [7.548571, 126.137057, 1.0], [7.56885, 124.985708, 1.0], [7.574132, 126.560107, 1.0], [7.58495, 125.027643, 1.0], [7.586326, 122.140766, 1.0], [7.5866, 125.8237, 1.0], [7.587697, 125.822682, 1.0], [7.601194, 125.966781, 2.0], [7.602895, 125.966166, 1.0], [7.608056, 124.883056, 1.0], [7.616944, 125.884167, 1.0], [7.633333, 125.016667, 1.0], [7.638382, 125.009946, 1.0], [7.638963, 123.394482, 1.0], [7.640024, 125.008438, 1.0], [7.642085, 125.629359, 1.0], [7.648541, 125.617272, 1.0], [7.65, 125.616669, 1.0], [7.658946, 125.587669, 1.0], [7.661141, 125.55897, 1.0], [7.670266, 125.38367, 1.0], [7.675606, 124.867847, 1.0], [7.682231, 125.43889, 1.0], [7.687185, 126.190054, 1.0], [7.694013, 125.989145, 1.0], [7.696292, 123.41283, 1.0], [7.704608, 125.988292, 1.0], [7.720472, 123.263289, 1.0], [7.729694, 125.099019, 1.0], [7.730071, 125.099395, 1.0], [7.731239, 125.992616, 1.0], [7.731359, 125.102887, 1.0], [7.734803, 125.512622, 2.0], [7.734964, 123.342124, 1.0], [7.744567, 126.397443, 1.0], [7.766389, 123.275833, 1.0], [7.772775, 123.272096, 1.0], [7.778349, 125.640828, 1.0], [7.817506, 123.283548, 1.0], [7.81936, 125.792864, 1.0], [7.819451, 122.817335, 1.0], [7.821437, 126.051514, 1.0], [7.821667, 125.390278, 1.0], [7.822238, 123.230397, 1.0], [7.822408, 123.391038, 1.0], [7.823071, 126.055367, 2.0], [7.825203, 123.437378, 1.0], [7.828461, 123.436612, 1.0], [7.833333, 125.816667, 1.0], [7.83385, 125.817084, 1.0], [7.836243, 124.830833, 1.0], [7.842032, 125.992996, 2.0], [7.852238, 123.260136, 1.0], [7.85297, 123.574822, 1.0], [7.857551, 123.234228, 1.0], [7.869039, 126.374112, 1.0], [7.873661, 126.342487, 1.0], [7.921958, 125.746148, 1.0], [7.92211, 125.846823, 1.0], [7.926149, 126.077785, 1.0], [7.984128, 125.012826, 1.0], [7.999904, 125.000243, 1.0], [8.002366, 124.291779, 1.0], [8.019781, 124.789918, 1.0], [8.034153, 124.915111, 1.0], [8.035083, 125.849808, 1.0], [8.044898, 126.061471, 1.0], [8.050528, 125.872222, 1.0], [8.052686, 125.731745, 1.0], [8.066667, 123.75, 1.0], [8.067144, 125.891313, 1.0], [8.06729, 125.893414, 1.0], [8.068792, 125.488951, 1.0], [8.072572, 125.95542, 1.0], [8.098851, 122.918687, 1.0], [8.111787, 125.128183, 1.0], [8.113273, 125.607828, 2.0], [8.113786, 123.897734, 1.0], [8.123469, 123.053577, 1.0], [8.130604, 125.127654, 1.0], [8.130926, 125.12709, 1.0], [8.132887, 123.101174, 1.0], [8.140556, 124.853333, 1.0], [8.147402, 125.021736, 1.0], [8.154547, 125.133301, 1.0], [8.15632, 123.346316, 1.0], [8.159272, 122.929573, 1.0], [8.161256, 123.958794, 2.0], [8.163357, 125.129957, 2.0], [8.166853, 125.999676, 1.0], [8.217759, 126.314871, 1.0], [8.225311, 125.182447, 1.0], [8.239274, 124.456908, 1.0], [8.258316, 123.60576, 1.0], [8.261139, 125.609547, 1.0], [8.266954, 123.101039, 1.0], [8.272934, 125.799743, 1.0], [8.280488, 126.255202, 1.0], [8.310013, 125.999741, 1.0], [8.312616, 126.003616, 1.0], [8.340676, 126.010043, 1.0], [8.383211, 124.698822, 1.0], [8.417402, 125.529355, 1.0], [8.421558, 124.502702, 1.0], [8.421877, 125.839596, 4.0], [8.45, 126.166667, 1.0], [8.455393, 125.159241, 1.0], [8.458153, 126.157312, 1.0], [8.466397, 125.137879, 1.0], [8.474003, 126.118471, 1.0], [8.478, 125.744, 1.0], [8.478217, 125.745846, 1.0], [8.478533, 125.744797, 1.0], [8.482536, 124.647404, 1.0], [8.540491, 126.114476, 1.0], [8.544784, 125.444062, 1.0], [8.565139, 125.522394, 1.0], [8.581552, 123.344275, 2.0], [8.584974, 123.342845, 3.0], [8.587025, 123.342026, 1.0], [8.591197, 125.886192, 1.0], [8.598901, 125.917096, 1.0], [8.618699, 125.492421, 1.0], [8.633052, 126.095835, 1.0], [8.67694, 125.64694, 1.0], [8.677388, 117.341767, 1.0], [8.715891, 125.751038, 2.0], [8.744462, 124.781605, 1.0], [8.744872, 124.782494, 1.0], [8.745044, 124.776818, 1.0], [8.777671, 125.569341, 1.0], [8.783365, 124.820655, 1.0], [8.793432, 125.579464, 1.0], [8.8, 124.783333, 2.0], [8.801867, 126.30035, 1.0], [8.802795, 124.797429, 1.0], [8.816027, 125.70002, 1.0], [8.816667, 125.7, 1.0], [8.818475, 125.69826, 1.0], [8.822198, 125.100987, 1.0], [8.822983, 125.699921, 1.0], [8.823889, 124.805, 1.0], [8.827689, 125.099855, 1.0], [8.834771, 117.878516, 1.0], [8.850162, 124.836494, 1.0], [8.857933, 125.731428, 1.0], [8.865817, 125.55835, 1.0], [8.869808, 125.42743, 1.0], [8.880206, 124.868101, 1.0], [8.883274, 126.000161, 1.0], [8.895, 125.775278, 1.0], [8.914457, 124.784563, 1.0], [8.91861, 126.30111, 1.0], [8.919581, 124.783746, 1.0], [8.929135, 125.398729, 1.0], [8.93887, 125.247812, 1.0], [8.939052, 125.247994, 1.0], [8.946774, 125.54125, 1.0], [8.947538, 125.540623, 2.0], [8.948247, 125.541107, 3.0], [8.948336, 125.54269, 1.0], [8.949207, 125.539325, 1.0], [8.961028, 125.759476, 1.0], [8.990476, 125.295138, 1.0], [9.000299, 124.88091, 1.0], [9.000313, 125.269224, 1.0], [9.004195, 125.647026, 1.0], [9.004444, 125.645278, 1.0], [9.02025, 126.23322, 1.0], [9.021072, 125.686072, 1.0], [9.05, 125.9, 1.0], [9.053611, 125.586667, 1.0], [9.062643, 125.211945, 1.0], [9.064333, 125.667296, 1.0], [9.073155, 125.89024, 1.0], [9.077235, 126.197832, 1.0], [9.163372, 117.825916, 1.0], [9.209105, 126.176575, 1.0], [9.228554, 126.016603, 1.0], [9.228859, 126.016544, 1.0], [9.230375, 125.565639, 1.0], [9.232036, 125.975095, 1.0], [9.234649, 126.167054, 1.0], [9.241662, 125.631419, 1.0], [9.307081, 123.30521, 2.0], [9.307278, 123.308201, 1.0], [9.316689, 125.556297, 1.0], [9.342032, 125.515895, 1.0], [9.344678, 122.924243, 1.0], [9.422818, 125.677489, 1.0], [9.445284, 125.584089, 1.0], [9.448709, 125.57143, 3.0], [9.452212, 125.574816, 1.0], [9.452928, 125.574473, 1.0], [9.455622, 125.574249, 1.0], [9.469599, 125.5972, 1.0], [9.470269, 123.204934, 1.0], [9.515858, 123.157792, 1.0], [9.546316, 122.519442, 1.0], [9.5725, 125.73306, 1.0], [9.5882, 125.6537, 2.0], [9.591546, 123.121182, 1.0], [9.595312, 125.698534, 1.0], [9.617466, 125.40209, 1.0], [9.649723, 123.857008, 1.0], [9.680242, 125.503993, 1.0], [9.6864, 123.0122, 1.0], [9.71623, 125.504322, 1.0], [9.717225, 125.47665, 1.0], [9.733738, 122.928037, 1.0], [9.737313, 118.734398, 1.0], [9.75192, 122.490336, 1.0], [9.77026, 122.467818, 1.0], [9.78472, 125.489693, 1.0], [9.801285, 123.794438, 1.0], [9.826864, 122.642296, 1.0], [9.860086, 124.007877, 1.0], [9.899322, 124.282239, 1.0], [9.942985, 122.58252, 1.0], [9.942986, 122.58252, 1.0], [9.963276, 124.211676, 1.0], [9.971008, 122.624128, 1.0], [9.971311, 122.623506, 1.0], [9.979697, 122.482514, 1.0], [10.028978, 122.847903, 1.0], [10.030048, 123.231727, 1.0], [10.080622, 122.884023, 1.0], [10.089791, 122.868499, 1.0], [10.090127, 122.868547, 1.0], [10.090245, 122.868323, 1.0], [10.116667, 123.26667, 1.0], [10.116899, 123.267249, 1.0], [10.118769, 123.2704, 1.0], [10.119626, 123.270972, 1.0], [10.119955, 123.272218, 1.0], [10.120328, 123.271863, 1.0], [10.120571, 123.272642, 1.0], [10.13832, 123.247024, 1.0], [10.1675, 123.040833, 1.0], [10.185557, 123.11749, 1.0], [10.18668, 123.131017, 1.0], [10.190674, 122.852482, 1.0], [10.199695, 122.866307, 1.0], [10.202233, 122.987772, 1.0], [10.206949, 122.944672, 1.0], [10.239637, 123.261226, 1.0], [10.246463, 119.214643, 1.0], [10.2813, 123.1429, 1.0], [10.294671, 123.899858, 1.0], [10.295334, 123.87825, 3.0], [10.295953, 125.050021, 1.0], [10.299222, 123.114941, 1.0], [10.306418, 119.255836, 1.0], [10.319474, 123.019802, 1.0], [10.366356, 123.17902, 1.0], [10.36674, 123.1, 1.0], [10.38, 123.2, 1.0], [10.53333, 122.83333, 1.0], [10.562839, 119.302007, 1.0], [10.580451, 122.065048, 1.0], [10.649982, 122.233303, 1.0], [10.66925, 122.949054, 1.0], [10.686589, 122.511157, 1.0], [10.69649, 122.564451, 1.0], [10.69885, 123.349, 1.0], [10.714321, 123.516045, 1.0], [10.715796, 122.266237, 1.0], [10.716471, 123.516044, 1.0], [10.716627, 123.51653, 1.0], [10.716667, 122.266667, 1.0], [10.722177, 122.268599, 1.0], [10.723333, 123.510632, 1.0], [10.72703, 123.826289, 1.0], [10.747932, 122.103989, 1.0], [10.751114, 122.223519, 1.0], [10.76228, 123.369251, 1.0], [10.780315, 122.387872, 1.0], [10.780442, 122.383039, 1.0], [10.783333, 122.3, 1.0], [10.7836, 122.300054, 1.0], [10.799732, 122.976272, 1.0], [10.820629, 123.557071, 1.0], [10.824449, 122.267812, 1.0], [10.840278, 123.499167, 1.0], [10.84309, 123.499671, 1.0], [10.916619, 124.699994, 1.0], [10.935539, 123.421971, 1.0], [10.950626, 123.336393, 1.0], [10.95684, 123.308547, 1.0], [10.974698, 124.893489, 1.0], [11.042822, 124.61751, 1.0], [11.100556, 124.685833, 1.0], [11.119894, 122.570625, 1.0], [11.122297, 122.51087, 1.0], [11.134689, 122.500626, 1.0], [11.14579, 122.514644, 1.0], [11.150919, 122.651762, 1.0], [11.187278, 124.782207, 1.0], [11.188, 124.782, 1.0], [11.216977, 122.434284, 1.0], [11.242199, 122.695547, 1.0], [11.261504, 122.536964, 1.0], [11.261925, 122.538903, 1.0], [11.263506, 122.53376, 1.0], [11.26477, 125.535923, 1.0], [11.264832, 123.714728, 1.0], [11.266046, 122.683063, 1.0], [11.266667, 122.533333, 2.0], [11.282051, 125.069369, 1.0], [11.3, 124.68, 1.0], [11.390865, 122.648119, 1.0], [11.433122, 122.106467, 1.0], [11.447249, 124.428682, 1.0], [11.447279, 125.491158, 1.0], [11.50681, 122.794325, 1.0], [11.594645, 124.574937, 1.0], [11.613123, 124.986496, 1.0], [11.833624, 122.083797, 1.0], [11.846274, 125.126754, 2.0], [11.85022, 125.11531, 1.0], [11.882344, 124.046159, 1.0], [11.900089, 124.033088, 1.0], [11.935426, 123.951802, 1.0], [11.939668, 125.023589, 1.0], [11.979516, 124.825369, 1.0], [11.980769, 124.824215, 1.0], [12.004208, 123.998959, 1.0], [12.023278, 125.03354, 1.0], [12.025238, 123.278449, 1.0], [12.029528, 124.812417, 1.0], [12.03279, 123.68289, 1.0], [12.038, 125.481, 1.0], [12.040721, 123.775566, 1.0], [12.05, 125.067, 1.0], [12.067318, 124.595898, 1.0], [12.068103, 123.722371, 1.0], [12.1, 125.166667, 1.0], [12.116667, 123.883333, 1.0], [12.1406, 125.4397, 1.0], [12.143935, 124.893136, 1.0], [12.14432, 124.885109, 1.0], [12.154889, 124.886672, 1.0], [12.159882, 124.865646, 1.0], [12.170076, 123.36171, 1.0], [12.175646, 123.730202, 1.0], [12.183333, 123.866669, 1.0], [12.21814, 123.50951, 2.0], [12.23686, 124.37529, 2.0], [12.256057, 123.742061, 1.0], [12.267, 125.371, 2.0], [12.290946, 123.703737, 1.0], [12.29156, 124.616358, 1.0], [12.292754, 125.13779, 1.0], [12.3, 124.83333, 1.0], [12.30004, 124.833415, 1.0], [12.315098, 123.424616, 1.0], [12.327349, 125.153096, 1.0], [12.339263, 125.031507, 1.0], [12.339499, 125.033855, 1.0], [12.34, 125.032005, 1.0], [12.348722, 121.065795, 1.0], [12.352465, 125.019541, 1.0], [12.367627, 123.621646, 1.0], [12.367922, 123.620761, 1.0], [12.382934, 125.29949, 1.0], [12.401442, 121.327466, 1.0], [12.408876, 125.052883, 1.0], [12.409557, 125.054484, 1.0], [12.41667, 124.61667, 1.0], [12.454722, 123.771389, 1.0], [12.458056, 125.045556, 1.0], [12.462716, 124.64334, 1.0], [12.466744, 124.647889, 1.0], [12.480833, 124.422222, 1.0], [12.484005, 123.382507, 1.0], [12.49646, 123.717095, 1.0], [12.511444, 123.397648, 1.0], [12.51599, 123.666215, 1.0], [12.517106, 124.752246, 1.0], [12.53232, 125.120518, 1.0], [12.535607, 125.129215, 1.0], [12.540585, 123.638902, 1.0], [12.566123, 123.730269, 1.0], [12.566641, 123.733356, 1.0], [12.5677, 123.7337, 1.0], [12.583333, 124.083333, 1.0], [12.588993, 124.069382, 1.0], [12.589877, 124.09236, 1.0], [12.60775, 124.057775, 1.0], [12.615547, 124.05756, 1.0], [12.622839, 123.668206, 1.0], [12.627043, 124.069382, 1.0], [12.63597, 123.659062, 1.0], [12.637598, 121.440857, 1.0], [12.664751, 123.887642, 1.0], [12.666227, 123.876248, 1.0], [12.666918, 123.876024, 1.0], [12.67139, 123.875, 1.0], [12.681875, 123.888588, 1.0], [12.702727, 124.034119, 1.0], [12.703025, 124.032991, 1.0], [12.715326, 124.056716, 1.0], [12.750193, 124.13716, 1.0], [12.750256, 124.136099, 1.0], [12.750697, 123.926582, 1.0], [12.759986, 123.930399, 1.0], [12.776606, 123.952547, 1.0], [12.785296, 123.861547, 1.0], [12.833054, 123.839743, 1.0], [12.834209, 124.104303, 1.0], [12.850547, 124.071311, 1.0], [12.862616, 124.142576, 1.0], [12.86674, 124.016722, 1.0], [12.867368, 124.143448, 1.0], [12.872289, 124.009018, 1.0], [12.874015, 124.009082, 1.0], [12.874442, 124.010727, 1.0], [12.901781, 123.246284, 1.0], [12.903, 123.247, 1.0], [12.903506, 123.245997, 1.0], [12.910538, 124.042478, 1.0], [12.91182, 123.602699, 1.0], [12.91851, 124.120324, 1.0], [12.919579, 124.123607, 1.0], [12.920064, 124.123, 1.0], [12.920182, 124.122775, 3.0], [12.920444, 124.122866, 1.0], [12.923379, 123.675023, 1.0], [12.933598, 123.683153, 1.0], [12.934551, 123.781102, 1.0], [12.950056, 123.880422, 1.0], [12.951401, 123.880837, 1.0], [12.970187, 124.004177, 1.0], [12.974122, 123.989566, 1.0], [12.980138, 123.650937, 1.0], [12.990552, 124.010798, 10.0], [13.014076, 124.071008, 1.0], [13.029954, 123.665146, 1.0], [13.033117, 123.449759, 1.0], [13.034587, 122.988681, 1.0], [13.035417, 123.447825, 1.0], [13.037584, 124.122482, 1.0], [13.040437, 124.042512, 1.0], [13.041355, 124.194025, 1.0], [13.046774, 123.687589, 1.0], [13.058242, 124.015178, 1.0], [13.058511, 124.014776, 1.0], [13.067108, 123.695149, 1.0], [13.071, 123.598, 1.0], [13.076936, 123.701406, 1.0], [13.102427, 123.700122, 1.0], [13.105475, 123.698382, 1.0], [13.108465, 123.566352, 1.0], [13.111536, 123.676382, 1.0], [13.132009, 123.89089, 1.0], [13.144459, 121.440609, 1.0], [13.146993, 123.754556, 1.0], [13.147154, 123.748632, 1.0], [13.14953, 123.712601, 1.0], [13.161795, 123.69399, 1.0], [13.161956, 123.693955, 2.0], [13.165868, 123.638614, 1.0], [13.170204, 123.527633, 1.0], [13.173328, 121.277093, 1.0], [13.177483, 123.528007, 1.0], [13.18385, 123.413771, 1.0], [13.189, 123.599, 1.0], [13.196728, 123.592163, 1.0], [13.20547, 123.582193, 1.0], [13.215948, 123.516667, 1.0], [13.21738, 123.51655, 1.0], [13.220899, 120.599179, 1.0], [13.227022, 123.596058, 1.0], [13.240874, 123.537612, 2.0], [13.251747, 123.571169, 1.0], [13.291837, 123.491577, 1.0], [13.301, 123.438, 1.0], [13.329722, 122.53, 1.0], [13.358975, 123.291464, 1.0], [13.373712, 123.240692, 1.0], [13.413213, 121.175236, 1.0], [13.417375, 120.470731, 1.0], [13.489285, 123.618496, 1.0], [13.509638, 123.043699, 1.0], [13.515076, 123.049149, 1.0], [13.518961, 123.049852, 1.0], [13.529941, 123.45445, 1.0], [13.571118, 123.186766, 1.0], [13.580829, 123.44216, 1.0], [13.584489, 124.211161, 1.0], [13.5926, 122.3215, 1.0], [13.594771, 122.878054, 1.0], [13.629346, 124.301548, 1.0], [13.654084, 123.167483, 1.0], [13.65625, 122.985452, 1.0], [13.670775, 123.008377, 1.0], [13.673167, 121.397073, 1.0], [13.69346, 123.061736, 1.0], [13.693546, 123.060366, 2.0], [13.6978, 123.4892, 1.0], [13.698027, 123.48998, 1.0], [13.7, 123.066666, 1.0], [13.700002, 123.066383, 1.0], [13.708611, 124.361944, 1.0], [13.726178, 123.117581, 1.0], [13.733903, 123.521401, 1.0], [13.735085, 123.416094, 1.0], [13.736638, 123.869033, 1.0], [13.747556, 122.456188, 1.0], [13.7576, 121.058325, 1.0], [13.762966, 122.963632, 1.0], [13.7707, 123.8631, 1.0], [13.795153, 122.251963, 1.0], [13.807022, 122.910116, 1.0], [13.816872, 122.783772, 1.0], [13.81816, 121.133391, 1.0], [13.819335, 124.175444, 1.0], [13.821384, 122.792685, 1.0], [13.827547, 124.267638, 1.0], [13.831945, 122.878003, 1.0], [13.831948, 122.298891, 1.0], [13.832023, 122.877813, 2.0], [13.917247, 122.688482, 1.0], [13.920492, 122.100999, 1.0], [13.92167, 122.595829, 1.0], [13.922197, 122.595477, 2.0], [13.931052, 121.617683, 1.0], [13.934268, 121.426903, 1.0], [13.93585, 121.951654, 1.0], [13.938805, 121.620829, 4.0], [13.962909, 121.526711, 1.0], [13.9664, 122.5383, 1.0], [13.968784, 120.793169, 1.0], [13.971381, 121.686889, 1.0], [13.978595, 121.087967, 1.0], [13.980519, 121.96262, 1.0], [14.01344, 122.522142, 1.0], [14.031391, 122.113091, 1.0], [14.033845, 124.151688, 1.0], [14.046328, 121.874954, 1.0], [14.066109, 122.964542, 1.0], [14.066123, 122.963889, 1.0], [14.071155, 120.761948, 1.0], [14.078639, 122.963676, 1.0], [14.114121, 121.554863, 1.0], [14.152848, 122.672946, 1.0], [14.153689, 120.609202, 1.0], [14.15551, 121.566027, 1.0], [14.16014, 122.829903, 1.0], [14.163709, 120.629633, 1.0], [14.184076, 122.701195, 1.0], [14.216667, 121.75, 1.0], [14.219264, 120.977473, 2.0], [14.273975, 122.597398, 1.0], [14.275742, 122.643585, 1.0], [14.276771, 122.705349, 2.0], [14.285594, 122.469369, 1.0], [14.297493, 121.498002, 1.0], [14.3124, 122.7192, 1.0], [14.330389, 122.493885, 2.0], [14.34251, 121.576957, 1.0], [14.346627, 121.05041, 1.0], [14.386447, 121.478155, 1.0], [14.429899, 120.936606, 1.0], [14.49833, 121.287083, 1.0], [14.549431, 121.033592, 1.0], [14.584232, 121.03904, 1.0], [14.596051, 120.978666, 21.0], [14.599352, 120.984772, 1.0], [14.626186, 121.125073, 2.0], [14.67428, 121.057495, 2.0], [14.740025, 121.149719, 1.0], [14.800875, 120.536954, 1.0], [14.831529, 120.787805, 1.0], [14.83834, 120.285139, 2.0], [14.838794, 120.285018, 3.0], [14.853023, 120.817043, 1.0], [14.910937, 121.049495, 1.0], [14.975632, 121.068392, 1.0], [15.06349, 120.725752, 1.0], [15.13799, 120.370473, 1.0], [15.149722, 120.769828, 1.0], [15.153002, 120.591942, 4.0], [15.2151, 120.6596, 1.0], [15.221386, 121.408239, 1.0], [15.28, 120.02, 1.0], [15.3047, 120.0417, 1.0], [15.40347, 120.60084, 1.0], [15.476183, 120.960686, 3.0], [15.478598, 120.599741, 1.0], [15.543534, 121.085281, 2.0], [15.544809, 120.763556, 1.0], [15.594984, 119.952367, 1.0], [15.602634, 121.051438, 1.0], [15.658991, 121.222136, 1.0], [15.710002, 119.952729, 1.0], [15.75936, 121.563335, 1.0], [15.984035, 121.045297, 1.0], [16.030344, 120.229921, 3.0], [16.034761, 120.95895, 1.0], [16.368395, 121.355567, 1.0], [16.41639, 120.59306, 1.0], [16.451727, 120.5752, 1.0], [16.485635, 121.152656, 2.0], [16.663036, 121.056387, 1.0], [16.670038, 121.71723, 1.0], [16.701617, 120.974655, 1.0], [16.751296, 122.028561, 1.0], [16.753657, 121.03983, 1.0], [16.77664, 121.08651, 1.0], [16.780833, 122.024444, 1.0], [16.799036, 121.122622, 3.0], [16.883475, 120.97472, 2.0], [16.983038, 120.855017, 1.0], [16.983333, 122.016667, 2.0], [16.983334, 122.01667, 1.0], [16.985834, 121.960378, 1.0], [16.990875, 120.73286, 1.0], [16.992113, 120.733804, 1.0], [16.9925, 120.734228, 1.0], [17.083333, 120.9, 1.0], [17.084296, 120.900532, 1.0], [17.084393, 120.900526, 1.0], [17.086235, 120.974179, 1.0], [17.087511, 120.975462, 1.0], [17.08915, 120.977552, 1.0], [17.092014, 121.965256, 3.0], [17.102177, 120.684266, 1.0], [17.117115, 120.449532, 1.0], [17.156221, 121.491318, 1.0], [17.158856, 120.890182, 1.0], [17.17063, 121.026376, 1.0], [17.178292, 120.713223, 1.0], [17.301755, 121.234782, 1.0], [17.3548, 121.1747, 1.0], [17.399743, 120.799866, 1.0], [17.411735, 121.43845, 1.0], [17.412622, 121.444182, 3.0], [17.427304, 121.435204, 1.0], [17.441367, 120.763147, 1.0], [17.443824, 120.825051, 1.0], [17.450867, 121.149987, 1.0], [17.496438, 121.159995, 1.0], [17.504723, 121.102896, 1.0], [17.531613, 121.323522, 1.0], [17.555726, 120.838718, 1.0], [17.559851, 121.697338, 1.0], [17.599649, 120.616913, 2.0], [17.6, 121.366667, 1.0], [17.609307, 120.905694, 1.0], [17.613878, 121.726719, 2.0], [17.615512, 121.406074, 1.0], [17.633959, 121.780851, 1.0], [17.647509, 120.860108, 1.0], [17.650072, 121.689084, 1.0], [17.667488, 120.949648, 1.0], [17.67258, 120.936674, 1.0], [17.698842, 121.504966, 1.0], [17.795745, 121.322798, 3.0], [17.803075, 120.485657, 1.0], [17.847186, 121.345264, 1.0], [17.856944, 121.4925, 1.0], [17.88994, 121.870264, 1.0], [18.03649, 121.84163, 1.0], [18.066689, 121.65, 1.0], [18.067695, 121.631648, 1.0], [18.157995, 120.647306, 1.0], [18.195807, 120.592272, 1.0], [18.225667, 121.559271, 1.0], [18.256382, 121.034984, 1.0], [18.259177, 121.997309, 1.0], [18.296732, 121.575965, 1.0], [18.332319, 120.618432, 1.0], [18.454481, 121.439064, 1.0], [18.56163, 121.23189, 1.0]],\n",
       "                {\n",
       "  &quot;minOpacity&quot;: 0.5,\n",
       "  &quot;maxZoom&quot;: 18,\n",
       "  &quot;radius&quot;: 25,\n",
       "  &quot;blur&quot;: 15,\n",
       "}\n",
       "            );\n",
       "        \n",
       "    \n",
       "            heat_map_74b6ab744fce80563d7e0a249f546354.addTo(map_f125bb597b094c809e38250da13504e6);\n",
       "        \n",
       "    \n",
       "            tile_layer_a4fc93312b91827e2c4852bbf6d243a1.addTo(map_f125bb597b094c809e38250da13504e6);\n",
       "        \n",
       "    \n",
       "            heat_map_74b6ab744fce80563d7e0a249f546354.addTo(map_f125bb597b094c809e38250da13504e6);\n",
       "        \n",
       "&lt;/script&gt;\n",
       "&lt;/html&gt;\" style=\"position:absolute;width:100%;height:100%;left:0;top:0;border:none !important;\" allowfullscreen webkitallowfullscreen mozallowfullscreen></iframe></div></div>"
      ],
      "text/plain": [
       "<folium.folium.Map at 0x1692a975e10>"
      ]
     },
     "execution_count": 97,
     "metadata": {},
     "output_type": "execute_result"
    }
   ],
   "source": [
    "coordinates = NPA_filter3.groupby(['latitude', 'longitude']).size().reset_index(name='incident_count')\n",
    "heatmap_data = coordinates[['latitude', 'longitude', 'incident_count']].values.tolist()\n",
    "NPA_Armed_Assault_incidents = folium.Map(location = [12, 124.3], zoom_start =5.5)\n",
    "HeatMap(heatmap_data).add_to(NPA_Armed_Assault_incidents)\n",
    "NPA_Armed_Assault_incidents.save('terrorism_NPA_Armed_Assault_incidents.html')\n",
    "NPA_Armed_Assault_incidents"
   ]
  },
  {
   "cell_type": "markdown",
   "id": "9873afdb-a06d-46ad-aeba-7eb752d78799",
   "metadata": {
    "jp-MarkdownHeadingCollapsed": true
   },
   "source": [
    "# NPA Bombing and Explosion in the Philippines from 1970 to 2017\r\n"
   ]
  },
  {
   "cell_type": "markdown",
   "id": "d30f2eb2-3a68-4b0e-b051-05f49fa7754c",
   "metadata": {},
   "source": [
    "# NPA Assassination in the Philippines from 1970 to 2017\r\n"
   ]
  },
  {
   "cell_type": "code",
   "execution_count": 101,
   "id": "461f7337-8e42-4cc4-a5f4-a2724a569156",
   "metadata": {},
   "outputs": [
    {
     "data": {
      "text/html": [
       "<div style=\"width:100%;\"><div style=\"position:relative;width:100%;height:0;padding-bottom:60%;\"><span style=\"color:#565656\">Make this Notebook Trusted to load map: File -> Trust Notebook</span><iframe srcdoc=\"&lt;!DOCTYPE html&gt;\n",
       "&lt;html&gt;\n",
       "&lt;head&gt;\n",
       "    \n",
       "    &lt;meta http-equiv=&quot;content-type&quot; content=&quot;text/html; charset=UTF-8&quot; /&gt;\n",
       "    \n",
       "        &lt;script&gt;\n",
       "            L_NO_TOUCH = false;\n",
       "            L_DISABLE_3D = false;\n",
       "        &lt;/script&gt;\n",
       "    \n",
       "    &lt;style&gt;html, body {width: 100%;height: 100%;margin: 0;padding: 0;}&lt;/style&gt;\n",
       "    &lt;style&gt;#map {position:absolute;top:0;bottom:0;right:0;left:0;}&lt;/style&gt;\n",
       "    &lt;script src=&quot;https://cdn.jsdelivr.net/npm/leaflet@1.9.3/dist/leaflet.js&quot;&gt;&lt;/script&gt;\n",
       "    &lt;script src=&quot;https://code.jquery.com/jquery-3.7.1.min.js&quot;&gt;&lt;/script&gt;\n",
       "    &lt;script src=&quot;https://cdn.jsdelivr.net/npm/bootstrap@5.2.2/dist/js/bootstrap.bundle.min.js&quot;&gt;&lt;/script&gt;\n",
       "    &lt;script src=&quot;https://cdnjs.cloudflare.com/ajax/libs/Leaflet.awesome-markers/2.0.2/leaflet.awesome-markers.js&quot;&gt;&lt;/script&gt;\n",
       "    &lt;link rel=&quot;stylesheet&quot; href=&quot;https://cdn.jsdelivr.net/npm/leaflet@1.9.3/dist/leaflet.css&quot;/&gt;\n",
       "    &lt;link rel=&quot;stylesheet&quot; href=&quot;https://cdn.jsdelivr.net/npm/bootstrap@5.2.2/dist/css/bootstrap.min.css&quot;/&gt;\n",
       "    &lt;link rel=&quot;stylesheet&quot; href=&quot;https://netdna.bootstrapcdn.com/bootstrap/3.0.0/css/bootstrap-glyphicons.css&quot;/&gt;\n",
       "    &lt;link rel=&quot;stylesheet&quot; href=&quot;https://cdn.jsdelivr.net/npm/@fortawesome/fontawesome-free@6.2.0/css/all.min.css&quot;/&gt;\n",
       "    &lt;link rel=&quot;stylesheet&quot; href=&quot;https://cdnjs.cloudflare.com/ajax/libs/Leaflet.awesome-markers/2.0.2/leaflet.awesome-markers.css&quot;/&gt;\n",
       "    &lt;link rel=&quot;stylesheet&quot; href=&quot;https://cdn.jsdelivr.net/gh/python-visualization/folium/folium/templates/leaflet.awesome.rotate.min.css&quot;/&gt;\n",
       "    \n",
       "            &lt;meta name=&quot;viewport&quot; content=&quot;width=device-width,\n",
       "                initial-scale=1.0, maximum-scale=1.0, user-scalable=no&quot; /&gt;\n",
       "            &lt;style&gt;\n",
       "                #map_f56972929af4c9d084806496831f8978 {\n",
       "                    position: relative;\n",
       "                    width: 100.0%;\n",
       "                    height: 100.0%;\n",
       "                    left: 0.0%;\n",
       "                    top: 0.0%;\n",
       "                }\n",
       "                .leaflet-container { font-size: 1rem; }\n",
       "            &lt;/style&gt;\n",
       "        \n",
       "    &lt;script src=&quot;https://cdn.jsdelivr.net/gh/python-visualization/folium@main/folium/templates/leaflet_heat.min.js&quot;&gt;&lt;/script&gt;\n",
       "&lt;/head&gt;\n",
       "&lt;body&gt;\n",
       "    \n",
       "    \n",
       "            &lt;div class=&quot;folium-map&quot; id=&quot;map_f56972929af4c9d084806496831f8978&quot; &gt;&lt;/div&gt;\n",
       "        \n",
       "&lt;/body&gt;\n",
       "&lt;script&gt;\n",
       "    \n",
       "    \n",
       "            var map_f56972929af4c9d084806496831f8978 = L.map(\n",
       "                &quot;map_f56972929af4c9d084806496831f8978&quot;,\n",
       "                {\n",
       "                    center: [12.0, 124.3],\n",
       "                    crs: L.CRS.EPSG3857,\n",
       "                    ...{\n",
       "  &quot;zoom&quot;: 5.5,\n",
       "  &quot;zoomControl&quot;: true,\n",
       "  &quot;preferCanvas&quot;: false,\n",
       "}\n",
       "\n",
       "                }\n",
       "            );\n",
       "\n",
       "            \n",
       "\n",
       "        \n",
       "    \n",
       "            var tile_layer_efbec049c4915b75afa875f4ce971f72 = L.tileLayer(\n",
       "                &quot;https://tile.openstreetmap.org/{z}/{x}/{y}.png&quot;,\n",
       "                {\n",
       "  &quot;minZoom&quot;: 0,\n",
       "  &quot;maxZoom&quot;: 19,\n",
       "  &quot;maxNativeZoom&quot;: 19,\n",
       "  &quot;noWrap&quot;: false,\n",
       "  &quot;attribution&quot;: &quot;\\u0026copy; \\u003ca href=\\&quot;https://www.openstreetmap.org/copyright\\&quot;\\u003eOpenStreetMap\\u003c/a\\u003e contributors&quot;,\n",
       "  &quot;subdomains&quot;: &quot;abc&quot;,\n",
       "  &quot;detectRetina&quot;: false,\n",
       "  &quot;tms&quot;: false,\n",
       "  &quot;opacity&quot;: 1,\n",
       "}\n",
       "\n",
       "            );\n",
       "        \n",
       "    \n",
       "            tile_layer_efbec049c4915b75afa875f4ce971f72.addTo(map_f56972929af4c9d084806496831f8978);\n",
       "        \n",
       "    \n",
       "            var heat_map_b7613aa2aab89a364a5d76bbb52eab3e = L.heatLayer(\n",
       "                [[5.969808, 125.286941, 1.0], [6.750046, 125.35626, 3.0], [6.831959, 124.878863, 1.0], [6.836912, 125.413349, 1.0], [6.895545, 126.013997, 1.0], [6.929089, 122.07885, 1.0], [6.936973, 126.184539, 1.0], [6.951779, 125.097475, 1.0], [7.02556, 124.315, 1.0], [7.064167, 125.468611, 1.0], [7.083241, 125.600998, 10.0], [7.100174, 125.116732, 1.0], [7.104767, 122.195979, 1.0], [7.213886, 125.117251, 1.0], [7.215279, 125.134798, 1.0], [7.23922, 125.159295, 1.0], [7.239867, 125.160042, 1.0], [7.269013, 125.197159, 1.0], [7.294219, 125.303395, 1.0], [7.307946, 125.684331, 1.0], [7.308063, 125.147324, 1.0], [7.314485, 125.450843, 1.0], [7.317214, 126.546543, 1.0], [7.353278, 125.147836, 1.0], [7.447439, 125.802499, 1.0], [7.580853, 125.765421, 1.0], [7.605385, 125.967704, 1.0], [7.64839, 123.267254, 1.0], [7.79139, 126.45333, 1.0], [7.81571, 123.283611, 1.0], [7.902708, 125.522001, 1.0], [7.92767, 126.075094, 1.0], [8.04912, 124.693724, 1.0], [8.061865, 123.750771, 1.0], [8.072742, 125.95542, 1.0], [8.096466, 123.487682, 1.0], [8.135081, 125.137957, 1.0], [8.163357, 125.129957, 2.0], [8.187, 125.853, 1.0], [8.240043, 124.244766, 4.0], [8.261139, 125.609547, 1.0], [8.3061, 125.093932, 1.0], [8.510029, 125.967587, 1.0], [8.6, 125.916667, 1.0], [8.744024, 124.776528, 1.0], [8.810264, 125.525615, 1.0], [8.818752, 125.103207, 1.0], [8.834907, 125.210759, 1.0], [8.859709, 124.788662, 1.0], [8.91861, 126.30111, 1.0], [8.943034, 125.534801, 1.0], [8.952956, 125.54746, 1.0], [8.968959, 125.336637, 1.0], [8.97149, 125.351822, 1.0], [8.985095, 124.79353, 1.0], [9.079628, 126.19874, 1.0], [9.139722, 125.559722, 1.0], [9.294633, 123.278843, 1.0], [9.618367, 125.401583, 1.0], [9.733738, 122.928037, 1.0], [9.756393, 123.972749, 1.0], [9.78472, 125.489693, 1.0], [9.788011, 125.492662, 1.0], [10.115545, 123.26972, 1.0], [10.117858, 123.224263, 1.0], [10.118769, 123.2704, 1.0], [10.12085, 123.273881, 1.0], [10.129501, 123.239133, 1.0], [10.201146, 122.983157, 1.0], [10.295334, 123.87825, 4.0], [10.386317, 123.22612, 1.0], [10.518937, 123.03455, 1.0], [10.532904, 122.836652, 1.0], [10.565506, 123.081714, 1.0], [10.663841, 122.590683, 1.0], [10.66925, 122.949054, 3.0], [10.69649, 122.564451, 2.0], [10.739211, 123.444614, 1.0], [10.779355, 123.488764, 1.0], [10.841239, 123.499231, 1.0], [10.902124, 123.071524, 1.0], [11.016887, 124.600609, 1.0], [11.03465, 125.733197, 1.0], [11.169659, 124.853559, 1.0], [11.263605, 122.688646, 2.0], [11.501172, 125.501514, 1.0], [11.586558, 122.753716, 1.0], [11.701254, 122.363766, 1.0], [11.775031, 124.883423, 1.0], [12.026849, 123.693881, 1.0], [12.033378, 123.200461, 1.0], [12.268195, 125.369489, 1.0], [12.333827, 121.34998, 1.0], [12.35275, 121.06761, 1.0], [12.367922, 123.620761, 3.0], [12.503525, 124.637103, 1.0], [12.562855, 124.933601, 1.0], [12.611713, 124.055114, 1.0], [12.708158, 123.894143, 1.0], [12.716728, 121.382804, 1.0], [12.921375, 124.122678, 1.0], [12.943154, 124.06971, 1.0], [12.970187, 124.004177, 1.0], [12.99271, 124.014746, 1.0], [13.025418, 124.028392, 1.0], [13.186049, 123.540123, 1.0], [13.192288, 123.59917, 1.0], [13.240874, 123.537612, 1.0], [13.318923, 123.314933, 1.0], [13.413213, 121.175236, 1.0], [13.432636, 123.413066, 1.0], [13.560981, 123.374843, 2.0], [13.621255, 123.200351, 1.0], [13.7576, 121.058325, 1.0], [13.767671, 122.976515, 1.0], [13.820728, 122.791793, 1.0], [13.931052, 121.617683, 1.0], [13.962909, 121.526711, 1.0], [14.115558, 122.956465, 1.0], [14.301147, 121.111935, 1.0], [14.459238, 120.929034, 1.0], [14.483853, 121.014503, 1.0], [14.514697, 121.066055, 1.0], [14.549431, 121.033592, 1.0], [14.584232, 121.03904, 1.0], [14.596051, 120.978666, 89.0], [14.599352, 120.984772, 1.0], [14.647183, 121.103012, 1.0], [14.67428, 121.057495, 11.0], [14.679084, 120.539549, 5.0], [14.7166, 120.301567, 1.0], [14.799401, 120.926037, 1.0], [14.813849, 121.045151, 1.0], [14.838794, 120.285018, 1.0], [14.907244, 120.717412, 1.0], [14.953046, 120.768174, 1.0], [14.965546, 120.632488, 1.0], [15.065238, 120.720051, 1.0], [15.071862, 120.076634, 1.0], [15.153002, 120.591942, 19.0], [15.222743, 120.572886, 4.0], [15.325997, 119.980529, 2.0], [15.332693, 120.590212, 1.0], [15.476183, 120.960686, 2.0], [15.478598, 120.599741, 1.0], [15.481284, 120.596634, 1.0], [15.543534, 121.085281, 1.0], [15.631174, 121.145, 1.0], [15.808517, 121.146091, 1.0], [16.0274, 120.7434, 1.0], [16.030344, 120.229921, 1.0], [16.110705, 120.545466, 1.0], [16.3167, 121.2965, 1.0], [16.543576, 121.849185, 1.0], [16.771234, 121.098672, 1.0], [16.879671, 121.016035, 1.0], [16.883475, 120.97472, 1.0], [16.983333, 122.016667, 1.0], [17.091122, 120.978527, 1.0], [17.555726, 120.838718, 3.0], [17.56491, 120.651829, 1.0], [17.611375, 121.726748, 1.0], [17.629363, 120.938496, 1.0], [17.792192, 120.455709, 1.0], [17.842246, 121.390126, 1.0], [17.95476, 121.927803, 1.0], [18.195807, 120.592272, 1.0], [18.259177, 121.997309, 1.0], [18.261509, 121.996975, 1.0], [18.56163, 121.23189, 1.0], [18.561633, 120.787087, 1.0]],\n",
       "                {\n",
       "  &quot;minOpacity&quot;: 0.5,\n",
       "  &quot;maxZoom&quot;: 18,\n",
       "  &quot;radius&quot;: 25,\n",
       "  &quot;blur&quot;: 15,\n",
       "}\n",
       "            );\n",
       "        \n",
       "    \n",
       "            heat_map_b7613aa2aab89a364a5d76bbb52eab3e.addTo(map_f56972929af4c9d084806496831f8978);\n",
       "        \n",
       "    \n",
       "            tile_layer_efbec049c4915b75afa875f4ce971f72.addTo(map_f56972929af4c9d084806496831f8978);\n",
       "        \n",
       "    \n",
       "            heat_map_b7613aa2aab89a364a5d76bbb52eab3e.addTo(map_f56972929af4c9d084806496831f8978);\n",
       "        \n",
       "&lt;/script&gt;\n",
       "&lt;/html&gt;\" style=\"position:absolute;width:100%;height:100%;left:0;top:0;border:none !important;\" allowfullscreen webkitallowfullscreen mozallowfullscreen></iframe></div></div>"
      ],
      "text/plain": [
       "<folium.folium.Map at 0x1693cccf3d0>"
      ]
     },
     "execution_count": 101,
     "metadata": {},
     "output_type": "execute_result"
    }
   ],
   "source": [
    "coordinates = NPA_filter5.groupby(['latitude', 'longitude']).size().reset_index(name='incident_count')\n",
    "heatmap_data = coordinates[['latitude', 'longitude', 'incident_count']].values.tolist()\n",
    "NPA_Assassination_incidents = folium.Map(location = [12, 124.3], zoom_start =5.5)\n",
    "HeatMap(heatmap_data).add_to(NPA_Assassination_incidents)\n",
    "NPA_Assassination_incidents.save('terrorism_NPA_Assassination_incidents.html')\n",
    "NPA_Assassination_incidents"
   ]
  },
  {
   "cell_type": "markdown",
   "id": "3b2db96a-4c46-49a3-ae39-e11f30ae5d91",
   "metadata": {},
   "source": [
    "# Geographic Spread of Abu Sayyaf Terror Attacks in the Philippines (1991–2017)\r\n"
   ]
  },
  {
   "cell_type": "code",
   "execution_count": null,
   "id": "2e070189-3793-4f79-bbea-48923291dd8b",
   "metadata": {},
   "outputs": [],
   "source": [
    "# Abu Sayyaf Group (ASG)"
   ]
  },
  {
   "cell_type": "code",
   "execution_count": 103,
   "id": "bcd679aa-07aa-4927-9dd7-c47a8dd830e6",
   "metadata": {},
   "outputs": [],
   "source": [
    "ASG_filter1 = global_terrorist[global_terrorist['country_txt'] == 'Philippines']"
   ]
  },
  {
   "cell_type": "code",
   "execution_count": 104,
   "id": "fc1147da-db9e-42f1-b1bc-46ee5e5a7f33",
   "metadata": {},
   "outputs": [],
   "source": [
    "ASG_filter2 = ASG_filter1[(ASG_filter1['iyear'] >= 1990) & (ASG_filter1['iyear'] <= 2017)]"
   ]
  },
  {
   "cell_type": "code",
   "execution_count": 106,
   "id": "d4ac5f37-a90a-4c3b-be3b-92ba3d5a8d91",
   "metadata": {},
   "outputs": [],
   "source": [
    "ASG_filter3 = ASG_filter2[ASG_filter2['gname'] == \"Abu Sayyaf Group (ASG)\"]"
   ]
  },
  {
   "cell_type": "code",
   "execution_count": 107,
   "id": "9cc32795-f820-4413-b2f4-517358099975",
   "metadata": {},
   "outputs": [
    {
     "data": {
      "text/html": [
       "<div style=\"width:100%;\"><div style=\"position:relative;width:100%;height:0;padding-bottom:60%;\"><span style=\"color:#565656\">Make this Notebook Trusted to load map: File -> Trust Notebook</span><iframe srcdoc=\"&lt;!DOCTYPE html&gt;\n",
       "&lt;html&gt;\n",
       "&lt;head&gt;\n",
       "    \n",
       "    &lt;meta http-equiv=&quot;content-type&quot; content=&quot;text/html; charset=UTF-8&quot; /&gt;\n",
       "    \n",
       "        &lt;script&gt;\n",
       "            L_NO_TOUCH = false;\n",
       "            L_DISABLE_3D = false;\n",
       "        &lt;/script&gt;\n",
       "    \n",
       "    &lt;style&gt;html, body {width: 100%;height: 100%;margin: 0;padding: 0;}&lt;/style&gt;\n",
       "    &lt;style&gt;#map {position:absolute;top:0;bottom:0;right:0;left:0;}&lt;/style&gt;\n",
       "    &lt;script src=&quot;https://cdn.jsdelivr.net/npm/leaflet@1.9.3/dist/leaflet.js&quot;&gt;&lt;/script&gt;\n",
       "    &lt;script src=&quot;https://code.jquery.com/jquery-3.7.1.min.js&quot;&gt;&lt;/script&gt;\n",
       "    &lt;script src=&quot;https://cdn.jsdelivr.net/npm/bootstrap@5.2.2/dist/js/bootstrap.bundle.min.js&quot;&gt;&lt;/script&gt;\n",
       "    &lt;script src=&quot;https://cdnjs.cloudflare.com/ajax/libs/Leaflet.awesome-markers/2.0.2/leaflet.awesome-markers.js&quot;&gt;&lt;/script&gt;\n",
       "    &lt;link rel=&quot;stylesheet&quot; href=&quot;https://cdn.jsdelivr.net/npm/leaflet@1.9.3/dist/leaflet.css&quot;/&gt;\n",
       "    &lt;link rel=&quot;stylesheet&quot; href=&quot;https://cdn.jsdelivr.net/npm/bootstrap@5.2.2/dist/css/bootstrap.min.css&quot;/&gt;\n",
       "    &lt;link rel=&quot;stylesheet&quot; href=&quot;https://netdna.bootstrapcdn.com/bootstrap/3.0.0/css/bootstrap-glyphicons.css&quot;/&gt;\n",
       "    &lt;link rel=&quot;stylesheet&quot; href=&quot;https://cdn.jsdelivr.net/npm/@fortawesome/fontawesome-free@6.2.0/css/all.min.css&quot;/&gt;\n",
       "    &lt;link rel=&quot;stylesheet&quot; href=&quot;https://cdnjs.cloudflare.com/ajax/libs/Leaflet.awesome-markers/2.0.2/leaflet.awesome-markers.css&quot;/&gt;\n",
       "    &lt;link rel=&quot;stylesheet&quot; href=&quot;https://cdn.jsdelivr.net/gh/python-visualization/folium/folium/templates/leaflet.awesome.rotate.min.css&quot;/&gt;\n",
       "    \n",
       "            &lt;meta name=&quot;viewport&quot; content=&quot;width=device-width,\n",
       "                initial-scale=1.0, maximum-scale=1.0, user-scalable=no&quot; /&gt;\n",
       "            &lt;style&gt;\n",
       "                #map_cc0cd164f276d4bb86bc07d67a5ca543 {\n",
       "                    position: relative;\n",
       "                    width: 100.0%;\n",
       "                    height: 100.0%;\n",
       "                    left: 0.0%;\n",
       "                    top: 0.0%;\n",
       "                }\n",
       "                .leaflet-container { font-size: 1rem; }\n",
       "            &lt;/style&gt;\n",
       "        \n",
       "    &lt;script src=&quot;https://cdn.jsdelivr.net/gh/python-visualization/folium@main/folium/templates/leaflet_heat.min.js&quot;&gt;&lt;/script&gt;\n",
       "&lt;/head&gt;\n",
       "&lt;body&gt;\n",
       "    \n",
       "    \n",
       "            &lt;div class=&quot;folium-map&quot; id=&quot;map_cc0cd164f276d4bb86bc07d67a5ca543&quot; &gt;&lt;/div&gt;\n",
       "        \n",
       "&lt;/body&gt;\n",
       "&lt;script&gt;\n",
       "    \n",
       "    \n",
       "            var map_cc0cd164f276d4bb86bc07d67a5ca543 = L.map(\n",
       "                &quot;map_cc0cd164f276d4bb86bc07d67a5ca543&quot;,\n",
       "                {\n",
       "                    center: [12.0, 124.3],\n",
       "                    crs: L.CRS.EPSG3857,\n",
       "                    ...{\n",
       "  &quot;zoom&quot;: 5.5,\n",
       "  &quot;zoomControl&quot;: true,\n",
       "  &quot;preferCanvas&quot;: false,\n",
       "}\n",
       "\n",
       "                }\n",
       "            );\n",
       "\n",
       "            \n",
       "\n",
       "        \n",
       "    \n",
       "            var tile_layer_74d8f775f75f6c2a044bbf5e58a3e5c9 = L.tileLayer(\n",
       "                &quot;https://tile.openstreetmap.org/{z}/{x}/{y}.png&quot;,\n",
       "                {\n",
       "  &quot;minZoom&quot;: 0,\n",
       "  &quot;maxZoom&quot;: 19,\n",
       "  &quot;maxNativeZoom&quot;: 19,\n",
       "  &quot;noWrap&quot;: false,\n",
       "  &quot;attribution&quot;: &quot;\\u0026copy; \\u003ca href=\\&quot;https://www.openstreetmap.org/copyright\\&quot;\\u003eOpenStreetMap\\u003c/a\\u003e contributors&quot;,\n",
       "  &quot;subdomains&quot;: &quot;abc&quot;,\n",
       "  &quot;detectRetina&quot;: false,\n",
       "  &quot;tms&quot;: false,\n",
       "  &quot;opacity&quot;: 1,\n",
       "}\n",
       "\n",
       "            );\n",
       "        \n",
       "    \n",
       "            tile_layer_74d8f775f75f6c2a044bbf5e58a3e5c9.addTo(map_cc0cd164f276d4bb86bc07d67a5ca543);\n",
       "        \n",
       "    \n",
       "            var heat_map_96863150ddf87a74f5114029547c3514 = L.heatLayer(\n",
       "                [[4.66255, 119.394262, 1.0], [4.662801, 119.399601, 1.0], [4.897277, 119.84869, 1.0], [5.010223, 119.747485, 1.0], [5.030788, 119.775053, 1.0], [5.031979, 119.772504, 1.0], [5.032286, 119.772924, 1.0], [5.133811, 119.950926, 1.0], [5.13691, 119.945966, 1.0], [5.184828, 120.013958, 1.0], [5.30555, 120.125, 1.0], [5.544054, 120.815636, 2.0], [5.553923, 120.913233, 1.0], [5.821566, 125.200949, 1.0], [5.913349, 120.907287, 1.0], [5.9137, 120.9056, 4.0], [5.917386, 120.99701, 1.0], [5.927787, 121.028412, 2.0], [5.933025, 121.100058, 1.0], [5.933101, 121.025107, 1.0], [5.933405, 121.033258, 1.0], [5.933719, 120.999035, 1.0], [5.94255, 121.020864, 1.0], [5.951583, 120.939646, 1.0], [5.952552, 121.168179, 1.0], [5.960634, 120.961543, 1.0], [5.96147, 120.988483, 1.0], [5.965086, 121.070701, 1.0], [5.965263, 120.983076, 1.0], [5.968027, 121.035239, 1.0], [5.969181, 121.125214, 1.0], [5.969382, 121.044016, 1.0], [5.97314, 120.950344, 1.0], [5.9735, 120.9698, 3.0], [5.974901, 121.03351, 1.0], [5.975142, 121.114526, 1.0], [5.975499, 121.144835, 1.0], [5.976337, 121.223427, 1.0], [5.977475, 121.115015, 2.0], [5.977477, 121.115016, 1.0], [5.97972, 121.054829, 1.0], [5.980065, 121.054069, 1.0], [5.986263, 121.041354, 1.0], [5.989123, 120.953132, 1.0], [5.989145, 120.953212, 1.0], [5.989683, 121.039697, 2.0], [5.996383, 121.107944, 1.0], [6.005255, 121.308525, 1.0], [6.016509, 120.992552, 1.0], [6.019005, 121.121649, 1.0], [6.021834, 121.16568, 2.0], [6.02326, 121.091117, 1.0], [6.026667, 121.041667, 1.0], [6.027457, 121.046, 1.0], [6.030845, 121.046407, 1.0], [6.030861, 121.010221, 1.0], [6.031285, 120.971924, 1.0], [6.033317, 120.947301, 1.0], [6.036952, 121.037821, 1.0], [6.037169, 121.030406, 1.0], [6.037395, 121.039064, 1.0], [6.037483, 121.031254, 1.0], [6.04343, 120.994263, 4.0], [6.046389, 121.078056, 1.0], [6.046506, 121.008375, 1.0], [6.047448, 121.00131, 1.0], [6.048709, 121.029146, 1.0], [6.050458, 121.012245, 50.0], [6.050894, 120.993495, 1.0], [6.051232, 120.999851, 1.0], [6.052565, 121.146487, 1.0], [6.053166, 121.042788, 1.0], [6.053554, 121.059576, 1.0], [6.053897, 121.002855, 1.0], [6.05519, 121.001323, 7.0], [6.055578, 121.039629, 1.0], [6.056337, 121.055844, 1.0], [6.063022, 121.101819, 1.0], [6.063022, 121.102294, 3.0], [6.063023, 121.102294, 1.0], [6.064029, 121.159058, 2.0], [6.066398, 121.099947, 1.0], [6.066456, 121.100121, 1.0], [6.066531, 121.100068, 1.0], [6.066546, 121.100221, 1.0], [6.066667, 121.1, 5.0], [6.066693, 121.100042, 2.0], [6.066797, 121.09839, 1.0], [6.066812, 121.100482, 1.0], [6.066868, 121.100121, 1.0], [6.067119, 121.100362, 1.0], [6.067685, 121.099724, 1.0], [6.068013, 121.100433, 1.0], [6.068085, 121.059917, 2.0], [6.068398, 121.099529, 1.0], [6.068482, 121.034231, 1.0], [6.068588, 121.034669, 1.0], [6.069434, 121.032351, 1.0], [6.074574, 121.134326, 1.0], [6.077377, 121.082137, 1.0], [6.078236, 118.314049, 1.0], [6.078949, 118.314927, 1.0], [6.079257, 121.057255, 1.0], [6.084487, 121.085603, 1.0], [6.087954, 121.105416, 1.0], [6.088059, 121.099223, 1.0], [6.088221, 121.109329, 8.0], [6.089515, 121.105521, 1.0], [6.102634, 118.446977, 1.0], [6.11622, 125.169395, 4.0], [6.29059, 120.5657, 1.0], [6.30121, 120.573958, 1.0], [6.30158, 120.583999, 1.0], [6.301814, 120.583623, 1.0], [6.416943, 121.9835, 1.0], [6.41871, 121.972443, 12.0], [6.440039, 122.080475, 1.0], [6.440693, 121.958729, 1.0], [6.441898, 121.963071, 1.0], [6.448534, 121.968092, 1.0], [6.451931, 121.947789, 1.0], [6.451944, 121.947778, 1.0], [6.453899, 121.948123, 1.0], [6.462973, 122.171072, 1.0], [6.472241, 122.040186, 1.0], [6.474417, 122.105078, 1.0], [6.482175, 122.165286, 1.0], [6.482311, 121.96159, 1.0], [6.482905, 122.015549, 1.0], [6.484444, 122.140556, 1.0], [6.486859, 121.913314, 1.0], [6.487222, 121.978333, 4.0], [6.490778, 121.972431, 1.0], [6.491326, 122.143443, 1.0], [6.491515, 122.141717, 1.0], [6.493148, 122.165911, 1.0], [6.497216, 122.105141, 4.0], [6.497656, 124.849655, 3.0], [6.503613, 122.065841, 1.0], [6.516151, 121.910015, 2.0], [6.51792, 122.12822, 1.0], [6.524553, 122.011764, 1.0], [6.529908, 121.910195, 1.0], [6.532281, 121.998024, 1.0], [6.533565, 122.083748, 1.0], [6.533689, 122.166731, 1.0], [6.533711, 122.083978, 1.0], [6.533898, 122.166574, 1.0], [6.534351, 122.083873, 1.0], [6.535859, 122.145976, 1.0], [6.536668, 122.167236, 2.0], [6.537162, 122.163252, 2.0], [6.537222, 122.008611, 1.0], [6.537964, 121.890414, 1.0], [6.539852, 121.872945, 1.0], [6.545399, 121.873756, 4.0], [6.546997, 121.880423, 1.0], [6.549955, 121.883153, 1.0], [6.550444, 122.106467, 2.0], [6.550446, 122.106467, 1.0], [6.553941, 122.154736, 1.0], [6.556389, 122.186389, 1.0], [6.556828, 121.883449, 4.0], [6.563592, 122.116863, 1.0], [6.570331, 122.05425, 1.0], [6.570558, 122.029527, 1.0], [6.575322, 122.024186, 1.0], [6.578187, 122.031469, 1.0], [6.582303, 122.179241, 1.0], [6.588132, 122.178193, 1.0], [6.596997, 121.907486, 1.0], [6.598449, 122.040153, 1.0], [6.599126, 121.903267, 1.0], [6.599402, 121.904055, 1.0], [6.599405, 121.904057, 3.0], [6.601768, 122.17325, 1.0], [6.605444, 122.171429, 1.0], [6.606469, 122.192254, 3.0], [6.611512, 122.263054, 3.0], [6.619005, 122.256968, 1.0], [6.62139, 122.143825, 1.0], [6.637796, 124.599145, 1.0], [6.642103, 122.136596, 1.0], [6.642188, 122.135695, 1.0], [6.643113, 122.273422, 1.0], [6.643853, 122.156371, 1.0], [6.644421, 122.273133, 4.0], [6.644703, 122.299491, 1.0], [6.644897, 122.099807, 1.0], [6.645308, 122.10184, 8.0], [6.645556, 122.101944, 6.0], [6.64982, 122.133453, 1.0], [6.649966, 122.133527, 1.0], [6.649968, 122.133342, 1.0], [6.652975, 122.135651, 1.0], [6.654902, 122.124129, 1.0], [6.656903, 122.14467, 1.0], [6.65877, 122.13411, 1.0], [6.660501, 122.138992, 21.0], [6.660596, 122.144832, 1.0], [6.661519, 122.106467, 1.0], [6.66164, 122.106423, 1.0], [6.664421, 122.185398, 1.0], [6.664973, 122.154736, 2.0], [6.665912, 122.154839, 1.0], [6.672538, 121.851487, 1.0], [6.681959, 121.985477, 14.0], [6.687595, 121.981334, 1.0], [6.697343, 125.082779, 1.0], [6.697778, 122.049167, 1.0], [6.700414, 121.972557, 16.0], [6.703352, 121.968689, 3.0], [6.704221, 121.973842, 1.0], [6.705001, 121.970605, 1.0], [6.706642, 121.973673, 1.0], [6.71223, 121.968883, 1.0], [6.720228, 122.030205, 1.0], [6.741797, 122.398145, 2.0], [6.887752, 122.154588, 1.0], [6.893792, 122.167579, 1.0], [6.929089, 122.07885, 41.0], [6.950278, 121.981389, 1.0], [6.961095, 122.143376, 1.0], [7.024267, 122.188903, 1.0], [7.037435, 118.511496, 1.0], [7.075778, 125.587755, 1.0], [7.083241, 125.600998, 3.0], [7.099262, 122.237204, 1.0], [7.109883, 124.824303, 1.0], [7.163015, 124.215696, 1.0], [7.209594, 124.241966, 3.0], [7.237076, 122.254793, 1.0], [7.291386, 122.064633, 1.0], [7.307012, 122.845741, 1.0], [7.317287, 122.875178, 1.0], [7.371303, 122.288987, 1.0], [7.451227, 123.313767, 1.0], [7.548409, 122.338157, 1.0], [7.582127, 122.856814, 1.0], [7.585122, 122.142525, 1.0], [7.601144, 122.428098, 1.0], [7.659503, 122.469391, 1.0], [7.674924, 123.152963, 1.0], [7.70325, 122.132102, 1.0], [7.706753, 122.138522, 1.0], [7.746118, 122.967087, 1.0], [7.751209, 123.148704, 2.0], [7.761796, 122.582514, 1.0], [7.769235, 123.133354, 1.0], [7.78403, 122.593085, 2.0], [7.784172, 122.583282, 1.0], [7.785306, 122.592856, 1.0], [7.790212, 122.783317, 1.0], [7.798649, 122.139514, 1.0], [7.807529, 122.701115, 1.0], [8.066727, 122.516607, 1.0], [8.110727, 122.7883, 1.0], [8.304936, 125.003254, 1.0], [8.582775, 123.342894, 1.0], [8.673704, 117.627555, 1.0], [8.745833, 123.222222, 1.0], [9.783552, 124.301971, 1.0], [9.899154, 123.840475, 1.0], [9.915267, 118.877188, 1.0], [10.338213, 123.942398, 1.0], [10.728829, 123.82764, 1.0], [14.549431, 121.033592, 1.0], [14.601285, 120.952293, 1.0], [14.67428, 121.057495, 2.0]],\n",
       "                {\n",
       "  &quot;minOpacity&quot;: 0.5,\n",
       "  &quot;maxZoom&quot;: 18,\n",
       "  &quot;radius&quot;: 25,\n",
       "  &quot;blur&quot;: 15,\n",
       "}\n",
       "            );\n",
       "        \n",
       "    \n",
       "            heat_map_96863150ddf87a74f5114029547c3514.addTo(map_cc0cd164f276d4bb86bc07d67a5ca543);\n",
       "        \n",
       "    \n",
       "            tile_layer_74d8f775f75f6c2a044bbf5e58a3e5c9.addTo(map_cc0cd164f276d4bb86bc07d67a5ca543);\n",
       "        \n",
       "    \n",
       "            heat_map_96863150ddf87a74f5114029547c3514.addTo(map_cc0cd164f276d4bb86bc07d67a5ca543);\n",
       "        \n",
       "&lt;/script&gt;\n",
       "&lt;/html&gt;\" style=\"position:absolute;width:100%;height:100%;left:0;top:0;border:none !important;\" allowfullscreen webkitallowfullscreen mozallowfullscreen></iframe></div></div>"
      ],
      "text/plain": [
       "<folium.folium.Map at 0x1693cccf610>"
      ]
     },
     "execution_count": 107,
     "metadata": {},
     "output_type": "execute_result"
    }
   ],
   "source": [
    "coordinates = ASG_filter3.groupby(['latitude', 'longitude']).size().reset_index(name='incident_count')\n",
    "heatmap_data = coordinates[['latitude', 'longitude', 'incident_count']].values.tolist()\n",
    "ASG_incidents = folium.Map(location = [12, 124.3], zoom_start =5.5)\n",
    "HeatMap(heatmap_data).add_to(ASG_incidents)\n",
    "ASG_incidents.save('terrorism_ASG_incidents.html')\n",
    "ASG_incidents"
   ]
  },
  {
   "cell_type": "code",
   "execution_count": 108,
   "id": "7d6b31fa-35f7-451b-bbe3-40e35a33f0ef",
   "metadata": {},
   "outputs": [
    {
     "data": {
      "text/plain": [
       "attacktype1_txt\n",
       "Bombing/Explosion                      209\n",
       "Hostage Taking (Kidnapping)            162\n",
       "Armed Assault                           98\n",
       "Assassination                           16\n",
       "Hijacking                                9\n",
       "Unknown                                  8\n",
       "Facility/Infrastructure Attack           4\n",
       "Hostage Taking (Barricade Incident)      2\n",
       "Name: count, dtype: int64"
      ]
     },
     "execution_count": 108,
     "metadata": {},
     "output_type": "execute_result"
    }
   ],
   "source": [
    "ASG_filter3['attacktype1_txt'].value_counts()"
   ]
  },
  {
   "cell_type": "code",
   "execution_count": 109,
   "id": "69e0e2d1-d868-4881-a287-398bc0983044",
   "metadata": {},
   "outputs": [],
   "source": [
    "ASG_filter4 = ASG_filter3[ASG_filter3['attacktype1_txt']=='Bombing/Explosion']\n",
    "ASG_filter5 = ASG_filter3[ASG_filter3['attacktype1_txt']=='Hostage Taking (Kidnapping)']"
   ]
  },
  {
   "cell_type": "code",
   "execution_count": 110,
   "id": "057e74c5-e000-44fc-8aec-f7b0300fc2d8",
   "metadata": {},
   "outputs": [
    {
     "data": {
      "text/html": [
       "<div style=\"width:100%;\"><div style=\"position:relative;width:100%;height:0;padding-bottom:60%;\"><span style=\"color:#565656\">Make this Notebook Trusted to load map: File -> Trust Notebook</span><iframe srcdoc=\"&lt;!DOCTYPE html&gt;\n",
       "&lt;html&gt;\n",
       "&lt;head&gt;\n",
       "    \n",
       "    &lt;meta http-equiv=&quot;content-type&quot; content=&quot;text/html; charset=UTF-8&quot; /&gt;\n",
       "    \n",
       "        &lt;script&gt;\n",
       "            L_NO_TOUCH = false;\n",
       "            L_DISABLE_3D = false;\n",
       "        &lt;/script&gt;\n",
       "    \n",
       "    &lt;style&gt;html, body {width: 100%;height: 100%;margin: 0;padding: 0;}&lt;/style&gt;\n",
       "    &lt;style&gt;#map {position:absolute;top:0;bottom:0;right:0;left:0;}&lt;/style&gt;\n",
       "    &lt;script src=&quot;https://cdn.jsdelivr.net/npm/leaflet@1.9.3/dist/leaflet.js&quot;&gt;&lt;/script&gt;\n",
       "    &lt;script src=&quot;https://code.jquery.com/jquery-3.7.1.min.js&quot;&gt;&lt;/script&gt;\n",
       "    &lt;script src=&quot;https://cdn.jsdelivr.net/npm/bootstrap@5.2.2/dist/js/bootstrap.bundle.min.js&quot;&gt;&lt;/script&gt;\n",
       "    &lt;script src=&quot;https://cdnjs.cloudflare.com/ajax/libs/Leaflet.awesome-markers/2.0.2/leaflet.awesome-markers.js&quot;&gt;&lt;/script&gt;\n",
       "    &lt;link rel=&quot;stylesheet&quot; href=&quot;https://cdn.jsdelivr.net/npm/leaflet@1.9.3/dist/leaflet.css&quot;/&gt;\n",
       "    &lt;link rel=&quot;stylesheet&quot; href=&quot;https://cdn.jsdelivr.net/npm/bootstrap@5.2.2/dist/css/bootstrap.min.css&quot;/&gt;\n",
       "    &lt;link rel=&quot;stylesheet&quot; href=&quot;https://netdna.bootstrapcdn.com/bootstrap/3.0.0/css/bootstrap-glyphicons.css&quot;/&gt;\n",
       "    &lt;link rel=&quot;stylesheet&quot; href=&quot;https://cdn.jsdelivr.net/npm/@fortawesome/fontawesome-free@6.2.0/css/all.min.css&quot;/&gt;\n",
       "    &lt;link rel=&quot;stylesheet&quot; href=&quot;https://cdnjs.cloudflare.com/ajax/libs/Leaflet.awesome-markers/2.0.2/leaflet.awesome-markers.css&quot;/&gt;\n",
       "    &lt;link rel=&quot;stylesheet&quot; href=&quot;https://cdn.jsdelivr.net/gh/python-visualization/folium/folium/templates/leaflet.awesome.rotate.min.css&quot;/&gt;\n",
       "    \n",
       "            &lt;meta name=&quot;viewport&quot; content=&quot;width=device-width,\n",
       "                initial-scale=1.0, maximum-scale=1.0, user-scalable=no&quot; /&gt;\n",
       "            &lt;style&gt;\n",
       "                #map_8ca5b89dd7ce98c55809e1c20677afb7 {\n",
       "                    position: relative;\n",
       "                    width: 100.0%;\n",
       "                    height: 100.0%;\n",
       "                    left: 0.0%;\n",
       "                    top: 0.0%;\n",
       "                }\n",
       "                .leaflet-container { font-size: 1rem; }\n",
       "            &lt;/style&gt;\n",
       "        \n",
       "    &lt;script src=&quot;https://cdn.jsdelivr.net/gh/python-visualization/folium@main/folium/templates/leaflet_heat.min.js&quot;&gt;&lt;/script&gt;\n",
       "&lt;/head&gt;\n",
       "&lt;body&gt;\n",
       "    \n",
       "    \n",
       "            &lt;div class=&quot;folium-map&quot; id=&quot;map_8ca5b89dd7ce98c55809e1c20677afb7&quot; &gt;&lt;/div&gt;\n",
       "        \n",
       "&lt;/body&gt;\n",
       "&lt;script&gt;\n",
       "    \n",
       "    \n",
       "            var map_8ca5b89dd7ce98c55809e1c20677afb7 = L.map(\n",
       "                &quot;map_8ca5b89dd7ce98c55809e1c20677afb7&quot;,\n",
       "                {\n",
       "                    center: [12.0, 124.3],\n",
       "                    crs: L.CRS.EPSG3857,\n",
       "                    ...{\n",
       "  &quot;zoom&quot;: 5.5,\n",
       "  &quot;zoomControl&quot;: true,\n",
       "  &quot;preferCanvas&quot;: false,\n",
       "}\n",
       "\n",
       "                }\n",
       "            );\n",
       "\n",
       "            \n",
       "\n",
       "        \n",
       "    \n",
       "            var tile_layer_719881ed0db68096c8542feb807b2f10 = L.tileLayer(\n",
       "                &quot;https://tile.openstreetmap.org/{z}/{x}/{y}.png&quot;,\n",
       "                {\n",
       "  &quot;minZoom&quot;: 0,\n",
       "  &quot;maxZoom&quot;: 19,\n",
       "  &quot;maxNativeZoom&quot;: 19,\n",
       "  &quot;noWrap&quot;: false,\n",
       "  &quot;attribution&quot;: &quot;\\u0026copy; \\u003ca href=\\&quot;https://www.openstreetmap.org/copyright\\&quot;\\u003eOpenStreetMap\\u003c/a\\u003e contributors&quot;,\n",
       "  &quot;subdomains&quot;: &quot;abc&quot;,\n",
       "  &quot;detectRetina&quot;: false,\n",
       "  &quot;tms&quot;: false,\n",
       "  &quot;opacity&quot;: 1,\n",
       "}\n",
       "\n",
       "            );\n",
       "        \n",
       "    \n",
       "            tile_layer_719881ed0db68096c8542feb807b2f10.addTo(map_8ca5b89dd7ce98c55809e1c20677afb7);\n",
       "        \n",
       "    \n",
       "            var heat_map_2cacdab0f74e940eb69d30beaea05272 = L.heatLayer(\n",
       "                [[5.94255, 121.020864, 1.0], [5.969382, 121.044016, 1.0], [5.9735, 120.9698, 1.0], [5.977475, 121.115015, 1.0], [5.97972, 121.054829, 1.0], [5.980065, 121.054069, 1.0], [5.989145, 120.953212, 1.0], [6.021834, 121.16568, 1.0], [6.033317, 120.947301, 1.0], [6.037169, 121.030406, 1.0], [6.037483, 121.031254, 1.0], [6.04343, 120.994263, 2.0], [6.046389, 121.078056, 1.0], [6.046506, 121.008375, 1.0], [6.047448, 121.00131, 1.0], [6.050458, 121.012245, 32.0], [6.052565, 121.146487, 1.0], [6.05519, 121.001323, 1.0], [6.056337, 121.055844, 1.0], [6.066667, 121.1, 2.0], [6.066693, 121.100042, 1.0], [6.067119, 121.100362, 1.0], [6.068013, 121.100433, 1.0], [6.068085, 121.059917, 1.0], [6.069434, 121.032351, 1.0], [6.074574, 121.134326, 1.0], [6.087954, 121.105416, 1.0], [6.11622, 125.169395, 4.0], [6.41871, 121.972443, 6.0], [6.462973, 122.171072, 1.0], [6.474417, 122.105078, 1.0], [6.482175, 122.165286, 1.0], [6.482311, 121.96159, 1.0], [6.486859, 121.913314, 1.0], [6.487222, 121.978333, 1.0], [6.491326, 122.143443, 1.0], [6.493148, 122.165911, 1.0], [6.497216, 122.105141, 2.0], [6.497656, 124.849655, 3.0], [6.533689, 122.166731, 1.0], [6.533898, 122.166574, 1.0], [6.535859, 122.145976, 1.0], [6.536668, 122.167236, 2.0], [6.537964, 121.890414, 1.0], [6.545399, 121.873756, 1.0], [6.556828, 121.883449, 1.0], [6.563592, 122.116863, 1.0], [6.588132, 122.178193, 1.0], [6.601768, 122.17325, 1.0], [6.605444, 122.171429, 1.0], [6.606469, 122.192254, 2.0], [6.611512, 122.263054, 2.0], [6.637796, 124.599145, 1.0], [6.642103, 122.136596, 1.0], [6.643113, 122.273422, 1.0], [6.643853, 122.156371, 1.0], [6.645308, 122.10184, 2.0], [6.645556, 122.101944, 1.0], [6.649966, 122.133527, 1.0], [6.649968, 122.133342, 1.0], [6.652975, 122.135651, 1.0], [6.654902, 122.124129, 1.0], [6.656903, 122.14467, 1.0], [6.65877, 122.13411, 1.0], [6.660501, 122.138992, 18.0], [6.660596, 122.144832, 1.0], [6.66164, 122.106423, 1.0], [6.664973, 122.154736, 2.0], [6.665912, 122.154839, 1.0], [6.681959, 121.985477, 12.0], [6.687595, 121.981334, 1.0], [6.697343, 125.082779, 1.0], [6.697778, 122.049167, 1.0], [6.700414, 121.972557, 9.0], [6.703352, 121.968689, 1.0], [6.706642, 121.973673, 1.0], [6.71223, 121.968883, 1.0], [6.929089, 122.07885, 33.0], [7.024267, 122.188903, 1.0], [7.083241, 125.600998, 3.0], [7.109883, 124.824303, 1.0], [7.163015, 124.215696, 1.0], [7.209594, 124.241966, 2.0], [7.798649, 122.139514, 1.0], [8.304936, 125.003254, 1.0], [14.549431, 121.033592, 1.0], [14.601285, 120.952293, 1.0], [14.67428, 121.057495, 2.0]],\n",
       "                {\n",
       "  &quot;minOpacity&quot;: 0.5,\n",
       "  &quot;maxZoom&quot;: 18,\n",
       "  &quot;radius&quot;: 25,\n",
       "  &quot;blur&quot;: 15,\n",
       "}\n",
       "            );\n",
       "        \n",
       "    \n",
       "            heat_map_2cacdab0f74e940eb69d30beaea05272.addTo(map_8ca5b89dd7ce98c55809e1c20677afb7);\n",
       "        \n",
       "    \n",
       "            tile_layer_719881ed0db68096c8542feb807b2f10.addTo(map_8ca5b89dd7ce98c55809e1c20677afb7);\n",
       "        \n",
       "    \n",
       "            heat_map_2cacdab0f74e940eb69d30beaea05272.addTo(map_8ca5b89dd7ce98c55809e1c20677afb7);\n",
       "        \n",
       "&lt;/script&gt;\n",
       "&lt;/html&gt;\" style=\"position:absolute;width:100%;height:100%;left:0;top:0;border:none !important;\" allowfullscreen webkitallowfullscreen mozallowfullscreen></iframe></div></div>"
      ],
      "text/plain": [
       "<folium.folium.Map at 0x1693db4f810>"
      ]
     },
     "execution_count": 110,
     "metadata": {},
     "output_type": "execute_result"
    }
   ],
   "source": [
    "coordinates = ASG_filter4.groupby(['latitude', 'longitude']).size().reset_index(name='incident_count')\n",
    "heatmap_data = coordinates[['latitude', 'longitude', 'incident_count']].values.tolist()\n",
    "ASG_Bombing_incidents = folium.Map(location = [12, 124.3], zoom_start =5.5)\n",
    "HeatMap(heatmap_data).add_to(ASG_Bombing_incidents)\n",
    "ASG_Bombing_incidents.save('terrorism_ASG_Bombing_incidents.html')\n",
    "ASG_Bombing_incidents"
   ]
  },
  {
   "cell_type": "code",
   "execution_count": 111,
   "id": "483e0abc-3a7d-49a6-b620-a5afe7bfcc1b",
   "metadata": {},
   "outputs": [
    {
     "data": {
      "text/html": [
       "<div style=\"width:100%;\"><div style=\"position:relative;width:100%;height:0;padding-bottom:60%;\"><span style=\"color:#565656\">Make this Notebook Trusted to load map: File -> Trust Notebook</span><iframe srcdoc=\"&lt;!DOCTYPE html&gt;\n",
       "&lt;html&gt;\n",
       "&lt;head&gt;\n",
       "    \n",
       "    &lt;meta http-equiv=&quot;content-type&quot; content=&quot;text/html; charset=UTF-8&quot; /&gt;\n",
       "    \n",
       "        &lt;script&gt;\n",
       "            L_NO_TOUCH = false;\n",
       "            L_DISABLE_3D = false;\n",
       "        &lt;/script&gt;\n",
       "    \n",
       "    &lt;style&gt;html, body {width: 100%;height: 100%;margin: 0;padding: 0;}&lt;/style&gt;\n",
       "    &lt;style&gt;#map {position:absolute;top:0;bottom:0;right:0;left:0;}&lt;/style&gt;\n",
       "    &lt;script src=&quot;https://cdn.jsdelivr.net/npm/leaflet@1.9.3/dist/leaflet.js&quot;&gt;&lt;/script&gt;\n",
       "    &lt;script src=&quot;https://code.jquery.com/jquery-3.7.1.min.js&quot;&gt;&lt;/script&gt;\n",
       "    &lt;script src=&quot;https://cdn.jsdelivr.net/npm/bootstrap@5.2.2/dist/js/bootstrap.bundle.min.js&quot;&gt;&lt;/script&gt;\n",
       "    &lt;script src=&quot;https://cdnjs.cloudflare.com/ajax/libs/Leaflet.awesome-markers/2.0.2/leaflet.awesome-markers.js&quot;&gt;&lt;/script&gt;\n",
       "    &lt;link rel=&quot;stylesheet&quot; href=&quot;https://cdn.jsdelivr.net/npm/leaflet@1.9.3/dist/leaflet.css&quot;/&gt;\n",
       "    &lt;link rel=&quot;stylesheet&quot; href=&quot;https://cdn.jsdelivr.net/npm/bootstrap@5.2.2/dist/css/bootstrap.min.css&quot;/&gt;\n",
       "    &lt;link rel=&quot;stylesheet&quot; href=&quot;https://netdna.bootstrapcdn.com/bootstrap/3.0.0/css/bootstrap-glyphicons.css&quot;/&gt;\n",
       "    &lt;link rel=&quot;stylesheet&quot; href=&quot;https://cdn.jsdelivr.net/npm/@fortawesome/fontawesome-free@6.2.0/css/all.min.css&quot;/&gt;\n",
       "    &lt;link rel=&quot;stylesheet&quot; href=&quot;https://cdnjs.cloudflare.com/ajax/libs/Leaflet.awesome-markers/2.0.2/leaflet.awesome-markers.css&quot;/&gt;\n",
       "    &lt;link rel=&quot;stylesheet&quot; href=&quot;https://cdn.jsdelivr.net/gh/python-visualization/folium/folium/templates/leaflet.awesome.rotate.min.css&quot;/&gt;\n",
       "    \n",
       "            &lt;meta name=&quot;viewport&quot; content=&quot;width=device-width,\n",
       "                initial-scale=1.0, maximum-scale=1.0, user-scalable=no&quot; /&gt;\n",
       "            &lt;style&gt;\n",
       "                #map_17e10aa2feebfe8bba2afd74c4086624 {\n",
       "                    position: relative;\n",
       "                    width: 100.0%;\n",
       "                    height: 100.0%;\n",
       "                    left: 0.0%;\n",
       "                    top: 0.0%;\n",
       "                }\n",
       "                .leaflet-container { font-size: 1rem; }\n",
       "            &lt;/style&gt;\n",
       "        \n",
       "    &lt;script src=&quot;https://cdn.jsdelivr.net/gh/python-visualization/folium@main/folium/templates/leaflet_heat.min.js&quot;&gt;&lt;/script&gt;\n",
       "&lt;/head&gt;\n",
       "&lt;body&gt;\n",
       "    \n",
       "    \n",
       "            &lt;div class=&quot;folium-map&quot; id=&quot;map_17e10aa2feebfe8bba2afd74c4086624&quot; &gt;&lt;/div&gt;\n",
       "        \n",
       "&lt;/body&gt;\n",
       "&lt;script&gt;\n",
       "    \n",
       "    \n",
       "            var map_17e10aa2feebfe8bba2afd74c4086624 = L.map(\n",
       "                &quot;map_17e10aa2feebfe8bba2afd74c4086624&quot;,\n",
       "                {\n",
       "                    center: [12.0, 124.3],\n",
       "                    crs: L.CRS.EPSG3857,\n",
       "                    ...{\n",
       "  &quot;zoom&quot;: 5.5,\n",
       "  &quot;zoomControl&quot;: true,\n",
       "  &quot;preferCanvas&quot;: false,\n",
       "}\n",
       "\n",
       "                }\n",
       "            );\n",
       "\n",
       "            \n",
       "\n",
       "        \n",
       "    \n",
       "            var tile_layer_105f8838d352d86bd17e4a4525c3553d = L.tileLayer(\n",
       "                &quot;https://tile.openstreetmap.org/{z}/{x}/{y}.png&quot;,\n",
       "                {\n",
       "  &quot;minZoom&quot;: 0,\n",
       "  &quot;maxZoom&quot;: 19,\n",
       "  &quot;maxNativeZoom&quot;: 19,\n",
       "  &quot;noWrap&quot;: false,\n",
       "  &quot;attribution&quot;: &quot;\\u0026copy; \\u003ca href=\\&quot;https://www.openstreetmap.org/copyright\\&quot;\\u003eOpenStreetMap\\u003c/a\\u003e contributors&quot;,\n",
       "  &quot;subdomains&quot;: &quot;abc&quot;,\n",
       "  &quot;detectRetina&quot;: false,\n",
       "  &quot;tms&quot;: false,\n",
       "  &quot;opacity&quot;: 1,\n",
       "}\n",
       "\n",
       "            );\n",
       "        \n",
       "    \n",
       "            tile_layer_105f8838d352d86bd17e4a4525c3553d.addTo(map_17e10aa2feebfe8bba2afd74c4086624);\n",
       "        \n",
       "    \n",
       "            var heat_map_8d4bdaa30a4a3756d868b5946bfac064 = L.heatLayer(\n",
       "                [[4.662801, 119.399601, 1.0], [4.897277, 119.84869, 1.0], [5.010223, 119.747485, 1.0], [5.030788, 119.775053, 1.0], [5.032286, 119.772924, 1.0], [5.13691, 119.945966, 1.0], [5.184828, 120.013958, 1.0], [5.544054, 120.815636, 2.0], [5.553923, 120.913233, 1.0], [5.821566, 125.200949, 1.0], [5.9137, 120.9056, 4.0], [5.917386, 120.99701, 1.0], [5.927787, 121.028412, 1.0], [5.933405, 121.033258, 1.0], [5.933719, 120.999035, 1.0], [5.952552, 121.168179, 1.0], [5.960634, 120.961543, 1.0], [5.96147, 120.988483, 1.0], [5.969181, 121.125214, 1.0], [5.976337, 121.223427, 1.0], [5.977475, 121.115015, 1.0], [5.989123, 120.953132, 1.0], [5.989683, 121.039697, 2.0], [5.996383, 121.107944, 1.0], [6.016509, 120.992552, 1.0], [6.019005, 121.121649, 1.0], [6.021834, 121.16568, 1.0], [6.031285, 120.971924, 1.0], [6.036952, 121.037821, 1.0], [6.04343, 120.994263, 2.0], [6.048709, 121.029146, 1.0], [6.050458, 121.012245, 13.0], [6.050894, 120.993495, 1.0], [6.051232, 120.999851, 1.0], [6.053554, 121.059576, 1.0], [6.053897, 121.002855, 1.0], [6.05519, 121.001323, 2.0], [6.055578, 121.039629, 1.0], [6.063022, 121.102294, 2.0], [6.066456, 121.100121, 1.0], [6.066546, 121.100221, 1.0], [6.066667, 121.1, 3.0], [6.066812, 121.100482, 1.0], [6.066868, 121.100121, 1.0], [6.067685, 121.099724, 1.0], [6.068482, 121.034231, 1.0], [6.078236, 118.314049, 1.0], [6.078949, 118.314927, 1.0], [6.079257, 121.057255, 1.0], [6.084487, 121.085603, 1.0], [6.088221, 121.109329, 4.0], [6.29059, 120.5657, 1.0], [6.30121, 120.573958, 1.0], [6.30158, 120.583999, 1.0], [6.301814, 120.583623, 1.0], [6.416943, 121.9835, 1.0], [6.41871, 121.972443, 1.0], [6.453899, 121.948123, 1.0], [6.490778, 121.972431, 1.0], [6.497216, 122.105141, 1.0], [6.503613, 122.065841, 1.0], [6.51792, 122.12822, 1.0], [6.529908, 121.910195, 1.0], [6.533711, 122.083978, 1.0], [6.539852, 121.872945, 1.0], [6.545399, 121.873756, 3.0], [6.556828, 121.883449, 1.0], [6.570331, 122.05425, 1.0], [6.575322, 122.024186, 1.0], [6.582303, 122.179241, 1.0], [6.596997, 121.907486, 1.0], [6.598449, 122.040153, 1.0], [6.599126, 121.903267, 1.0], [6.599402, 121.904055, 1.0], [6.599405, 121.904057, 1.0], [6.606469, 122.192254, 1.0], [6.619005, 122.256968, 1.0], [6.62139, 122.143825, 1.0], [6.644421, 122.273133, 1.0], [6.645308, 122.10184, 5.0], [6.645556, 122.101944, 1.0], [6.660501, 122.138992, 2.0], [6.664421, 122.185398, 1.0], [6.700414, 121.972557, 3.0], [6.703352, 121.968689, 2.0], [6.704221, 121.973842, 1.0], [6.705001, 121.970605, 1.0], [6.720228, 122.030205, 1.0], [6.887752, 122.154588, 1.0], [6.929089, 122.07885, 7.0], [6.950278, 121.981389, 1.0], [6.961095, 122.143376, 1.0], [7.037435, 118.511496, 1.0], [7.075778, 125.587755, 1.0], [7.209594, 124.241966, 1.0], [7.291386, 122.064633, 1.0], [7.307012, 122.845741, 1.0], [7.317287, 122.875178, 1.0], [7.451227, 123.313767, 1.0], [7.548409, 122.338157, 1.0], [7.582127, 122.856814, 1.0], [7.585122, 122.142525, 1.0], [7.659503, 122.469391, 1.0], [7.674924, 123.152963, 1.0], [7.706753, 122.138522, 1.0], [7.746118, 122.967087, 1.0], [7.761796, 122.582514, 1.0], [7.769235, 123.133354, 1.0], [7.78403, 122.593085, 1.0], [7.784172, 122.583282, 1.0], [7.785306, 122.592856, 1.0], [7.790212, 122.783317, 1.0], [7.807529, 122.701115, 1.0], [8.066727, 122.516607, 1.0], [8.110727, 122.7883, 1.0], [8.582775, 123.342894, 1.0], [8.673704, 117.627555, 1.0], [9.783552, 124.301971, 1.0], [9.915267, 118.877188, 1.0], [10.338213, 123.942398, 1.0]],\n",
       "                {\n",
       "  &quot;minOpacity&quot;: 0.5,\n",
       "  &quot;maxZoom&quot;: 18,\n",
       "  &quot;radius&quot;: 25,\n",
       "  &quot;blur&quot;: 15,\n",
       "}\n",
       "            );\n",
       "        \n",
       "    \n",
       "            heat_map_8d4bdaa30a4a3756d868b5946bfac064.addTo(map_17e10aa2feebfe8bba2afd74c4086624);\n",
       "        \n",
       "    \n",
       "            tile_layer_105f8838d352d86bd17e4a4525c3553d.addTo(map_17e10aa2feebfe8bba2afd74c4086624);\n",
       "        \n",
       "    \n",
       "            heat_map_8d4bdaa30a4a3756d868b5946bfac064.addTo(map_17e10aa2feebfe8bba2afd74c4086624);\n",
       "        \n",
       "&lt;/script&gt;\n",
       "&lt;/html&gt;\" style=\"position:absolute;width:100%;height:100%;left:0;top:0;border:none !important;\" allowfullscreen webkitallowfullscreen mozallowfullscreen></iframe></div></div>"
      ],
      "text/plain": [
       "<folium.folium.Map at 0x1693dcfe150>"
      ]
     },
     "execution_count": 111,
     "metadata": {},
     "output_type": "execute_result"
    }
   ],
   "source": [
    "coordinates = ASG_filter5.groupby(['latitude', 'longitude']).size().reset_index(name='incident_count')\n",
    "heatmap_data = coordinates[['latitude', 'longitude', 'incident_count']].values.tolist()\n",
    "ASG_Kidnapping_incidents = folium.Map(location = [12, 124.3], zoom_start =5.5)\n",
    "HeatMap(heatmap_data).add_to(ASG_Kidnapping_incidents)\n",
    "ASG_Kidnapping_incidents.save('terrorism_ASG_Kidnapping_incidents.html')\n",
    "ASG_Kidnapping_incidents"
   ]
  },
  {
   "cell_type": "code",
   "execution_count": null,
   "id": "6c3f1120-22ba-434e-9c1c-9ac0a300bce8",
   "metadata": {},
   "outputs": [],
   "source": []
  }
 ],
 "metadata": {
  "kernelspec": {
   "display_name": "Python 3 (ipykernel)",
   "language": "python",
   "name": "python3"
  },
  "language_info": {
   "codemirror_mode": {
    "name": "ipython",
    "version": 3
   },
   "file_extension": ".py",
   "mimetype": "text/x-python",
   "name": "python",
   "nbconvert_exporter": "python",
   "pygments_lexer": "ipython3",
   "version": "3.11.4"
  }
 },
 "nbformat": 4,
 "nbformat_minor": 5
}
